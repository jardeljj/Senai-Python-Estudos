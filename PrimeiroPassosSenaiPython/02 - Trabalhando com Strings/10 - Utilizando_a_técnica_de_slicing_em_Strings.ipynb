{
 "cells": [
  {
   "cell_type": "markdown",
   "metadata": {
    "id": "dO8sk6d0Sbrk"
   },
   "source": [
    "# Slicing (fatiamento)\n",
    "\n",
    "A técnica de fatiamento nos permite acessar partes de uma string utilizando a notação de índice.\n",
    "\n"
   ]
  },
  {
   "cell_type": "markdown",
   "metadata": {
    "id": "Gi5T1DjSS2a_"
   },
   "source": [
    "## Acessando o índice"
   ]
  },
  {
   "cell_type": "code",
   "execution_count": 1,
   "metadata": {
    "id": "DXXlyMrzTXDx"
   },
   "outputs": [],
   "source": [
    "frase = 'Meu nome é João e eu estou estudando Python.'"
   ]
  },
  {
   "cell_type": "code",
   "execution_count": 2,
   "metadata": {
    "colab": {
     "base_uri": "https://localhost:8080/",
     "height": 35
    },
    "id": "QSaf6RExVfkk",
    "outputId": "6b28bb69-0021-48ea-dc71-9be58cbad096"
   },
   "outputs": [
    {
     "data": {
      "text/plain": [
       "'M'"
      ]
     },
     "execution_count": 2,
     "metadata": {},
     "output_type": "execute_result"
    }
   ],
   "source": [
    "frase[0]"
   ]
  },
  {
   "cell_type": "code",
   "execution_count": 3,
   "metadata": {
    "colab": {
     "base_uri": "https://localhost:8080/",
     "height": 35
    },
    "id": "iN17lF-NVmlM",
    "outputId": "2aeacfe8-8f00-4cd6-a44d-12daa172207e"
   },
   "outputs": [
    {
     "data": {
      "text/plain": [
       "'J'"
      ]
     },
     "execution_count": 3,
     "metadata": {},
     "output_type": "execute_result"
    }
   ],
   "source": [
    "frase[11]"
   ]
  },
  {
   "cell_type": "markdown",
   "metadata": {
    "id": "gSeub8odTYVK"
   },
   "source": [
    "## Notação de dois pontos"
   ]
  },
  {
   "cell_type": "code",
   "execution_count": 4,
   "metadata": {
    "colab": {
     "base_uri": "https://localhost:8080/",
     "height": 35
    },
    "id": "1xowE3zgTb3H",
    "outputId": "a38b0f76-8d72-4a8f-d633-db44e0e3e8b6"
   },
   "outputs": [
    {
     "data": {
      "text/plain": [
       "'Meu'"
      ]
     },
     "execution_count": 4,
     "metadata": {},
     "output_type": "execute_result"
    }
   ],
   "source": [
    "frase[0:3]"
   ]
  },
  {
   "cell_type": "code",
   "execution_count": 7,
   "metadata": {
    "colab": {
     "base_uri": "https://localhost:8080/",
     "height": 35
    },
    "id": "uU591dkCWFKT",
    "outputId": "2b383410-1f58-4c77-f1d1-8afd178aa075"
   },
   "outputs": [
    {
     "data": {
      "text/plain": [
       "'João'"
      ]
     },
     "execution_count": 7,
     "metadata": {},
     "output_type": "execute_result"
    }
   ],
   "source": [
    "frase[11:15]"
   ]
  },
  {
   "cell_type": "code",
   "execution_count": 8,
   "metadata": {
    "colab": {
     "base_uri": "https://localhost:8080/",
     "height": 35
    },
    "id": "Ce9a7E8GWM4F",
    "outputId": "7d716e5c-a6ae-47f2-8148-aa5f8674bbcb"
   },
   "outputs": [
    {
     "data": {
      "text/plain": [
       "'João e eu estou estudando Python.'"
      ]
     },
     "execution_count": 8,
     "metadata": {},
     "output_type": "execute_result"
    }
   ],
   "source": [
    "frase[11:]"
   ]
  },
  {
   "cell_type": "code",
   "execution_count": 9,
   "metadata": {
    "colab": {
     "base_uri": "https://localhost:8080/",
     "height": 35
    },
    "id": "4CgT9SmiWV10",
    "outputId": "94128e29-955f-4e95-d674-92b63d093038"
   },
   "outputs": [
    {
     "data": {
      "text/plain": [
       "'Meu nome é João e eu estou estudando Python.'"
      ]
     },
     "execution_count": 9,
     "metadata": {},
     "output_type": "execute_result"
    }
   ],
   "source": [
    "frase[:]"
   ]
  },
  {
   "cell_type": "code",
   "execution_count": 10,
   "metadata": {
    "colab": {
     "base_uri": "https://localhost:8080/"
    },
    "id": "u42usm0xWcJL",
    "outputId": "0b2521bd-d199-405d-ecfe-e8e27161829e"
   },
   "outputs": [
    {
     "name": "stdout",
     "output_type": "stream",
     "text": [
      "Meu nome é João e eu estou estudando Python.\n"
     ]
    }
   ],
   "source": [
    "print(frase)"
   ]
  },
  {
   "cell_type": "code",
   "execution_count": 11,
   "metadata": {
    "colab": {
     "base_uri": "https://localhost:8080/",
     "height": 35
    },
    "id": "Zg1yRzIsWibZ",
    "outputId": "b5b3a23f-19d1-4980-f66f-ef8ada2bc057"
   },
   "outputs": [
    {
     "data": {
      "text/plain": [
       "'Python.'"
      ]
     },
     "execution_count": 11,
     "metadata": {},
     "output_type": "execute_result"
    }
   ],
   "source": [
    "frase[-7:]"
   ]
  },
  {
   "cell_type": "markdown",
   "metadata": {
    "id": "L2U21PwVTcKh"
   },
   "source": [
    "## Steps (passos)"
   ]
  },
  {
   "cell_type": "code",
   "execution_count": 12,
   "metadata": {
    "colab": {
     "base_uri": "https://localhost:8080/"
    },
    "id": "1LKEg_PvVHvP",
    "outputId": "a0080009-d690-4efe-fe5f-91e310cf17bd"
   },
   "outputs": [
    {
     "name": "stdout",
     "output_type": "stream",
     "text": [
      "Meu nome é João e eu estou estudando Python.\n"
     ]
    }
   ],
   "source": [
    "print(frase)"
   ]
  },
  {
   "cell_type": "code",
   "execution_count": 20,
   "metadata": {
    "colab": {
     "base_uri": "https://localhost:8080/",
     "height": 35
    },
    "id": "MEuhe0atW5qs",
    "outputId": "cfe5dce2-980c-46e2-808f-cc90ab1ba8a1"
   },
   "outputs": [
    {
     "data": {
      "text/plain": [
       "'Mn oe'"
      ]
     },
     "execution_count": 20,
     "metadata": {},
     "output_type": "execute_result"
    }
   ],
   "source": [
    "frase[0:19:4]"
   ]
  },
  {
   "cell_type": "markdown",
   "metadata": {
    "id": "B7fwjIPAW-EX"
   },
   "source": [
    "## Invertendo uma string com slicing"
   ]
  },
  {
   "cell_type": "code",
   "execution_count": 21,
   "metadata": {
    "colab": {
     "base_uri": "https://localhost:8080/",
     "height": 35
    },
    "id": "GojXvSDFXVQA",
    "outputId": "25ea3c9c-7143-48b8-f758-ad70fe1def6b"
   },
   "outputs": [
    {
     "data": {
      "text/plain": [
       "'.nohtyP odnadutse uotse ue e oãoJ é emon ueM'"
      ]
     },
     "execution_count": 21,
     "metadata": {},
     "output_type": "execute_result"
    }
   ],
   "source": [
    "frase[::-1]"
   ]
  },
  {
   "cell_type": "code",
   "execution_count": null,
   "metadata": {
    "id": "uLuWh7KMXd63"
   },
   "outputs": [],
   "source": []
  }
 ],
 "metadata": {
  "colab": {
   "name": "Utilizando a técnica de slicing em Strings.ipynb",
   "provenance": []
  },
  "kernelspec": {
   "display_name": "Python 3 (ipykernel)",
   "language": "python",
   "name": "python3"
  },
  "language_info": {
   "codemirror_mode": {
    "name": "ipython",
    "version": 3
   },
   "file_extension": ".py",
   "mimetype": "text/x-python",
   "name": "python",
   "nbconvert_exporter": "python",
   "pygments_lexer": "ipython3",
   "version": "3.11.7"
  }
 },
 "nbformat": 4,
 "nbformat_minor": 4
}
