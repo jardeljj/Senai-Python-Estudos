{
 "cells": [
  {
   "cell_type": "markdown",
   "metadata": {
    "id": "hSwXFgXTvxFE"
   },
   "source": [
    "# Métodos do tipo String"
   ]
  },
  {
   "cell_type": "markdown",
   "metadata": {
    "id": "lZmLrHQCvyL9"
   },
   "source": [
    "## split()\n",
    "\n",
    "Divide uma string, convertendo-a em uma lista."
   ]
  },
  {
   "cell_type": "code",
   "execution_count": 2,
   "metadata": {
    "id": "TuT3Nwadv-_l"
   },
   "outputs": [],
   "source": [
    "frase = 'Meu nome é João. Eu estou estudando a linguagem Python!'"
   ]
  },
  {
   "cell_type": "code",
   "execution_count": 2,
   "metadata": {
    "colab": {
     "base_uri": "https://localhost:8080/"
    },
    "id": "-zNDTOmOz9BR",
    "outputId": "68ade8fa-9e62-42c6-c8fc-501018c23891"
   },
   "outputs": [
    {
     "name": "stdout",
     "output_type": "stream",
     "text": [
      "['Meu', 'nome', 'é', 'João.', 'Eu', 'estou', 'estudando', 'a', 'linguagem', 'Python!']\n"
     ]
    }
   ],
   "source": [
    "print(frase.split())"
   ]
  },
  {
   "cell_type": "code",
   "execution_count": 3,
   "metadata": {
    "colab": {
     "base_uri": "https://localhost:8080/"
    },
    "id": "DRAKez2a0XpQ",
    "outputId": "a76c532b-f70f-43a6-902f-d5f6922c9e33"
   },
   "outputs": [
    {
     "name": "stdout",
     "output_type": "stream",
     "text": [
      "['Meu nome é João', ' Eu estou estudando a linguagem Python!']\n"
     ]
    }
   ],
   "source": [
    "print(frase.split('.'))"
   ]
  },
  {
   "cell_type": "code",
   "execution_count": 4,
   "metadata": {
    "colab": {
     "base_uri": "https://localhost:8080/"
    },
    "id": "lm9Pc9co0pQI",
    "outputId": "26a7f59d-d524-4b64-9632-5296d49ebe45"
   },
   "outputs": [
    {
     "data": {
      "text/plain": [
       "list"
      ]
     },
     "execution_count": 4,
     "metadata": {},
     "output_type": "execute_result"
    }
   ],
   "source": [
    "type('Meu nome é João. Eu estou estudando a linguagem Python!'.split())"
   ]
  },
  {
   "cell_type": "markdown",
   "metadata": {
    "id": "lv-2J35fw8Gh"
   },
   "source": [
    "## strip()\n",
    "\n",
    "Remove espaços em branco do início e do fim de uma string."
   ]
  },
  {
   "cell_type": "code",
   "execution_count": 5,
   "metadata": {
    "id": "9hygiujRx09Y"
   },
   "outputs": [],
   "source": [
    "frase = '     Meu nome é João    '"
   ]
  },
  {
   "cell_type": "code",
   "execution_count": 6,
   "metadata": {
    "colab": {
     "base_uri": "https://localhost:8080/"
    },
    "id": "qMTrDJbC0_Hw",
    "outputId": "3a72f887-24d8-4316-f2c5-2252018eb59d"
   },
   "outputs": [
    {
     "name": "stdout",
     "output_type": "stream",
     "text": [
      "Meu nome é João\n"
     ]
    }
   ],
   "source": [
    "print(frase.strip())"
   ]
  },
  {
   "cell_type": "code",
   "execution_count": 7,
   "metadata": {
    "colab": {
     "base_uri": "https://localhost:8080/"
    },
    "id": "XCL9JBLC1Lns",
    "outputId": "f798452e-cc16-4adc-ee9f-4807a1bf1861"
   },
   "outputs": [
    {
     "data": {
      "text/plain": [
       "True"
      ]
     },
     "execution_count": 7,
     "metadata": {},
     "output_type": "execute_result"
    }
   ],
   "source": [
    "'João' == 'João '.strip()"
   ]
  },
  {
   "cell_type": "markdown",
   "metadata": {
    "id": "3Q8B9hJTx928"
   },
   "source": [
    "## capitalize()\n",
    "\n",
    "Retorna uma string com a primeira letra maiúscula e todas as demais minúsculas."
   ]
  },
  {
   "cell_type": "code",
   "execution_count": 10,
   "metadata": {
    "id": "DS6NiQBtyKpa"
   },
   "outputs": [],
   "source": [
    "frase = 'meu nome é João e eu gosto muito de estudar Python.'"
   ]
  },
  {
   "cell_type": "code",
   "execution_count": 11,
   "metadata": {
    "colab": {
     "base_uri": "https://localhost:8080/"
    },
    "id": "SZ0kgNJD1fRq",
    "outputId": "2e07f6de-8771-41f7-876d-c13b4b88fcdc"
   },
   "outputs": [
    {
     "name": "stdout",
     "output_type": "stream",
     "text": [
      "Meu nome é joão e eu gosto muito de estudar python.\n"
     ]
    }
   ],
   "source": [
    "print(frase.capitalize() )"
   ]
  },
  {
   "cell_type": "markdown",
   "metadata": {
    "id": "KBCr3gOByLGV"
   },
   "source": [
    "## lower()\n",
    "\n",
    "Retorna uma string com todas as letras minúsculas."
   ]
  },
  {
   "cell_type": "code",
   "execution_count": 12,
   "metadata": {
    "id": "dVFK7aPLyWEh"
   },
   "outputs": [],
   "source": [
    "frase = 'Meu nome é João e eu gosto muito de estudar Python.'"
   ]
  },
  {
   "cell_type": "code",
   "execution_count": 13,
   "metadata": {
    "colab": {
     "base_uri": "https://localhost:8080/"
    },
    "id": "v8iWNAw715LU",
    "outputId": "062a1c4f-8b1f-4b25-aa7e-84e1470c4865"
   },
   "outputs": [
    {
     "name": "stdout",
     "output_type": "stream",
     "text": [
      "meu nome é joão e eu gosto muito de estudar python.\n",
      "Meu nome é João e eu gosto muito de estudar Python.\n"
     ]
    }
   ],
   "source": [
    "print( frase.lower()   )\n",
    "print(frase)"
   ]
  },
  {
   "cell_type": "code",
   "execution_count": 14,
   "metadata": {
    "id": "mi9N9r-G2K7l"
   },
   "outputs": [],
   "source": [
    "frase = frase.lower()"
   ]
  },
  {
   "cell_type": "code",
   "execution_count": 15,
   "metadata": {
    "colab": {
     "base_uri": "https://localhost:8080/"
    },
    "id": "wd0WvuSk2OvW",
    "outputId": "972fb702-a9dc-47df-9177-dc94f6d027da"
   },
   "outputs": [
    {
     "name": "stdout",
     "output_type": "stream",
     "text": [
      "meu nome é joão e eu gosto muito de estudar python.\n"
     ]
    }
   ],
   "source": [
    "print(frase)"
   ]
  },
  {
   "cell_type": "markdown",
   "metadata": {
    "id": "Clc8urMdyWZd"
   },
   "source": [
    "## upper()\n",
    "\n",
    "Retorna uma string com todas as letras maiúsculas."
   ]
  },
  {
   "cell_type": "code",
   "execution_count": 16,
   "metadata": {
    "id": "cFMKyIvnydfA"
   },
   "outputs": [],
   "source": [
    "frase = 'Meu nome é João e eu gosto muito de estudar Python.'"
   ]
  },
  {
   "cell_type": "code",
   "execution_count": 17,
   "metadata": {
    "colab": {
     "base_uri": "https://localhost:8080/"
    },
    "id": "CqAwMvxr2W78",
    "outputId": "f9c42248-b57a-4f51-e543-048b93e2401e"
   },
   "outputs": [
    {
     "name": "stdout",
     "output_type": "stream",
     "text": [
      "MEU NOME É JOÃO E EU GOSTO MUITO DE ESTUDAR PYTHON.\n"
     ]
    }
   ],
   "source": [
    "print(frase.upper())"
   ]
  },
  {
   "cell_type": "markdown",
   "metadata": {
    "id": "TcRF6Rt1yeBL"
   },
   "source": [
    "## title()\n",
    "\n",
    "Retorna uma string onde a primeira letra de cada palavra será maiúscula."
   ]
  },
  {
   "cell_type": "code",
   "execution_count": 18,
   "metadata": {
    "id": "i1ndfnO7yoa2"
   },
   "outputs": [],
   "source": [
    "frase = 'Meu nome é João e eu gosto muito de estudar Python.'"
   ]
  },
  {
   "cell_type": "code",
   "execution_count": 19,
   "metadata": {
    "colab": {
     "base_uri": "https://localhost:8080/"
    },
    "id": "aXzr_5xZ2hX8",
    "outputId": "5c4617ca-1645-45bc-8b01-135cf8946241"
   },
   "outputs": [
    {
     "name": "stdout",
     "output_type": "stream",
     "text": [
      "Meu Nome É João E Eu Gosto Muito De Estudar Python.\n"
     ]
    }
   ],
   "source": [
    "print(frase.title())"
   ]
  },
  {
   "cell_type": "code",
   "execution_count": null,
   "metadata": {
    "id": "pM8ASlSj2jUt"
   },
   "outputs": [],
   "source": []
  }
 ],
 "metadata": {
  "colab": {
   "name": "Métodos para manipulação de strings.ipynb",
   "provenance": []
  },
  "kernelspec": {
   "display_name": "Python 3 (ipykernel)",
   "language": "python",
   "name": "python3"
  },
  "language_info": {
   "codemirror_mode": {
    "name": "ipython",
    "version": 3
   },
   "file_extension": ".py",
   "mimetype": "text/x-python",
   "name": "python",
   "nbconvert_exporter": "python",
   "pygments_lexer": "ipython3",
   "version": "3.11.7"
  }
 },
 "nbformat": 4,
 "nbformat_minor": 4
}
