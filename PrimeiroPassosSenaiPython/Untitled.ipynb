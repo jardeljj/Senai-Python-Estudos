{
 "cells": [
  {
   "cell_type": "code",
   "execution_count": 1,
   "id": "a42fd12b-32df-4f4b-a86d-18e75650ab22",
   "metadata": {},
   "outputs": [
    {
     "name": "stdout",
     "output_type": "stream",
     "text": [
      "['Banana', 'queijo']\n"
     ]
    }
   ],
   "source": [
    "lista = [\"Banana\", \"queijo\"]\n",
    "print(lista)"
   ]
  },
  {
   "cell_type": "code",
   "execution_count": 3,
   "id": "8cf7d533-6f6c-4247-9d43-b8de9b0f433a",
   "metadata": {},
   "outputs": [],
   "source": [
    "lista.append(\"Arroz\")"
   ]
  },
  {
   "cell_type": "code",
   "execution_count": 4,
   "id": "e6851e9e-2002-4af4-9e6b-5cebe3b9fa25",
   "metadata": {},
   "outputs": [],
   "source": [
    "lista.append(\"Macarrão\")"
   ]
  },
  {
   "cell_type": "code",
   "execution_count": 5,
   "id": "bf30d650-a470-47f4-ba04-a359d6967fe3",
   "metadata": {},
   "outputs": [
    {
     "data": {
      "text/plain": [
       "4"
      ]
     },
     "execution_count": 5,
     "metadata": {},
     "output_type": "execute_result"
    }
   ],
   "source": [
    "len(lista)"
   ]
  },
  {
   "cell_type": "code",
   "execution_count": 6,
   "id": "b8c2278a-02f5-49b1-96c8-5b2909299ec5",
   "metadata": {},
   "outputs": [
    {
     "data": {
      "text/plain": [
       "'Macarrão'"
      ]
     },
     "execution_count": 6,
     "metadata": {},
     "output_type": "execute_result"
    }
   ],
   "source": [
    "lista [3]"
   ]
  },
  {
   "cell_type": "code",
   "execution_count": 7,
   "id": "bf9c022c-ebf0-4ce0-9f8d-13fd8dd8558f",
   "metadata": {},
   "outputs": [
    {
     "name": "stdout",
     "output_type": "stream",
     "text": [
      "Banana\n",
      "queijo\n",
      "Arroz\n",
      "Macarrão\n"
     ]
    }
   ],
   "source": [
    "for item in lista:\n",
    "    print(item)"
   ]
  },
  {
   "cell_type": "code",
   "execution_count": 12,
   "id": "a6766213-3843-4582-afe7-c814523ab758",
   "metadata": {},
   "outputs": [
    {
     "name": "stdout",
     "output_type": "stream",
     "text": [
      "0\n",
      "1\n",
      "2\n",
      "3\n",
      "4\n",
      "5\n",
      "6\n",
      "7\n",
      "8\n",
      "9\n",
      "10\n"
     ]
    }
   ],
   "source": [
    "contador = 0\n",
    "while contador <= 10:\n",
    "    print(contador)\n",
    "    contador += 1"
   ]
  },
  {
   "cell_type": "code",
   "execution_count": 61,
   "id": "700d92eb-5426-4804-bd9e-b7530e151544",
   "metadata": {},
   "outputs": [
    {
     "name": "stdout",
     "output_type": "stream",
     "text": [
      "tenho 10 bombons\n"
     ]
    },
    {
     "name": "stdin",
     "output_type": "stream",
     "text": [
      "quantos bombons você comeu? 10\n"
     ]
    },
    {
     "name": "stdout",
     "output_type": "stream",
     "text": [
      "comendo 10 bombom sobrou: 0\n",
      "acabou a felicidade\n"
     ]
    }
   ],
   "source": [
    "bombons = 10 \n",
    "print(\"tenho 10 bombons\")\n",
    "\n",
    "while bombons > 0:\n",
    "    qtdComidas = int(input(\"quantos bombons você comeu?\"))\n",
    "    if qtdComidas > bombons:\n",
    "        print(\"você não pode comer tudo isso\")\n",
    "    else:          \n",
    "        print(f\"comendo {qtdComidas} bombom sobrou:\", bombons-qtd)\n",
    "        bombons -= qtdComidas\n",
    "    if bombons == 0:\n",
    "        print(\"acabou a felicidade\")\n",
    "    \n",
    "    \n",
    "    "
   ]
  },
  {
   "cell_type": "code",
   "execution_count": 85,
   "id": "fb9360fe-4c36-450b-94d2-4a4eba9569a2",
   "metadata": {},
   "outputs": [
    {
     "name": "stdout",
     "output_type": "stream",
     "text": [
      "Jarde Junior\n"
     ]
    },
    {
     "name": "stdin",
     "output_type": "stream",
     "text": [
      "Qual é o nome do cachorro? Dabura\n",
      "Qual a raça do cachorro? Pastor\n",
      "qual a idade do cachorro? 1.5\n"
     ]
    },
    {
     "name": "stdout",
     "output_type": "stream",
     "text": [
      "Seu cachorro é o Dabura da raça Pastor com 1.5 anos\n"
     ]
    }
   ],
   "source": [
    "class Completo:\n",
    "    def __init__ (self, nome, sobreNome):\n",
    "        self.nome = nome\n",
    "        self.sobreNome = sobreNome\n",
    "\n",
    "\n",
    "    def NomeCompleto(self):\n",
    "        print(self.nome, self.sobreNome)\n",
    "\n",
    "class Cachorro:\n",
    "    def __init__(self, nome, raca, idade):\n",
    "        self.nome = nome\n",
    "        self.raca = raca\n",
    "        self.idade = idade\n",
    "\n",
    "    def descricao_cachorro(self):\n",
    "        print(f\"Seu cachorro é o {self.nome} da raça {self.raca} com {self.idade} anos\")\n",
    "\n",
    "nometodo = Completo(\"Jarde\", \"Junior\")\n",
    "nometodo.NomeCompleto()\n",
    "\n",
    "\n",
    "NomeCachorro = str(input(\"Qual é o nome do cachorro?\"))\n",
    "racaCachorro = str(input(\"Qual a raça do cachorro?\"))\n",
    "idadeCachorro = float(input(\"qual a idade do cachorro?\"))\n",
    "\n",
    "cachorro = Cachorro(NomeCachorro, racaCachorro, idadeCachorro)\n",
    "cachorro.descricao_cachorro()\n",
    "\n"
   ]
  },
  {
   "cell_type": "code",
   "execution_count": 94,
   "id": "9ac7c477-6024-4af0-a067-279989994773",
   "metadata": {},
   "outputs": [
    {
     "name": "stdin",
     "output_type": "stream",
     "text": [
      "Qual a temperatura? 27\n"
     ]
    },
    {
     "name": "stdout",
     "output_type": "stream",
     "text": [
      "Quente\n"
     ]
    }
   ],
   "source": [
    "temperatura = int(input(\"Qual a temperatura?\"))\n",
    "if temperatura < 5:\n",
    "    print(\"Gelo\")\n",
    "elif temperatura >= 5 and temperatura < 27:\n",
    "    print(\"Ameno\")\n",
    "elif temperatura == 27:\n",
    "    print(\"Quente\")\n",
    "else:\n",
    "    print(\"Hot\")"
   ]
  },
  {
   "cell_type": "code",
   "execution_count": null,
   "id": "3ef48a46-fded-4099-a2ea-97c66cd3771c",
   "metadata": {},
   "outputs": [],
   "source": [
    "lista = [30,2,40,10,6]\n",
    "print(\"1\", lista)\n",
    "i=1\n",
    "\n",
    "#while (i<=5):\n",
    " #   atual = input(\"digite um numero: \")\n",
    "  #  lista. append(atual)\n",
    " #   i = i + 1\n",
    "\n",
    "i = 0\n",
    "cont = 0\n",
    "while (cont < len(lista)):\n",
    "   \n",
    "    while(i < len(lista)):\n",
    "            atual = lista[i]\n",
    "        \n",
    "            if i < (len(lista) - 1):\n",
    "                proximo = lista[i+1]\n",
    "                \n",
    "            if proximo < atual:\n",
    "                    lista[i] = proximo\n",
    "                    lista[i+1] = atual\n",
    "            i =+ 1\n",
    "    cont =+ 1\n",
    "print(cont)\n",
    "\n",
    "print(lista)"
   ]
  },
  {
   "cell_type": "code",
   "execution_count": 188,
   "id": "61ee8690-4ab7-48d8-b37c-37527d74e091",
   "metadata": {},
   "outputs": [
    {
     "name": "stdout",
     "output_type": "stream",
     "text": [
      "Seja bem vindo Jardel\n",
      "Seja mal vindo\n",
      "Tchau\n"
     ]
    }
   ],
   "source": [
    "def imprimir_frases(nome):\n",
    "    print(\"Seja bem vindo\", nome)\n",
    "    print(\"Seja mal vindo\")\n",
    "    print(\"Tchau\")\n",
    "\n",
    "imprimir_frases(nome = \"Jardel\")\n"
   ]
  },
  {
   "cell_type": "code",
   "execution_count": 206,
   "id": "645b941d-95d5-4514-8dfc-b9ae8020d336",
   "metadata": {},
   "outputs": [
    {
     "data": {
      "text/plain": [
       "(6, 9, 27)"
      ]
     },
     "execution_count": 206,
     "metadata": {},
     "output_type": "execute_result"
    }
   ],
   "source": [
    "def calculos(n1, n2):\n",
    "    soma = n1 + n2\n",
    "    mult = n1 * n2\n",
    "    espo = n1 ** n2\n",
    "\n",
    "    return (soma, mult, espo)\n",
    "\n",
    "\n",
    "calculos(3,3)\n"
   ]
  },
  {
   "cell_type": "code",
   "execution_count": null,
   "id": "96e3960c-0295-4c38-8222-71cf39791769",
   "metadata": {},
   "outputs": [],
   "source": []
  }
 ],
 "metadata": {
  "kernelspec": {
   "display_name": "Python 3 (ipykernel)",
   "language": "python",
   "name": "python3"
  },
  "language_info": {
   "codemirror_mode": {
    "name": "ipython",
    "version": 3
   },
   "file_extension": ".py",
   "mimetype": "text/x-python",
   "name": "python",
   "nbconvert_exporter": "python",
   "pygments_lexer": "ipython3",
   "version": "3.11.7"
  }
 },
 "nbformat": 4,
 "nbformat_minor": 5
}
