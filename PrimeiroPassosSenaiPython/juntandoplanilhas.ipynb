{
 "cells": [
  {
   "cell_type": "code",
   "execution_count": 256,
   "id": "911209ef-577d-4ebe-b77d-1a6b5322c4b9",
   "metadata": {},
   "outputs": [],
   "source": [
    "import pandas as pd\n",
    "import os\n",
    "import datetime"
   ]
  },
  {
   "cell_type": "code",
   "execution_count": 257,
   "id": "397fe750-7ec9-41da-b39b-0ff1df10142f",
   "metadata": {},
   "outputs": [],
   "source": [
    "data = datetime.datetime.now()\n",
    "data = data.strftime(\"%Y-%m-%d\")"
   ]
  },
  {
   "cell_type": "code",
   "execution_count": 258,
   "id": "cc7d84fe-3201-45f5-88e1-b1907c16cf40",
   "metadata": {},
   "outputs": [
    {
     "name": "stdout",
     "output_type": "stream",
     "text": [
      "2024-06-15\n"
     ]
    }
   ],
   "source": [
    "print(data)"
   ]
  },
  {
   "cell_type": "code",
   "execution_count": 259,
   "id": "91687a81-4608-4723-852c-6311261cd4fe",
   "metadata": {},
   "outputs": [
    {
     "name": "stdout",
     "output_type": "stream",
     "text": [
      "['Segmento', 'País', 'Produto', 'Qtde de Unidades Vendidas', 'Preço Unitário', 'Valor Total', 'Desconto', 'Valor Total c/ Desconto', 'Custo Total', 'Lucro', 'Data', 'Mês', 'Ano']\n"
     ]
    },
    {
     "data": {
      "text/html": [
       "<div>\n",
       "<style scoped>\n",
       "    .dataframe tbody tr th:only-of-type {\n",
       "        vertical-align: middle;\n",
       "    }\n",
       "\n",
       "    .dataframe tbody tr th {\n",
       "        vertical-align: top;\n",
       "    }\n",
       "\n",
       "    .dataframe thead th {\n",
       "        text-align: right;\n",
       "    }\n",
       "</style>\n",
       "<table border=\"1\" class=\"dataframe\">\n",
       "  <thead>\n",
       "    <tr style=\"text-align: right;\">\n",
       "      <th></th>\n",
       "      <th>Segmento</th>\n",
       "      <th>País</th>\n",
       "      <th>Produto</th>\n",
       "      <th>Qtde de Unidades Vendidas</th>\n",
       "      <th>Preço Unitário</th>\n",
       "      <th>Valor Total</th>\n",
       "      <th>Desconto</th>\n",
       "      <th>Valor Total c/ Desconto</th>\n",
       "      <th>Custo Total</th>\n",
       "      <th>Lucro</th>\n",
       "      <th>Data</th>\n",
       "      <th>Mês</th>\n",
       "      <th>Ano</th>\n",
       "    </tr>\n",
       "  </thead>\n",
       "  <tbody>\n",
       "  </tbody>\n",
       "</table>\n",
       "</div>"
      ],
      "text/plain": [
       "Empty DataFrame\n",
       "Columns: [Segmento, País, Produto, Qtde de Unidades Vendidas, Preço Unitário, Valor Total, Desconto, Valor Total c/ Desconto, Custo Total, Lucro, Data, Mês, Ano]\n",
       "Index: []"
      ]
     },
     "execution_count": 259,
     "metadata": {},
     "output_type": "execute_result"
    }
   ],
   "source": [
    "colunas = [\n",
    "        'Segmento',\n",
    "        'País',\n",
    "        'Produto',\n",
    "        'Qtde de Unidades Vendidas',\n",
    "        'Preço Unitário',\n",
    "        'Valor Total',\n",
    "        'Desconto',\n",
    "        'Valor Total c/ Desconto',\n",
    "        'Custo Total',\n",
    "        'Lucro',\n",
    "        'Data',\n",
    "        'Mês',\n",
    "        'Ano'\n",
    "    ]\n",
    "print(colunas)\n",
    "\n",
    "consolidado = pd.DataFrame(columns=colunas)\n",
    "consolidado"
   ]
  },
  {
   "cell_type": "code",
   "execution_count": 260,
   "id": "b4d2a7a3-a724-4835-893b-4992bea40dca",
   "metadata": {},
   "outputs": [
    {
     "data": {
      "text/plain": [
       "26"
      ]
     },
     "execution_count": 260,
     "metadata": {},
     "output_type": "execute_result"
    }
   ],
   "source": [
    "arquivos = os.listdir('planilhas Jardel')\n",
    "len(arquivos)"
   ]
  },
  {
   "cell_type": "code",
   "execution_count": 261,
   "id": "19f949f0-bbc8-4ef1-8b7e-b2b5e4bd5aa7",
   "metadata": {},
   "outputs": [
    {
     "name": "stderr",
     "output_type": "stream",
     "text": [
      "C:\\Users\\FIC\\AppData\\Local\\Temp\\ipykernel_15648\\2586022498.py:12: FutureWarning: The behavior of DataFrame concatenation with empty or all-NA entries is deprecated. In a future version, this will no longer exclude empty or all-NA columns when determining the result dtypes. To retain the old behavior, exclude the relevant entries before the concat operation.\n",
      "  consolidado = pd.concat([consolidado, df])\n"
     ]
    }
   ],
   "source": [
    "for excel in arquivos:\n",
    "    i = 0\n",
    "    try:\n",
    "        dados_arquivo = excel.split('-')\n",
    "        segmento = dados_arquivo[0]\n",
    "        pais = dados_arquivo[1].replace('.xlsx','')\n",
    "    \n",
    "        df = pd.read_excel(f\"planilhas Jardel\\\\{excel}\")\n",
    "        df.insert(0, 'Segmento', segmento)\n",
    "        df.insert(1, 'País', pais)\n",
    "    \n",
    "        consolidado = pd.concat([consolidado, df])\n",
    "    except Exception as e:\n",
    "        with open('log_erros.txt', 'a') as arquivo:\n",
    "            arquivo.write(f'{i} O arquivo {excel} não é um documento valido de acordo com as regras de negocio.\\n')\n",
    "            i += 1\n",
    "                    \n",
    "consolidado.to_excel(f\"Report-Consolidado-{data}.xlsx\", index=False, sheet_name=\"Consolidado\")\n",
    "    "
   ]
  },
  {
   "cell_type": "code",
   "execution_count": 262,
   "id": "f434c259-07e4-4c51-84bc-4db335ba49f4",
   "metadata": {},
   "outputs": [
    {
     "name": "stdout",
     "output_type": "stream",
     "text": [
      "         Segmento      País    Produto Qtde de Unidades Vendidas  \\\n",
      "0         Governo  Alemanha  Produto 1                      1321   \n",
      "1         Governo  Alemanha  Produto 1                      1513   \n",
      "2         Governo  Alemanha  Produto 2                      2146   \n",
      "3         Governo  Alemanha  Produto 3                      1006   \n",
      "4         Governo  Alemanha  Produto 3                      1513   \n",
      "..            ...       ...        ...                       ...   \n",
      "15  Vendas online    França  Produto 3                    2425.5   \n",
      "16  Vendas online    França  Produto 5                    1734.0   \n",
      "17  Vendas online    França  Produto 3                    1393.0   \n",
      "18  Vendas online    França  Produto 6                    1393.0   \n",
      "19  Vendas online    França  Produto 6                    2475.0   \n",
      "\n",
      "   Preço Unitário Valor Total  Desconto  Valor Total c/ Desconto  Custo Total  \\\n",
      "0              20       26420      0.00                 26420.00      14531.0   \n",
      "1             350      529550      0.00                529550.00     432718.0   \n",
      "2               7       15022      0.00                 15022.00      10730.0   \n",
      "3             350      352100      0.00                352100.00     261560.0   \n",
      "4             350      529550      0.00                529550.00     393380.0   \n",
      "..            ...         ...       ...                      ...          ...   \n",
      "15             12       29106   3201.66                 25904.34       7276.5   \n",
      "16             12       20808   2288.88                 18519.12       5202.0   \n",
      "17             12       16716   2340.24                 14375.76       4179.0   \n",
      "18             12       16716   2340.24                 14375.76       4179.0   \n",
      "19             12       29700   4158.00                 25542.00       7425.0   \n",
      "\n",
      "        Lucro       Data       Mês   Ano  \n",
      "0    11889.00 2019-01-01   Janeiro  2019  \n",
      "1    96832.00 2019-12-01  Dezembro  2019  \n",
      "2     4292.00 2019-09-01  Setembro  2019  \n",
      "3    90540.00 2019-06-01     Junho  2019  \n",
      "4   136170.00 2019-12-01  Dezembro  2019  \n",
      "..        ...        ...       ...   ...  \n",
      "15   18627.84 2019-07-01     Julho  2019  \n",
      "16   13317.12 2019-01-01   Janeiro  2019  \n",
      "17   10196.76 2019-10-01   Outubro  2019  \n",
      "18   10196.76 2019-10-01   Outubro  2019  \n",
      "19   18117.00 2019-08-01    Agosto  2019  \n",
      "\n",
      "[700 rows x 13 columns]\n"
     ]
    }
   ],
   "source": [
    "#print(df)\n",
    "consolidado.shape\n",
    "print(consolidado)"
   ]
  },
  {
   "cell_type": "code",
   "execution_count": null,
   "id": "2d3b0819-99a2-454d-ab2a-d7a814d923a9",
   "metadata": {},
   "outputs": [],
   "source": []
  }
 ],
 "metadata": {
  "kernelspec": {
   "display_name": "Python 3 (ipykernel)",
   "language": "python",
   "name": "python3"
  },
  "language_info": {
   "codemirror_mode": {
    "name": "ipython",
    "version": 3
   },
   "file_extension": ".py",
   "mimetype": "text/x-python",
   "name": "python",
   "nbconvert_exporter": "python",
   "pygments_lexer": "ipython3",
   "version": "3.11.7"
  }
 },
 "nbformat": 4,
 "nbformat_minor": 5
}
