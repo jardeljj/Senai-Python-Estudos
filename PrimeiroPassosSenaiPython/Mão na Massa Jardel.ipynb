{
 "cells": [
  {
   "cell_type": "code",
   "execution_count": 2,
   "id": "ac0f1d93-ed19-4415-8128-6ef14a394291",
   "metadata": {
    "scrolled": true
   },
   "outputs": [],
   "source": [
    "import pandas as pd"
   ]
  },
  {
   "cell_type": "code",
   "execution_count": 4,
   "id": "83ed608c-08ca-4b57-9b38-687f46ac8267",
   "metadata": {},
   "outputs": [],
   "source": [
    "# Carregar o arquivo Excel\n",
    "caminho_arquivo = './02 - Biblioteca Pandas/08 - Pandas - Carregando Dados/datasets/Vendas.xlsx'\n",
    "dados_excel = pd.read_excel(caminho_arquivo)"
   ]
  },
  {
   "cell_type": "code",
   "execution_count": 5,
   "id": "dca97746-1109-4f6d-a2eb-3b5442c6ae8d",
   "metadata": {},
   "outputs": [
    {
     "name": "stdout",
     "output_type": "stream",
     "text": [
      "Primeiras linhas do DataFrame:\n"
     ]
    },
    {
     "data": {
      "text/html": [
       "<div>\n",
       "<style scoped>\n",
       "    .dataframe tbody tr th:only-of-type {\n",
       "        vertical-align: middle;\n",
       "    }\n",
       "\n",
       "    .dataframe tbody tr th {\n",
       "        vertical-align: top;\n",
       "    }\n",
       "\n",
       "    .dataframe thead th {\n",
       "        text-align: right;\n",
       "    }\n",
       "</style>\n",
       "<table border=\"1\" class=\"dataframe\">\n",
       "  <thead>\n",
       "    <tr style=\"text-align: right;\">\n",
       "      <th></th>\n",
       "      <th>matricula_funcionario</th>\n",
       "      <th>Nome Funcionario</th>\n",
       "    </tr>\n",
       "  </thead>\n",
       "  <tbody>\n",
       "    <tr>\n",
       "      <th>0</th>\n",
       "      <td>123456111</td>\n",
       "      <td>José Maria</td>\n",
       "    </tr>\n",
       "    <tr>\n",
       "      <th>1</th>\n",
       "      <td>123456111</td>\n",
       "      <td>José Maria</td>\n",
       "    </tr>\n",
       "    <tr>\n",
       "      <th>2</th>\n",
       "      <td>123456222</td>\n",
       "      <td>Maria das Graças</td>\n",
       "    </tr>\n",
       "    <tr>\n",
       "      <th>3</th>\n",
       "      <td>123456333</td>\n",
       "      <td>Jorge Mateus</td>\n",
       "    </tr>\n",
       "    <tr>\n",
       "      <th>4</th>\n",
       "      <td>123456555</td>\n",
       "      <td>Marta Cury</td>\n",
       "    </tr>\n",
       "  </tbody>\n",
       "</table>\n",
       "</div>"
      ],
      "text/plain": [
       "   matricula_funcionario  Nome Funcionario\n",
       "0              123456111        José Maria\n",
       "1              123456111        José Maria\n",
       "2              123456222  Maria das Graças\n",
       "3              123456333      Jorge Mateus\n",
       "4              123456555        Marta Cury"
      ]
     },
     "execution_count": 5,
     "metadata": {},
     "output_type": "execute_result"
    }
   ],
   "source": [
    "# Visualizar as primeiras linhas do DataFrame\n",
    "print(\"Primeiras linhas do DataFrame:\")\n",
    "dados_excel.head()"
   ]
  },
  {
   "cell_type": "code",
   "execution_count": 10,
   "id": "252381db-68d7-4ac5-9d0f-63b6977d5efd",
   "metadata": {},
   "outputs": [
    {
     "name": "stdout",
     "output_type": "stream",
     "text": [
      "\n",
      "Informações sobre o DataFrame:\n"
     ]
    },
    {
     "data": {
      "text/html": [
       "<div>\n",
       "<style scoped>\n",
       "    .dataframe tbody tr th:only-of-type {\n",
       "        vertical-align: middle;\n",
       "    }\n",
       "\n",
       "    .dataframe tbody tr th {\n",
       "        vertical-align: top;\n",
       "    }\n",
       "\n",
       "    .dataframe thead th {\n",
       "        text-align: right;\n",
       "    }\n",
       "</style>\n",
       "<table border=\"1\" class=\"dataframe\">\n",
       "  <thead>\n",
       "    <tr style=\"text-align: right;\">\n",
       "      <th></th>\n",
       "      <th>matricula_funcionario</th>\n",
       "    </tr>\n",
       "  </thead>\n",
       "  <tbody>\n",
       "    <tr>\n",
       "      <th>count</th>\n",
       "      <td>1.300000e+01</td>\n",
       "    </tr>\n",
       "    <tr>\n",
       "      <th>mean</th>\n",
       "      <td>1.234566e+08</td>\n",
       "    </tr>\n",
       "    <tr>\n",
       "      <th>std</th>\n",
       "      <td>3.820269e+02</td>\n",
       "    </tr>\n",
       "    <tr>\n",
       "      <th>min</th>\n",
       "      <td>1.234561e+08</td>\n",
       "    </tr>\n",
       "    <tr>\n",
       "      <th>25%</th>\n",
       "      <td>1.234563e+08</td>\n",
       "    </tr>\n",
       "    <tr>\n",
       "      <th>50%</th>\n",
       "      <td>1.234567e+08</td>\n",
       "    </tr>\n",
       "    <tr>\n",
       "      <th>75%</th>\n",
       "      <td>1.234570e+08</td>\n",
       "    </tr>\n",
       "    <tr>\n",
       "      <th>max</th>\n",
       "      <td>1.234571e+08</td>\n",
       "    </tr>\n",
       "  </tbody>\n",
       "</table>\n",
       "</div>"
      ],
      "text/plain": [
       "       matricula_funcionario\n",
       "count           1.300000e+01\n",
       "mean            1.234566e+08\n",
       "std             3.820269e+02\n",
       "min             1.234561e+08\n",
       "25%             1.234563e+08\n",
       "50%             1.234567e+08\n",
       "75%             1.234570e+08\n",
       "max             1.234571e+08"
      ]
     },
     "execution_count": 10,
     "metadata": {},
     "output_type": "execute_result"
    }
   ],
   "source": [
    "# Verificar informações sobre o DataFrame\n",
    "print(\"\\nInformações sobre o DataFrame:\")\n",
    "dados_excel.describe()\n",
    "#dados_excel.shape"
   ]
  },
  {
   "cell_type": "code",
   "execution_count": 11,
   "id": "89f3422f-db62-4ed6-8a7b-1b1db8ca2b5f",
   "metadata": {},
   "outputs": [
    {
     "name": "stdout",
     "output_type": "stream",
     "text": [
      "\n",
      "Resumo estatístico das variáveis numéricas:\n",
      "<class 'pandas.core.frame.DataFrame'>\n",
      "RangeIndex: 13 entries, 0 to 12\n",
      "Data columns (total 2 columns):\n",
      " #   Column                 Non-Null Count  Dtype \n",
      "---  ------                 --------------  ----- \n",
      " 0   matricula_funcionario  13 non-null     int64 \n",
      " 1   Nome Funcionario       13 non-null     object\n",
      "dtypes: int64(1), object(1)\n",
      "memory usage: 340.0+ bytes\n"
     ]
    }
   ],
   "source": [
    "# Resumo estatístico das variáveis numéricas\n",
    "print(\"\\nResumo estatístico das variáveis numéricas:\")\n",
    "dados_excel.info()"
   ]
  },
  {
   "cell_type": "code",
   "execution_count": 12,
   "id": "51ee4bd8-dcec-4974-89e6-f5db5c669436",
   "metadata": {},
   "outputs": [
    {
     "name": "stdout",
     "output_type": "stream",
     "text": [
      "\n",
      "Valores nulos no DataFrame:\n"
     ]
    },
    {
     "data": {
      "text/plain": [
       "matricula_funcionario    0\n",
       "Nome Funcionario         0\n",
       "dtype: int64"
      ]
     },
     "execution_count": 12,
     "metadata": {},
     "output_type": "execute_result"
    }
   ],
   "source": [
    "# Verificar se há valores nulos\n",
    "print(\"\\nValores nulos no DataFrame:\")\n",
    "dados_excel.isnull().sum()"
   ]
  },
  {
   "cell_type": "code",
   "execution_count": 13,
   "id": "cfa34666-5520-407e-b5bc-03ae2fbc86b9",
   "metadata": {},
   "outputs": [
    {
     "name": "stdout",
     "output_type": "stream",
     "text": [
      "\n",
      "Algumas estatísticas das variáveis categóricas:\n"
     ]
    },
    {
     "data": {
      "text/html": [
       "<div>\n",
       "<style scoped>\n",
       "    .dataframe tbody tr th:only-of-type {\n",
       "        vertical-align: middle;\n",
       "    }\n",
       "\n",
       "    .dataframe tbody tr th {\n",
       "        vertical-align: top;\n",
       "    }\n",
       "\n",
       "    .dataframe thead th {\n",
       "        text-align: right;\n",
       "    }\n",
       "</style>\n",
       "<table border=\"1\" class=\"dataframe\">\n",
       "  <thead>\n",
       "    <tr style=\"text-align: right;\">\n",
       "      <th></th>\n",
       "      <th>Nome Funcionario</th>\n",
       "    </tr>\n",
       "  </thead>\n",
       "  <tbody>\n",
       "    <tr>\n",
       "      <th>count</th>\n",
       "      <td>13</td>\n",
       "    </tr>\n",
       "    <tr>\n",
       "      <th>unique</th>\n",
       "      <td>12</td>\n",
       "    </tr>\n",
       "    <tr>\n",
       "      <th>top</th>\n",
       "      <td>José Maria</td>\n",
       "    </tr>\n",
       "    <tr>\n",
       "      <th>freq</th>\n",
       "      <td>2</td>\n",
       "    </tr>\n",
       "  </tbody>\n",
       "</table>\n",
       "</div>"
      ],
      "text/plain": [
       "       Nome Funcionario\n",
       "count                13\n",
       "unique               12\n",
       "top          José Maria\n",
       "freq                  2"
      ]
     },
     "execution_count": 13,
     "metadata": {},
     "output_type": "execute_result"
    }
   ],
   "source": [
    "# Visualizar algumas estatísticas das variáveis categóricas\n",
    "print(\"\\nAlgumas estatísticas das variáveis categóricas:\")\n",
    "dados_excel.describe(include='object')\n"
   ]
  },
  {
   "cell_type": "code",
   "execution_count": 19,
   "id": "7a98349f-2b62-458f-ad73-ad94daa6dfd5",
   "metadata": {},
   "outputs": [
    {
     "name": "stdout",
     "output_type": "stream",
     "text": [
      "\n",
      "Valores únicos em cada coluna categórica:\n"
     ]
    },
    {
     "ename": "NameError",
     "evalue": "name 'matricula_funcionario' is not defined",
     "output_type": "error",
     "traceback": [
      "\u001b[1;31m---------------------------------------------------------------------------\u001b[0m",
      "\u001b[1;31mNameError\u001b[0m                                 Traceback (most recent call last)",
      "Cell \u001b[1;32mIn[19], line 3\u001b[0m\n\u001b[0;32m      1\u001b[0m \u001b[38;5;66;03m# Contar os valores únicos em cada coluna categórica\u001b[39;00m\n\u001b[0;32m      2\u001b[0m \u001b[38;5;28mprint\u001b[39m(\u001b[38;5;124m\"\u001b[39m\u001b[38;5;130;01m\\n\u001b[39;00m\u001b[38;5;124mValores únicos em cada coluna categórica:\u001b[39m\u001b[38;5;124m\"\u001b[39m)\n\u001b[1;32m----> 3\u001b[0m dados_excel[matricula_funcionario]\u001b[38;5;241m.\u001b[39munique()\n",
      "\u001b[1;31mNameError\u001b[0m: name 'matricula_funcionario' is not defined"
     ]
    }
   ],
   "source": [
    "# Contar os valores únicos em cada coluna categórica\n",
    "print(\"\\nValores únicos em cada coluna categórica:\")\n",
    "dados_excel[matricula_funcionario].unique()"
   ]
  },
  {
   "cell_type": "code",
   "execution_count": null,
   "id": "45fe5267-932b-4284-9465-e6151e1df5cc",
   "metadata": {},
   "outputs": [],
   "source": []
  }
 ],
 "metadata": {
  "kernelspec": {
   "display_name": "Python 3 (ipykernel)",
   "language": "python",
   "name": "python3"
  },
  "language_info": {
   "codemirror_mode": {
    "name": "ipython",
    "version": 3
   },
   "file_extension": ".py",
   "mimetype": "text/x-python",
   "name": "python",
   "nbconvert_exporter": "python",
   "pygments_lexer": "ipython3",
   "version": "3.11.7"
  }
 },
 "nbformat": 4,
 "nbformat_minor": 5
}
