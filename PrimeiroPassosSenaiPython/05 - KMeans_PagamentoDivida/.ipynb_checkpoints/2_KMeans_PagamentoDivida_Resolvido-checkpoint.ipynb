{
 "cells": [
  {
   "cell_type": "markdown",
   "metadata": {},
   "source": [
    "# Clusterização: K-Means - Pagamentos de Dívida"
   ]
  },
  {
   "cell_type": "markdown",
   "metadata": {},
   "source": [
    "## Importação das bibliotecas"
   ]
  },
  {
   "cell_type": "code",
   "execution_count": null,
   "metadata": {},
   "outputs": [],
   "source": [
    "# Pacotes de preparação dos dados\n",
    "import numpy as np\n",
    "import pandas as pd\n",
    "\n",
    "# Pacotes gráficos\n",
    "import matplotlib.pyplot as plt\n",
    "import seaborn as sns\n",
    "\n",
    "# Pacotes de modelagem\n",
    "import sklearn\n",
    "from sklearn.preprocessing import StandardScaler\n",
    "from sklearn.cluster import KMeans"
   ]
  },
  {
   "cell_type": "markdown",
   "metadata": {},
   "source": [
    "## Importação da base de dados"
   ]
  },
  {
   "cell_type": "code",
   "execution_count": null,
   "metadata": {},
   "outputs": [],
   "source": [
    "df_pag = pd.read_csv('pagamento.csv')\n",
    "df_pag.head()"
   ]
  },
  {
   "cell_type": "markdown",
   "metadata": {},
   "source": [
    "## Preparação dos Dados"
   ]
  },
  {
   "cell_type": "markdown",
   "metadata": {},
   "source": [
    "### Missing Values"
   ]
  },
  {
   "cell_type": "code",
   "execution_count": null,
   "metadata": {},
   "outputs": [],
   "source": [
    "df_pag.isnull().sum()"
   ]
  },
  {
   "cell_type": "markdown",
   "metadata": {},
   "source": [
    "### Duplicações"
   ]
  },
  {
   "cell_type": "code",
   "execution_count": null,
   "metadata": {},
   "outputs": [],
   "source": [
    "df_pag.info()"
   ]
  },
  {
   "cell_type": "code",
   "execution_count": null,
   "metadata": {},
   "outputs": [],
   "source": [
    "df_pag.duplicated().sum()"
   ]
  },
  {
   "cell_type": "code",
   "execution_count": null,
   "metadata": {
    "tags": []
   },
   "outputs": [],
   "source": [
    "df_pag.loc[df_pag.duplicated()].sort_values('Renda_Presumida')"
   ]
  },
  {
   "cell_type": "code",
   "execution_count": null,
   "metadata": {},
   "outputs": [],
   "source": [
    "df_pag.drop_duplicates(inplace=True)"
   ]
  },
  {
   "cell_type": "code",
   "execution_count": null,
   "metadata": {},
   "outputs": [],
   "source": [
    "df_pag.duplicated().sum()"
   ]
  },
  {
   "cell_type": "markdown",
   "metadata": {},
   "source": [
    "### Tipos de Variáveis"
   ]
  },
  {
   "cell_type": "code",
   "execution_count": null,
   "metadata": {},
   "outputs": [],
   "source": [
    "df_pag.info()"
   ]
  },
  {
   "cell_type": "markdown",
   "metadata": {},
   "source": [
    "## Análise Exploratória dos Dados"
   ]
  },
  {
   "cell_type": "markdown",
   "metadata": {},
   "source": [
    "### Dispersão por Classe"
   ]
  },
  {
   "cell_type": "code",
   "execution_count": null,
   "metadata": {},
   "outputs": [],
   "source": [
    "sns.pairplot(df_pag, \n",
    "             hue='Pagou_Divida');"
   ]
  },
  {
   "cell_type": "code",
   "execution_count": null,
   "metadata": {},
   "outputs": [],
   "source": [
    "sns.pairplot(df_pag);"
   ]
  },
  {
   "cell_type": "markdown",
   "metadata": {},
   "source": [
    "## Desenvolvimento do Modelo: K-Means"
   ]
  },
  {
   "cell_type": "markdown",
   "metadata": {},
   "source": [
    "### Padronização da Escala"
   ]
  },
  {
   "cell_type": "code",
   "execution_count": null,
   "metadata": {},
   "outputs": [],
   "source": [
    "# Seleção das variáveis\n",
    "df_modelo = df_pag[['Renda_Presumida', \n",
    "                    'Idade']].copy()\n",
    "\n",
    "# Padronização da Escala\n",
    "x_scaler = StandardScaler()\n",
    "x_scaler.fit(df_modelo)\n",
    "\n",
    "df_modelo_scaled = pd.DataFrame(x_scaler.transform(df_modelo),\n",
    "                                index=df_modelo.index,\n",
    "                                columns=df_modelo.columns)"
   ]
  },
  {
   "cell_type": "code",
   "execution_count": null,
   "metadata": {},
   "outputs": [],
   "source": [
    "# Plotando Renda Presumida por Idade\n",
    "plt.scatter(df_modelo_scaled['Renda_Presumida'],\n",
    "            df_modelo_scaled['Idade']);"
   ]
  },
  {
   "cell_type": "markdown",
   "metadata": {},
   "source": [
    "### Treinamento do Modelo\n",
    "`Dica:` Utilize a função treina_modelo_kmeans para facilitar o treinamento e avaliação dos modelos com diferentes quantidades de clusters."
   ]
  },
  {
   "cell_type": "code",
   "execution_count": null,
   "metadata": {},
   "outputs": [],
   "source": [
    "def treina_modelo_kmeans(df_scaled, k, plota_grafico=False):\n",
    "    \n",
    "    # Define e treina um modelo K-means\n",
    "    modelo_km = KMeans(n_clusters=k, \n",
    "                       random_state=42)\n",
    "    modelo_km.fit(df_scaled)\n",
    "    \n",
    "    # Obtém os clusters preditos\n",
    "    cluster_predito = modelo_km.predict(df_scaled)\n",
    "    \n",
    "    # Plota os gráficos\n",
    "    if plota_grafico:\n",
    "        fig = plt.figure(figsize=(8,8))\n",
    "        sns.scatterplot(df_scaled.iloc[:,0],                    \n",
    "                        df_scaled.iloc[:,1],                    \n",
    "                        hue=cluster_predito)\n",
    "        \n",
    "        sns.scatterplot(x=modelo_km.cluster_centers_[:,0],\n",
    "                        y=modelo_km.cluster_centers_[:,1], \n",
    "                        marker='x', s=300, \n",
    "                        linewidth=4, color='red', zorder=10);\n",
    "\n",
    "    return modelo_km , cluster_predito"
   ]
  },
  {
   "cell_type": "markdown",
   "metadata": {},
   "source": [
    "#### Modelo com K=2"
   ]
  },
  {
   "cell_type": "code",
   "execution_count": null,
   "metadata": {},
   "outputs": [],
   "source": [
    "treina_modelo_kmeans(df_scaled=df_modelo_scaled, \n",
    "                     k=2,\n",
    "                     plota_grafico=True);"
   ]
  },
  {
   "cell_type": "markdown",
   "metadata": {},
   "source": [
    "#### Modelo com K=5"
   ]
  },
  {
   "cell_type": "code",
   "execution_count": null,
   "metadata": {},
   "outputs": [],
   "source": [
    "treina_modelo_kmeans(df_scaled=df_modelo_scaled, \n",
    "                     k=5,\n",
    "                     plota_grafico=True);"
   ]
  },
  {
   "cell_type": "markdown",
   "metadata": {},
   "source": [
    "#### Modelo com K=10"
   ]
  },
  {
   "cell_type": "code",
   "execution_count": null,
   "metadata": {},
   "outputs": [],
   "source": [
    "treina_modelo_kmeans(df_scaled=df_modelo_scaled, \n",
    "                     k=10,\n",
    "                     plota_grafico=True);"
   ]
  },
  {
   "cell_type": "markdown",
   "metadata": {},
   "source": [
    "### Identificação do número de clusters"
   ]
  },
  {
   "cell_type": "code",
   "execution_count": null,
   "metadata": {},
   "outputs": [],
   "source": [
    "# Utilizando o Método do Cotovelo (Elbow-curve)\n",
    "range_n_clusters = np.arange(1, 11)\n",
    "inercia = []\n",
    "n_clust = []\n",
    "\n",
    "for num_clusters in range_n_clusters:\n",
    "    n_clust.append(num_clusters)\n",
    "    modelo, clust_pred = treina_modelo_kmeans(df_modelo_scaled, \n",
    "                                              k=num_clusters)\n",
    "    inercia.append(modelo.inertia_)\n",
    "\n",
    "fig = plt.figure(figsize=(8,5))\n",
    "graf = sns.lineplot(x=n_clust, y=inercia);\n",
    "graf.figure.suptitle('Inércia por Número de Clusters');\n",
    "graf.set_xlabel('Número de Clusters');\n",
    "graf.set_ylabel('Inércia');"
   ]
  },
  {
   "cell_type": "markdown",
   "metadata": {},
   "source": [
    "### Novo Modelo K-Means com 3 Clusters (K=3)"
   ]
  },
  {
   "cell_type": "code",
   "execution_count": null,
   "metadata": {},
   "outputs": [],
   "source": [
    "modelo_km3, cluster_predito = treina_modelo_kmeans(df_scaled=df_modelo_scaled, \n",
    "                                                   k=3, \n",
    "                                                   plota_grafico=True)"
   ]
  },
  {
   "cell_type": "markdown",
   "metadata": {},
   "source": [
    "### Interpretação e Caracterização dos Clusters\n",
    "**ATENÇÃO**: deve-se utilizar o método `predict` do modelo desenvolvido sobre o **DataFrame com as variáveis padronizadas** para identificar os clusters das observações no DataFrame original."
   ]
  },
  {
   "cell_type": "code",
   "execution_count": null,
   "metadata": {},
   "outputs": [],
   "source": [
    "df_modelo['cluster'] = cluster_predito"
   ]
  },
  {
   "cell_type": "code",
   "execution_count": null,
   "metadata": {},
   "outputs": [],
   "source": [
    "df_modelo.groupby('cluster').describe().T"
   ]
  },
  {
   "cell_type": "code",
   "execution_count": null,
   "metadata": {},
   "outputs": [],
   "source": [
    "# Análise dos clusters em relação a Renda Presumida\n",
    "fig = plt.figure(figsize=(8,5))\n",
    "sns.boxplot(x='cluster',\n",
    "            y='Renda_Presumida', \n",
    "            data=df_modelo);"
   ]
  },
  {
   "cell_type": "code",
   "execution_count": null,
   "metadata": {},
   "outputs": [],
   "source": [
    "# Análise dos clusters em relação a Idade\n",
    "fig = plt.figure(figsize=(8,5))\n",
    "sns.boxplot(x='cluster',\n",
    "            y='Idade', \n",
    "            data=df_modelo);"
   ]
  },
  {
   "cell_type": "markdown",
   "metadata": {},
   "source": [
    "### Avaliação dos Clusters em relação ao Pagamento\n",
    "Como nesta base foram fornecidas as informações de Pagamento, avaliou-se também o percentual de clientes que pagou as dívidas em cada um dos clusters."
   ]
  },
  {
   "cell_type": "code",
   "execution_count": null,
   "metadata": {},
   "outputs": [],
   "source": [
    "df_cluster_divida = pd.concat([df_modelo[['cluster']],\n",
    "                               df_pag[['Pagou_Divida']]], \n",
    "                              axis=1)\n",
    "df_cluster_divida.head()"
   ]
  },
  {
   "cell_type": "code",
   "execution_count": null,
   "metadata": {
    "tags": []
   },
   "outputs": [],
   "source": [
    "df_cluster_divida.pivot_table(values='Pagou_Divida', \n",
    "                              index='cluster')"
   ]
  },
  {
   "cell_type": "code",
   "execution_count": null,
   "metadata": {},
   "outputs": [],
   "source": []
  }
 ],
 "metadata": {
  "kernelspec": {
   "display_name": "Python 3 (ipykernel)",
   "language": "python",
   "name": "python3"
  },
  "language_info": {
   "codemirror_mode": {
    "name": "ipython",
    "version": 3
   },
   "file_extension": ".py",
   "mimetype": "text/x-python",
   "name": "python",
   "nbconvert_exporter": "python",
   "pygments_lexer": "ipython3",
   "version": "3.11.7"
  },
  "toc-autonumbering": true
 },
 "nbformat": 4,
 "nbformat_minor": 4
}
