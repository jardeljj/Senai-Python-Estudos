{
 "cells": [
  {
   "cell_type": "markdown",
   "metadata": {
    "id": "gaXxWabJ0PEr"
   },
   "source": [
    "# Função print()\n",
    "\n",
    "A função print() é uma das funções mais importantes e usadas na linguagem Python. Sua função é, basicamente, exibir mensagens na tela ou enviá-las para outro dispositivo, como imprimir dentro de arquivos de texto.\n",
    "\n",
    "No Python 3, print() é uma função interna, de modo que não é necessário importar nenhuma biblioteca para poder utilizá-la. Basta chamá-la e passar os argumentos necessários.\n",
    "\n",
    "\n"
   ]
  },
  {
   "cell_type": "code",
   "execution_count": null,
   "metadata": {
    "colab": {
     "base_uri": "https://localhost:8080/"
    },
    "id": "KRvytZQp3f8o",
    "outputId": "c21f6191-270c-4508-c9c1-01864c8ded51"
   },
   "outputs": [
    {
     "name": "stdout",
     "output_type": "stream",
     "text": [
      "Meu primeiro print!\n"
     ]
    }
   ],
   "source": [
    "print('Meu primeiro print!')"
   ]
  },
  {
   "cell_type": "code",
   "execution_count": null,
   "metadata": {
    "colab": {
     "base_uri": "https://localhost:8080/"
    },
    "id": "E1di13PT4tWD",
    "outputId": "6345c19e-7fe4-419a-82ed-98f82d7ee100"
   },
   "outputs": [
    {
     "name": "stdout",
     "output_type": "stream",
     "text": [
      "Meu primeiro print!\n"
     ]
    }
   ],
   "source": [
    "print(\"Meu primeiro print!\")"
   ]
  },
  {
   "cell_type": "code",
   "execution_count": null,
   "metadata": {
    "colab": {
     "base_uri": "https://localhost:8080/"
    },
    "id": "P2bZjwYk409x",
    "outputId": "74acd460-492f-48fa-b9f6-9d325e126edc"
   },
   "outputs": [
    {
     "name": "stdout",
     "output_type": "stream",
     "text": [
      "D'água\n"
     ]
    }
   ],
   "source": [
    "print(\"D'água\")"
   ]
  },
  {
   "cell_type": "code",
   "execution_count": null,
   "metadata": {
    "colab": {
     "base_uri": "https://localhost:8080/",
     "height": 134
    },
    "id": "IEGFswcO47_z",
    "outputId": "16f6e4da-7eb6-4cb3-c6b2-5c16664cf345"
   },
   "outputs": [
    {
     "ename": "SyntaxError",
     "evalue": "ignored",
     "output_type": "error",
     "traceback": [
      "\u001b[0;36m  File \u001b[0;32m\"<ipython-input-7-7a0cfaa784c0>\"\u001b[0;36m, line \u001b[0;32m1\u001b[0m\n\u001b[0;31m    print('D'água')\u001b[0m\n\u001b[0m                ^\u001b[0m\n\u001b[0;31mSyntaxError\u001b[0m\u001b[0;31m:\u001b[0m invalid syntax\n"
     ]
    }
   ],
   "source": [
    "print('D'água')"
   ]
  },
  {
   "cell_type": "code",
   "execution_count": null,
   "metadata": {
    "colab": {
     "base_uri": "https://localhost:8080/"
    },
    "id": "VBpb-Fqj6Gn9",
    "outputId": "a5de69cd-3a5f-4756-fb03-b7d1547fbb68"
   },
   "outputs": [
    {
     "name": "stdout",
     "output_type": "stream",
     "text": [
      "1000\n",
      "500\n"
     ]
    }
   ],
   "source": [
    "print(20 * 50)\n",
    "print(125 * 4)"
   ]
  },
  {
   "cell_type": "code",
   "execution_count": null,
   "metadata": {
    "colab": {
     "base_uri": "https://localhost:8080/"
    },
    "id": "9cc3P9hV6rZI",
    "outputId": "7954ccfe-cc08-4bac-933b-61174ee54fb6"
   },
   "outputs": [
    {
     "name": "stdout",
     "output_type": "stream",
     "text": [
      "12345\n"
     ]
    }
   ],
   "source": [
    "print(12345)"
   ]
  },
  {
   "cell_type": "code",
   "execution_count": 1,
   "metadata": {
    "id": "VFxB-DAB7Bhu"
   },
   "outputs": [],
   "source": [
    "nome = 'João Gonçalves'"
   ]
  },
  {
   "cell_type": "code",
   "execution_count": 2,
   "metadata": {
    "colab": {
     "base_uri": "https://localhost:8080/"
    },
    "id": "tKjr6rsF7MMD",
    "outputId": "ac722100-d8da-4058-db9b-d5e479dfda7a"
   },
   "outputs": [
    {
     "name": "stdout",
     "output_type": "stream",
     "text": [
      "João Gonçalves\n"
     ]
    }
   ],
   "source": [
    "print(nome)"
   ]
  },
  {
   "cell_type": "code",
   "execution_count": 3,
   "metadata": {
    "colab": {
     "base_uri": "https://localhost:8080/"
    },
    "id": "aYg25bWw7OAX",
    "outputId": "a80407e9-ca39-4cee-c896-74cd666573a2"
   },
   "outputs": [
    {
     "name": "stdout",
     "output_type": "stream",
     "text": [
      "João Gonçalves 10000 Python 672\n"
     ]
    }
   ],
   "source": [
    "print('João Gonçalves', 10000, 'Python', 12 * 56)"
   ]
  },
  {
   "cell_type": "code",
   "execution_count": null,
   "metadata": {
    "id": "NZzyivZ67Ylk"
   },
   "outputs": [],
   "source": []
  }
 ],
 "metadata": {
  "colab": {
   "provenance": []
  },
  "kernelspec": {
   "display_name": "Python 3 (ipykernel)",
   "language": "python",
   "name": "python3"
  },
  "language_info": {
   "codemirror_mode": {
    "name": "ipython",
    "version": 3
   },
   "file_extension": ".py",
   "mimetype": "text/x-python",
   "name": "python",
   "nbconvert_exporter": "python",
   "pygments_lexer": "ipython3",
   "version": "3.11.5"
  }
 },
 "nbformat": 4,
 "nbformat_minor": 1
}
