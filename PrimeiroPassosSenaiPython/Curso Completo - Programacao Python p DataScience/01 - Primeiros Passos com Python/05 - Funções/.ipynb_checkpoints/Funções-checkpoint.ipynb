{
 "cells": [
  {
   "cell_type": "markdown",
   "metadata": {
    "id": "y7teLF5495MJ"
   },
   "source": [
    "# Funções\n",
    "\n",
    "São bloco de códigos reutilizáveis que executam uma determinada tarefa.\n",
    "\n",
    "- podem ser definidas pelo programador\n",
    "- podem ser built-in (internas do Python)\n",
    "- podem ser de terceiros (pacotes)\n",
    "- são criadas com a palavra reservada **def** (definition)"
   ]
  },
  {
   "cell_type": "markdown",
   "metadata": {
    "id": "M2MWd-GS-gGB"
   },
   "source": [
    "# Criando uma função simples"
   ]
  },
  {
   "cell_type": "code",
   "execution_count": 1,
   "metadata": {
    "colab": {
     "base_uri": "https://localhost:8080/"
    },
    "id": "WpdVc5Bu-iOx",
    "outputId": "7d196dda-9802-4666-dc69-4d257dcbaf68"
   },
   "outputs": [
    {
     "name": "stdout",
     "output_type": "stream",
     "text": [
      "Seja bem vindo(a) ao Senai Ary Torres!\n",
      "Você está logado(a) no sistema!\n",
      "Não se esqueça de fazer o logout!\n"
     ]
    }
   ],
   "source": [
    "print('Seja bem vindo(a) ao Senai Ary Torres!')\n",
    "print('Você está logado(a) no sistema!')\n",
    "print('Não se esqueça de fazer o logout!')"
   ]
  },
  {
   "cell_type": "code",
   "execution_count": 2,
   "metadata": {
    "id": "78hzMUbMAc0P"
   },
   "outputs": [],
   "source": [
    "def imprimir_frases():\n",
    "    print('Seja bem vindo(a) ao Senai Ary Torres!')\n",
    "    print('Você está logado(a) no sistema!')\n",
    "    print('Não se esqueça de fazer o logout!')"
   ]
  },
  {
   "cell_type": "code",
   "execution_count": 3,
   "metadata": {
    "colab": {
     "base_uri": "https://localhost:8080/"
    },
    "id": "nqfT6qZsAz0F",
    "outputId": "48d16603-efd4-48ed-eafb-e5cb7db248f3"
   },
   "outputs": [
    {
     "name": "stdout",
     "output_type": "stream",
     "text": [
      "Seja bem vindo(a) ao Senai Ary Torres!\n",
      "Você está logado(a) no sistema!\n",
      "Não se esqueça de fazer o logout!\n"
     ]
    }
   ],
   "source": [
    "imprimir_frases()"
   ]
  },
  {
   "cell_type": "code",
   "execution_count": 4,
   "metadata": {
    "colab": {
     "base_uri": "https://localhost:8080/"
    },
    "id": "Vu9gbLPOA7UL",
    "outputId": "2498b411-1cee-4a8e-fc33-f4aab0d64f3e"
   },
   "outputs": [
    {
     "name": "stdout",
     "output_type": "stream",
     "text": [
      "Seja bem vindo(a) ao Senai Ary Torres!\n",
      "Você está logado(a) no sistema!\n",
      "Não se esqueça de fazer o logout!\n"
     ]
    }
   ],
   "source": [
    "imprimir_frases()"
   ]
  },
  {
   "cell_type": "markdown",
   "metadata": {
    "id": "oUA8DeZn-ieJ"
   },
   "source": [
    "# Criando uma função com parâmetros\n",
    "\n",
    "Parâmetros são valores que podemos passar para uma função."
   ]
  },
  {
   "cell_type": "code",
   "execution_count": 5,
   "metadata": {
    "colab": {
     "base_uri": "https://localhost:8080/"
    },
    "id": "eBK54AlG-ui8",
    "outputId": "eac4dbb5-8037-42c4-883b-12c5ea846613"
   },
   "outputs": [
    {
     "name": "stdout",
     "output_type": "stream",
     "text": [
      "Seja bem vindo(a) ao Senai Ary Torres, João!\n",
      "Você está logado(a) no sistema, João!\n",
      "Não se esqueça de fazer o logout, João!\n"
     ]
    }
   ],
   "source": [
    "print('Seja bem vindo(a) ao Senai Ary Torres, João!')\n",
    "print('Você está logado(a) no sistema, João!')\n",
    "print('Não se esqueça de fazer o logout, João!')"
   ]
  },
  {
   "cell_type": "code",
   "execution_count": 6,
   "metadata": {
    "id": "p_bQUfGbBb5a"
   },
   "outputs": [],
   "source": [
    "def imprimir_frases_usuario(nome):\n",
    "  print(f'Seja bem vindo(a) à Empowerdata, {nome}!')\n",
    "  print(f'Você está logado(a) no sistema {nome}!')\n",
    "  print(f'Não se esqueça de fazer o logout {nome}!')"
   ]
  },
  {
   "cell_type": "code",
   "execution_count": 7,
   "metadata": {
    "colab": {
     "base_uri": "https://localhost:8080/"
    },
    "id": "iIdjtKddCD4X",
    "outputId": "e8ce7e98-ea84-449c-9d19-1bfdd44a9005"
   },
   "outputs": [
    {
     "name": "stdout",
     "output_type": "stream",
     "text": [
      "Seja bem vindo(a) à Empowerdata, João!\n",
      "Você está logado(a) no sistema João!\n",
      "Não se esqueça de fazer o logout João!\n"
     ]
    }
   ],
   "source": [
    "imprimir_frases_usuario('João')"
   ]
  },
  {
   "cell_type": "code",
   "execution_count": 8,
   "metadata": {
    "colab": {
     "base_uri": "https://localhost:8080/"
    },
    "id": "f0aibUU6CPsZ",
    "outputId": "64ffed7b-2982-44df-9d2b-140c6a5b0324"
   },
   "outputs": [
    {
     "name": "stdout",
     "output_type": "stream",
     "text": [
      "Seja bem vindo(a) à Empowerdata, Ana!\n",
      "Você está logado(a) no sistema Ana!\n",
      "Não se esqueça de fazer o logout Ana!\n"
     ]
    }
   ],
   "source": [
    "imprimir_frases_usuario('Ana')"
   ]
  },
  {
   "cell_type": "code",
   "execution_count": 9,
   "metadata": {
    "id": "ppB_yqUfCY4x"
   },
   "outputs": [],
   "source": [
    "def somar_numeros(numero1, numero2):\n",
    "  print(numero1 + numero2)"
   ]
  },
  {
   "cell_type": "code",
   "execution_count": 10,
   "metadata": {
    "colab": {
     "base_uri": "https://localhost:8080/"
    },
    "id": "dWdeL5NHCmvm",
    "outputId": "64525cf0-c6a3-4ede-cd2b-65d383f66d46"
   },
   "outputs": [
    {
     "name": "stdout",
     "output_type": "stream",
     "text": [
      "25\n"
     ]
    }
   ],
   "source": [
    "somar_numeros(10, 15)"
   ]
  },
  {
   "cell_type": "code",
   "execution_count": 11,
   "metadata": {
    "colab": {
     "base_uri": "https://localhost:8080/"
    },
    "id": "qmXPzijUCo7X",
    "outputId": "2d51eb41-8c23-4853-86ef-a4245896c640"
   },
   "outputs": [
    {
     "name": "stdout",
     "output_type": "stream",
     "text": [
      "1050\n"
     ]
    }
   ],
   "source": [
    "somar_numeros(1000, 50)"
   ]
  },
  {
   "cell_type": "markdown",
   "metadata": {
    "id": "5yjjQGMR-u7s"
   },
   "source": [
    "# Escopo de variáveis em funções\n",
    "\n",
    "====>>>> **Variáveis declaradas dentro de uma função só são visíveis dentro do bloco da função!**"
   ]
  },
  {
   "cell_type": "code",
   "execution_count": 12,
   "metadata": {
    "colab": {
     "base_uri": "https://localhost:8080/"
    },
    "id": "nmr0uBMq-9h6",
    "outputId": "98c58f6e-01e1-4137-a7d2-76e4c74abdf3"
   },
   "outputs": [
    {
     "name": "stdout",
     "output_type": "stream",
     "text": [
      "Seja bem vindo(a) ao Senai Ary Torres, Paulo!\n",
      "Você está logado(a) no sistema, Paulo!\n",
      "Não se esqueça de fazer o logout, Paulo!\n"
     ]
    }
   ],
   "source": [
    "nome_teste = 'Python'\n",
    "\n",
    "def imprimir_frases_usuario(nome):\n",
    "\n",
    "  nome_usuario = nome + '!'\n",
    "\n",
    "  print(f'Seja bem vindo(a) ao Senai Ary Torres, {nome_usuario}')\n",
    "  print(f'Você está logado(a) no sistema, {nome_usuario}')\n",
    "  print(f'Não se esqueça de fazer o logout, {nome_usuario}')\n",
    "\n",
    "imprimir_frases_usuario('Paulo')"
   ]
  },
  {
   "cell_type": "code",
   "execution_count": 13,
   "metadata": {
    "colab": {
     "base_uri": "https://localhost:8080/",
     "height": 170
    },
    "id": "09JG8NU4Fz-x",
    "outputId": "999d54fe-3f45-41b8-b914-59a655af8f0a"
   },
   "outputs": [
    {
     "ename": "NameError",
     "evalue": "name 'nome_usuario' is not defined",
     "output_type": "error",
     "traceback": [
      "\u001b[1;31m---------------------------------------------------------------------------\u001b[0m",
      "\u001b[1;31mNameError\u001b[0m                                 Traceback (most recent call last)",
      "Cell \u001b[1;32mIn[13], line 1\u001b[0m\n\u001b[1;32m----> 1\u001b[0m \u001b[38;5;28mprint\u001b[39m(nome_usuario)\n",
      "\u001b[1;31mNameError\u001b[0m: name 'nome_usuario' is not defined"
     ]
    }
   ],
   "source": [
    "print(nome_usuario)"
   ]
  },
  {
   "cell_type": "code",
   "execution_count": 14,
   "metadata": {
    "colab": {
     "base_uri": "https://localhost:8080/"
    },
    "id": "N9BfAS9cGLFt",
    "outputId": "5945773c-f7e2-41fa-c164-f5e7623e189a"
   },
   "outputs": [
    {
     "name": "stdout",
     "output_type": "stream",
     "text": [
      "Python\n"
     ]
    }
   ],
   "source": [
    "print(nome_teste)"
   ]
  },
  {
   "cell_type": "markdown",
   "metadata": {
    "id": "e7mwlp27Eyfl"
   },
   "source": [
    "# Retornos\n",
    "\n",
    "Funções podem retornar um valor. Para isso utilizamos a palavra reservada **return**."
   ]
  },
  {
   "cell_type": "code",
   "execution_count": 15,
   "metadata": {
    "id": "bWJTe8kNE-Fz"
   },
   "outputs": [],
   "source": [
    "def somar_numeros(numero1, numero2):\n",
    "  return numero1 + numero2"
   ]
  },
  {
   "cell_type": "code",
   "execution_count": 17,
   "metadata": {
    "colab": {
     "base_uri": "https://localhost:8080/"
    },
    "id": "7BqszPTBJfZR",
    "outputId": "14621226-f89c-4128-a8a9-067fe147b177"
   },
   "outputs": [
    {
     "data": {
      "text/plain": [
       "40"
      ]
     },
     "execution_count": 17,
     "metadata": {},
     "output_type": "execute_result"
    }
   ],
   "source": [
    "somar_numeros(10, 30)"
   ]
  },
  {
   "cell_type": "code",
   "execution_count": 18,
   "metadata": {
    "id": "HtBEfpEZJzPc"
   },
   "outputs": [],
   "source": [
    "resultado = somar_numeros(100, 300)"
   ]
  },
  {
   "cell_type": "code",
   "execution_count": 19,
   "metadata": {
    "colab": {
     "base_uri": "https://localhost:8080/"
    },
    "id": "uzyopwrwJ-O4",
    "outputId": "fc746287-67a1-4888-90f5-e0acc8ebccb4"
   },
   "outputs": [
    {
     "name": "stdout",
     "output_type": "stream",
     "text": [
      "400\n"
     ]
    }
   ],
   "source": [
    "print(resultado)"
   ]
  },
  {
   "cell_type": "code",
   "execution_count": 20,
   "metadata": {
    "id": "TE4K54AbKDrN"
   },
   "outputs": [],
   "source": [
    "def somar_numeros(numero1, numero2):\n",
    "  resultado = numero1 + numero2\n",
    "  return resultado"
   ]
  },
  {
   "cell_type": "code",
   "execution_count": 21,
   "metadata": {
    "id": "dIGpt3utKKiq"
   },
   "outputs": [],
   "source": [
    "resultado2 = somar_numeros(1000, 100)"
   ]
  },
  {
   "cell_type": "code",
   "execution_count": 22,
   "metadata": {
    "id": "zWexFxqCKO8L"
   },
   "outputs": [],
   "source": [
    "def calculos(numero1, numero2):\n",
    "  soma = numero1 + numero2\n",
    "  multiplicacao = numero1 * numero1\n",
    "  exponenciacao = numero1 ** numero2\n",
    "\n",
    "  return soma, multiplicacao, exponenciacao"
   ]
  },
  {
   "cell_type": "code",
   "execution_count": 32,
   "metadata": {
    "colab": {
     "base_uri": "https://localhost:8080/"
    },
    "id": "ygLKWXhCKwsU",
    "outputId": "81d82de7-e5f5-49d8-e48f-153d8a521a41"
   },
   "outputs": [
    {
     "data": {
      "text/plain": [
       "(12, 100, 100)"
      ]
     },
     "execution_count": 32,
     "metadata": {},
     "output_type": "execute_result"
    }
   ],
   "source": [
    "calculos(10, 2)"
   ]
  },
  {
   "cell_type": "code",
   "execution_count": 34,
   "metadata": {
    "id": "eliWJQJ6Kzap"
   },
   "outputs": [],
   "source": [
    "resultados = calculos(10, 3)"
   ]
  },
  {
   "cell_type": "code",
   "execution_count": 35,
   "metadata": {
    "colab": {
     "base_uri": "https://localhost:8080/"
    },
    "id": "oPE-yt_5K7k0",
    "outputId": "b088fdbf-0216-4211-9f2a-1ce269193c1b"
   },
   "outputs": [
    {
     "name": "stdout",
     "output_type": "stream",
     "text": [
      "(13, 100, 1000)\n"
     ]
    }
   ],
   "source": [
    "print(resultados)"
   ]
  },
  {
   "cell_type": "code",
   "execution_count": 26,
   "metadata": {
    "colab": {
     "base_uri": "https://localhost:8080/"
    },
    "id": "huJFGy3IK9PE",
    "outputId": "3095a4c1-fd96-4440-e23d-5b0060bc09b0"
   },
   "outputs": [
    {
     "data": {
      "text/plain": [
       "tuple"
      ]
     },
     "execution_count": 26,
     "metadata": {},
     "output_type": "execute_result"
    }
   ],
   "source": [
    "type(resultados)"
   ]
  },
  {
   "cell_type": "code",
   "execution_count": 33,
   "metadata": {},
   "outputs": [
    {
     "name": "stdout",
     "output_type": "stream",
     "text": [
      "12\n",
      "100\n",
      "100\n"
     ]
    }
   ],
   "source": [
    "soma, mult, exp = calculos(10, 2)\n",
    "\n",
    "print(soma)\n",
    "print(mult)\n",
    "print(exp)"
   ]
  },
  {
   "cell_type": "markdown",
   "metadata": {
    "id": "v_8enu3YK_gJ"
   },
   "source": [
    "# Funções built-in (internas)"
   ]
  },
  {
   "cell_type": "code",
   "execution_count": 36,
   "metadata": {
    "colab": {
     "base_uri": "https://localhost:8080/"
    },
    "id": "IouyNYcxMFSM",
    "outputId": "780dbbb9-f041-4f97-9453-5067a2e0aa50"
   },
   "outputs": [
    {
     "name": "stdout",
     "output_type": "stream",
     "text": [
      "João\n"
     ]
    }
   ],
   "source": [
    "print('João')"
   ]
  },
  {
   "cell_type": "code",
   "execution_count": 37,
   "metadata": {
    "colab": {
     "base_uri": "https://localhost:8080/"
    },
    "id": "hb1ErDHzNBx5",
    "outputId": "67eadb63-db7d-4f20-a0ca-9284b128f28e"
   },
   "outputs": [
    {
     "data": {
      "text/plain": [
       "str"
      ]
     },
     "execution_count": 37,
     "metadata": {},
     "output_type": "execute_result"
    }
   ],
   "source": [
    "type('João')"
   ]
  },
  {
   "cell_type": "code",
   "execution_count": 38,
   "metadata": {
    "colab": {
     "base_uri": "https://localhost:8080/"
    },
    "id": "aPutFs4oNGEH",
    "outputId": "379c2e34-3120-4a52-8ccd-77c252f723c3"
   },
   "outputs": [
    {
     "data": {
      "text/plain": [
       "10"
      ]
     },
     "execution_count": 38,
     "metadata": {},
     "output_type": "execute_result"
    }
   ],
   "source": [
    "abs(-10)"
   ]
  },
  {
   "cell_type": "code",
   "execution_count": 39,
   "metadata": {
    "colab": {
     "base_uri": "https://localhost:8080/",
     "height": 35
    },
    "id": "_H6pjaaHNJUa",
    "outputId": "35426682-7245-4bf5-b9ca-0e33a7eb0be6"
   },
   "outputs": [
    {
     "data": {
      "text/plain": [
       "'0b1101'"
      ]
     },
     "execution_count": 39,
     "metadata": {},
     "output_type": "execute_result"
    }
   ],
   "source": [
    "bin(13)"
   ]
  },
  {
   "cell_type": "code",
   "execution_count": 40,
   "metadata": {
    "id": "0XCABhPwNOoX"
   },
   "outputs": [],
   "source": [
    "lista = [1, 2, 3, 4, 5, 6, 7]"
   ]
  },
  {
   "cell_type": "code",
   "execution_count": 41,
   "metadata": {
    "colab": {
     "base_uri": "https://localhost:8080/"
    },
    "id": "cCW1bFpZNSml",
    "outputId": "2aadc46f-f9c3-4c65-cf02-9ef2daa4abc2"
   },
   "outputs": [
    {
     "data": {
      "text/plain": [
       "7"
      ]
     },
     "execution_count": 41,
     "metadata": {},
     "output_type": "execute_result"
    }
   ],
   "source": [
    "len(lista)"
   ]
  },
  {
   "cell_type": "markdown",
   "metadata": {
    "id": "n8i9mmU8MGcS"
   },
   "source": [
    "# Funções de terceiros"
   ]
  },
  {
   "cell_type": "code",
   "execution_count": 42,
   "metadata": {
    "id": "avU75f6vMYWU"
   },
   "outputs": [],
   "source": [
    "import pandas as pd"
   ]
  },
  {
   "cell_type": "code",
   "execution_count": 43,
   "metadata": {
    "id": "b3k75I5lMZbO"
   },
   "outputs": [],
   "source": [
    "dados = {\n",
    "    'nome': ['João', 'Python', 'Senai Ary Torres']\n",
    "}"
   ]
  },
  {
   "cell_type": "code",
   "execution_count": 44,
   "metadata": {
    "colab": {
     "base_uri": "https://localhost:8080/"
    },
    "id": "lsdeAr_FNe8B",
    "outputId": "3f819d19-564e-4eea-eb7c-bc04661587c6"
   },
   "outputs": [
    {
     "data": {
      "text/plain": [
       "dict"
      ]
     },
     "execution_count": 44,
     "metadata": {},
     "output_type": "execute_result"
    }
   ],
   "source": [
    "type(dados)"
   ]
  },
  {
   "cell_type": "code",
   "execution_count": 45,
   "metadata": {
    "id": "6tOxvuSnNf1m"
   },
   "outputs": [],
   "source": [
    "df = pd.DataFrame(dados)"
   ]
  },
  {
   "cell_type": "code",
   "execution_count": 46,
   "metadata": {
    "colab": {
     "base_uri": "https://localhost:8080/",
     "height": 143
    },
    "id": "5f-Jb4VLNtRS",
    "outputId": "82cbc346-fc78-4d86-c637-231def280ae0"
   },
   "outputs": [
    {
     "data": {
      "text/html": [
       "<div>\n",
       "<style scoped>\n",
       "    .dataframe tbody tr th:only-of-type {\n",
       "        vertical-align: middle;\n",
       "    }\n",
       "\n",
       "    .dataframe tbody tr th {\n",
       "        vertical-align: top;\n",
       "    }\n",
       "\n",
       "    .dataframe thead th {\n",
       "        text-align: right;\n",
       "    }\n",
       "</style>\n",
       "<table border=\"1\" class=\"dataframe\">\n",
       "  <thead>\n",
       "    <tr style=\"text-align: right;\">\n",
       "      <th></th>\n",
       "      <th>nome</th>\n",
       "    </tr>\n",
       "  </thead>\n",
       "  <tbody>\n",
       "    <tr>\n",
       "      <th>0</th>\n",
       "      <td>João</td>\n",
       "    </tr>\n",
       "    <tr>\n",
       "      <th>1</th>\n",
       "      <td>Python</td>\n",
       "    </tr>\n",
       "    <tr>\n",
       "      <th>2</th>\n",
       "      <td>Senai Ary Torres</td>\n",
       "    </tr>\n",
       "  </tbody>\n",
       "</table>\n",
       "</div>"
      ],
      "text/plain": [
       "               nome\n",
       "0              João\n",
       "1            Python\n",
       "2  Senai Ary Torres"
      ]
     },
     "execution_count": 46,
     "metadata": {},
     "output_type": "execute_result"
    }
   ],
   "source": [
    "df"
   ]
  },
  {
   "cell_type": "code",
   "execution_count": null,
   "metadata": {
    "id": "zlzw_twmNu-t"
   },
   "outputs": [],
   "source": []
  }
 ],
 "metadata": {
  "colab": {
   "collapsed_sections": [],
   "name": "Funções.ipynb",
   "provenance": []
  },
  "kernelspec": {
   "display_name": "Python 3 (ipykernel)",
   "language": "python",
   "name": "python3"
  },
  "language_info": {
   "codemirror_mode": {
    "name": "ipython",
    "version": 3
   },
   "file_extension": ".py",
   "mimetype": "text/x-python",
   "name": "python",
   "nbconvert_exporter": "python",
   "pygments_lexer": "ipython3",
   "version": "3.11.7"
  }
 },
 "nbformat": 4,
 "nbformat_minor": 4
}
