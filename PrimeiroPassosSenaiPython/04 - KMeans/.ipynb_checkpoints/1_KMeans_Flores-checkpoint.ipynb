{
 "cells": [
  {
   "cell_type": "markdown",
   "metadata": {},
   "source": [
    "# Clusterização: K-Means - Grupos de Flores"
   ]
  },
  {
   "cell_type": "markdown",
   "metadata": {},
   "source": [
    "## Importação das bibliotecas"
   ]
  },
  {
   "cell_type": "code",
   "execution_count": null,
   "metadata": {},
   "outputs": [],
   "source": [
    "# Pacotes de preparação dos dados\n",
    "import numpy as np\n",
    "import pandas as pd\n",
    "\n",
    "# Pacotes gráficos\n",
    "import matplotlib.pyplot as plt\n",
    "import seaborn as sns\n",
    "\n",
    "# Pacotes de modelagem\n",
    "import sklearn\n",
    "from sklearn.preprocessing import StandardScaler\n",
    "from sklearn.cluster import KMeans"
   ]
  },
  {
   "cell_type": "markdown",
   "metadata": {},
   "source": [
    "## Importação da base de dados"
   ]
  },
  {
   "cell_type": "code",
   "execution_count": null,
   "metadata": {},
   "outputs": [],
   "source": [
    "df_iris = pd.read_csv('iris.csv')\n",
    "df_iris.head()"
   ]
  },
  {
   "cell_type": "markdown",
   "metadata": {},
   "source": [
    "## Preparação dos Dados"
   ]
  },
  {
   "cell_type": "markdown",
   "metadata": {},
   "source": [
    "### Missing Values"
   ]
  },
  {
   "cell_type": "code",
   "execution_count": null,
   "metadata": {},
   "outputs": [],
   "source": [
    "df_iris.isnull().sum()"
   ]
  },
  {
   "cell_type": "markdown",
   "metadata": {},
   "source": [
    "### Duplicações"
   ]
  },
  {
   "cell_type": "code",
   "execution_count": null,
   "metadata": {},
   "outputs": [],
   "source": [
    "df_iris.duplicated().sum()"
   ]
  },
  {
   "cell_type": "markdown",
   "metadata": {},
   "source": [
    "### Tipos de Variáveis"
   ]
  },
  {
   "cell_type": "code",
   "execution_count": null,
   "metadata": {},
   "outputs": [],
   "source": [
    "df_iris.info()"
   ]
  },
  {
   "cell_type": "markdown",
   "metadata": {},
   "source": [
    "## Análise Exploratória dos Dados"
   ]
  },
  {
   "cell_type": "markdown",
   "metadata": {},
   "source": [
    "### Dispersão por Classe"
   ]
  },
  {
   "cell_type": "code",
   "execution_count": null,
   "metadata": {},
   "outputs": [],
   "source": [
    "sns.pairplot(df_iris, hue='Tipo_Orquidea')"
   ]
  },
  {
   "cell_type": "markdown",
   "metadata": {},
   "source": [
    "## Desenvolvimento do Modelo: K-Means"
   ]
  },
  {
   "cell_type": "markdown",
   "metadata": {},
   "source": [
    "### Padronização da Escala"
   ]
  },
  {
   "cell_type": "code",
   "execution_count": null,
   "metadata": {},
   "outputs": [],
   "source": [
    "# Seleção das variáveis\n",
    "df_modelo = df_iris[['comprimento_petala',\n",
    "                     'comprimento_sepala']].copy()\n",
    "\n",
    "# Padronização da Escala\n",
    "x_scaler = StandardScaler()\n",
    "x_scaler.fit(df_modelo)\n",
    "\n",
    "df_modelo_scaled = pd.DataFrame(x_scaler.transform(df_modelo),\n",
    "                                index=df_modelo.index,\n",
    "                                columns=df_modelo.columns)"
   ]
  },
  {
   "cell_type": "code",
   "execution_count": null,
   "metadata": {},
   "outputs": [],
   "source": [
    "df_modelo.describe()"
   ]
  },
  {
   "cell_type": "code",
   "execution_count": null,
   "metadata": {},
   "outputs": [],
   "source": [
    "df_modelo_scaled.describe()"
   ]
  },
  {
   "cell_type": "code",
   "execution_count": null,
   "metadata": {},
   "outputs": [],
   "source": [
    "# Plotando comprimento_petala por largura_petala\n",
    "fig = plt.figure(figsize=(8,8))\n",
    "plt.scatter(df_modelo['comprimento_petala'],\n",
    "            df_modelo['comprimento_sepala']);\n",
    "plt.xlabel('comprimento_petala');\n",
    "plt.ylabel('comprimento_sepala');"
   ]
  },
  {
   "cell_type": "code",
   "execution_count": null,
   "metadata": {},
   "outputs": [],
   "source": [
    "# Plotando comprimento_petala por largura_petala\n",
    "# com escala padronizada\n",
    "fig = plt.figure(figsize=(8,8))\n",
    "plt.scatter(df_modelo_scaled['comprimento_petala'],\n",
    "            df_modelo_scaled['comprimento_sepala']);\n",
    "plt.xlabel('comprimento_petala Padronizada');\n",
    "plt.ylabel('comprimento_sepala Padronizada');"
   ]
  },
  {
   "cell_type": "markdown",
   "metadata": {},
   "source": [
    "### Treinamento do Modelo"
   ]
  },
  {
   "cell_type": "code",
   "execution_count": null,
   "metadata": {},
   "outputs": [],
   "source": [
    "modelo_km = KMeans(n_clusters=2, \n",
    "                   random_state=42)\n",
    "modelo_km.fit(df_modelo_scaled)"
   ]
  },
  {
   "cell_type": "markdown",
   "metadata": {},
   "source": [
    "### Análise dos clusters criados"
   ]
  },
  {
   "cell_type": "code",
   "execution_count": null,
   "metadata": {},
   "outputs": [],
   "source": [
    "cluster_predito = modelo_km.predict(df_modelo_scaled)\n",
    "cluster_predito"
   ]
  },
  {
   "cell_type": "code",
   "execution_count": null,
   "metadata": {},
   "outputs": [],
   "source": [
    "modelo_km.cluster_centers_"
   ]
  },
  {
   "cell_type": "code",
   "execution_count": null,
   "metadata": {},
   "outputs": [],
   "source": [
    "fig = plt.figure(figsize=(8,8))\n",
    "\n",
    "# Plotando comprimento_petala por largura_petala\n",
    "sns.scatterplot(x=df_modelo_scaled['comprimento_petala'],\n",
    "                y=df_modelo_scaled['comprimento_sepala'],\n",
    "                hue=cluster_predito, s=50)\n",
    "\n",
    "# Marcando os centróides\n",
    "sns.scatterplot(x=modelo_km.cluster_centers_[:,0],\n",
    "                y=modelo_km.cluster_centers_[:,1], \n",
    "                marker='x', s=300, \n",
    "                linewidth=4, color='red', zorder=10);"
   ]
  },
  {
   "cell_type": "markdown",
   "metadata": {},
   "source": [
    "### Cálculo da Inércia\n",
    "A Inércia é a soma das distâncias entre cada observação e centróide do cluster ao qual ela pertence, ao quadrado."
   ]
  },
  {
   "cell_type": "code",
   "execution_count": null,
   "metadata": {},
   "outputs": [],
   "source": [
    "modelo_km.inertia_"
   ]
  },
  {
   "cell_type": "markdown",
   "metadata": {},
   "source": [
    "### Identificação do número de clusters"
   ]
  },
  {
   "cell_type": "code",
   "execution_count": null,
   "metadata": {},
   "outputs": [],
   "source": [
    "# Utilizando o Método do Cotovelo (Elbow-curve)\n",
    "range_n_clusters = [1, 2, 3, 4, 5, 6, 7, 8, 9, 10]\n",
    "inercia = []\n",
    "\n",
    "for num_clusters in range_n_clusters:\n",
    "    kmeans = KMeans(n_clusters=num_clusters, max_iter=50)\n",
    "    kmeans.fit(df_modelo_scaled)\n",
    "    inercia.append(kmeans.inertia_)\n",
    "\n",
    "fig = plt.figure(figsize=(8,5))\n",
    "graf = sns.lineplot(x=range_n_clusters,\n",
    "             y=inercia)\n",
    "graf.figure.suptitle('Inércia por Número de Clusters');\n",
    "graf.set_xlabel('Número de Clusters');\n",
    "graf.set_ylabel('Inércia');"
   ]
  },
  {
   "cell_type": "markdown",
   "metadata": {},
   "source": [
    "### Novo Modelo K-Means com 3 Clusters (K=3)"
   ]
  },
  {
   "cell_type": "code",
   "execution_count": null,
   "metadata": {},
   "outputs": [],
   "source": [
    "modelo_km3 = KMeans(n_clusters=3, \n",
    "                    random_state=42)\n",
    "\n",
    "modelo_km3.fit(df_modelo_scaled)"
   ]
  },
  {
   "cell_type": "markdown",
   "metadata": {},
   "source": [
    "### Análise dos novos clusters criados"
   ]
  },
  {
   "cell_type": "code",
   "execution_count": null,
   "metadata": {},
   "outputs": [],
   "source": [
    "cluster_predito = modelo_km3.predict(df_modelo_scaled)\n",
    "\n",
    "fig = plt.figure(figsize=(8,8))\n",
    "# Plotando comprimento_sepala por comprimento_petala\n",
    "sns.scatterplot(x=df_modelo_scaled['comprimento_petala'],\n",
    "                y=df_modelo_scaled['comprimento_sepala'],\n",
    "                hue=cluster_predito,\n",
    "                s=50)\n",
    "\n",
    "# Marcando os centróides\n",
    "sns.scatterplot(x=modelo_km3.cluster_centers_[:,0],\n",
    "                y=modelo_km3.cluster_centers_[:,1], \n",
    "                marker='x', s=300, \n",
    "                linewidth=4, color='red', zorder=10);"
   ]
  },
  {
   "cell_type": "markdown",
   "metadata": {},
   "source": [
    "### Interpretação e Caracterização dos Clusters\n",
    "**ATENÇÃO**: deve-se utilizar o método `predict` do modelo desenvolvido sobre o **DataFrame com as variáveis padronizadas** para identificar os clusters das observações no DataFrame original."
   ]
  },
  {
   "cell_type": "code",
   "execution_count": null,
   "metadata": {},
   "outputs": [],
   "source": [
    "df_modelo['cluster'] = modelo_km3.predict(df_modelo_scaled)"
   ]
  },
  {
   "cell_type": "code",
   "execution_count": null,
   "metadata": {},
   "outputs": [],
   "source": [
    "df_modelo.groupby('cluster').describe().T"
   ]
  },
  {
   "cell_type": "code",
   "execution_count": null,
   "metadata": {},
   "outputs": [],
   "source": [
    "# Análise dos clusters em relação ao Comprimento da Pétala\n",
    "fig = plt.figure(figsize=(8,8))\n",
    "sns.boxplot(x='cluster',\n",
    "            y='comprimento_petala', \n",
    "            data=df_modelo);"
   ]
  },
  {
   "cell_type": "code",
   "execution_count": null,
   "metadata": {},
   "outputs": [],
   "source": [
    "# Análise dos clusters em relação ao Comprimento da Sépala\n",
    "fig = plt.figure(figsize=(8,8))\n",
    "sns.boxplot(x='cluster',\n",
    "            y='comprimento_sepala', \n",
    "            data=df_modelo);"
   ]
  },
  {
   "cell_type": "markdown",
   "metadata": {},
   "source": [
    "### Opcional: Avaliação em relação a um *Target*\n",
    "Em alguns casos, pode ser interessante desenvolver um modelo de cluster para construir grupos e avaliar esses grupos em relação a um *Target* que pode não estar disponível em todas as situações."
   ]
  },
  {
   "cell_type": "code",
   "execution_count": null,
   "metadata": {},
   "outputs": [],
   "source": [
    "df_iris.head()"
   ]
  },
  {
   "cell_type": "code",
   "execution_count": null,
   "metadata": {},
   "outputs": [],
   "source": [
    "df_cluster_flor = pd.concat([df_modelo[['cluster']],\n",
    "                             df_iris[['Tipo_Orquidea']]], \n",
    "                            axis=1)\n",
    "df_cluster_flor.head()"
   ]
  },
  {
   "cell_type": "code",
   "execution_count": null,
   "metadata": {
    "tags": []
   },
   "outputs": [],
   "source": [
    "df_cluster_flor.pivot_table(values='Tipo_Orquidea', \n",
    "                            index='cluster')"
   ]
  },
  {
   "cell_type": "code",
   "execution_count": null,
   "metadata": {},
   "outputs": [],
   "source": []
  }
 ],
 "metadata": {
  "kernelspec": {
   "display_name": "Python 3 (ipykernel)",
   "language": "python",
   "name": "python3"
  },
  "language_info": {
   "codemirror_mode": {
    "name": "ipython",
    "version": 3
   },
   "file_extension": ".py",
   "mimetype": "text/x-python",
   "name": "python",
   "nbconvert_exporter": "python",
   "pygments_lexer": "ipython3",
   "version": "3.11.7"
  },
  "toc-autonumbering": true
 },
 "nbformat": 4,
 "nbformat_minor": 4
}
