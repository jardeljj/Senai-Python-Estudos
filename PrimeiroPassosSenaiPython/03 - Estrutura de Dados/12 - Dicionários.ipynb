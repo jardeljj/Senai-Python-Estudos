{
 "cells": [
  {
   "cell_type": "markdown",
   "metadata": {
    "id": "bflhvhjrCQeL"
   },
   "source": [
    "# Dicionários\n",
    "\n",
    "O dicionário é uma estrutura de dados do Python utilizada para armazenar várias informações. Os dicionários são organizados em pares de chaves e valores.\n",
    "\n",
    "- Notação: {chave: valor}\n",
    "- são mutáveis\n",
    "- chaves precisam ser únicas."
   ]
  },
  {
   "cell_type": "markdown",
   "metadata": {
    "id": "8CbKkxEwDBne"
   },
   "source": [
    "# Criando um dicionário"
   ]
  },
  {
   "cell_type": "code",
   "execution_count": 1,
   "metadata": {
    "id": "BT9FHk1-DE5m"
   },
   "outputs": [],
   "source": [
    "dados = {\n",
    "    'nome': 'João Gonçalves',\n",
    "    'estado': 'São Paulo',\n",
    "    'linguagem': 'Python'\n",
    "}"
   ]
  },
  {
   "cell_type": "code",
   "execution_count": 2,
   "metadata": {
    "colab": {
     "base_uri": "https://localhost:8080/"
    },
    "id": "RUFAtbt6HAKM",
    "outputId": "97421b2d-5529-4d9b-c145-79c36da09eb1"
   },
   "outputs": [
    {
     "name": "stdout",
     "output_type": "stream",
     "text": [
      "{'nome': 'João Gonçalves', 'estado': 'São Paulo', 'linguagem': 'Python'}\n"
     ]
    }
   ],
   "source": [
    "print(dados)"
   ]
  },
  {
   "cell_type": "code",
   "execution_count": 5,
   "metadata": {
    "id": "phjdamcsHD64"
   },
   "outputs": [],
   "source": [
    "dados = {\n",
    "    'nome': 'João Gonçalves',\n",
    "    'nome': 'Gabriel',\n",
    "    'estado': 'Espirito Santo',\n",
    "    'linguagem': 'Python'\n",
    "}"
   ]
  },
  {
   "cell_type": "code",
   "execution_count": 4,
   "metadata": {
    "colab": {
     "base_uri": "https://localhost:8080/"
    },
    "id": "HcM15tS1HJ_B",
    "outputId": "3eb69072-221e-45ea-9c0a-996f3b12b5c7"
   },
   "outputs": [
    {
     "name": "stdout",
     "output_type": "stream",
     "text": [
      "{'nome': 'Gabriel', 'estado': 'Espirito Santo', 'linguagem': 'Python'}\n"
     ]
    }
   ],
   "source": [
    "print(dados)"
   ]
  },
  {
   "cell_type": "code",
   "execution_count": 6,
   "metadata": {
    "id": "yHmmxh9jHRc3"
   },
   "outputs": [],
   "source": [
    "dados = {\n",
    "    'nome': 'Mariana',\n",
    "    'idade': 27,\n",
    "    'estado': 'Minas Gerais',\n",
    "    'cidade': 'Belo Horizonte'\n",
    "}"
   ]
  },
  {
   "cell_type": "code",
   "execution_count": 17,
   "metadata": {
    "colab": {
     "base_uri": "https://localhost:8080/"
    },
    "id": "eOM2UjSOHbos",
    "outputId": "5f77d23a-037d-4165-eba5-a0300f4edd80"
   },
   "outputs": [
    {
     "name": "stdout",
     "output_type": "stream",
     "text": [
      "{'nome': 'Mariana', 'idade': 27, 'estado': 'Minas Gerais', 'cidade': 'Belo Horizonte'}\n"
     ]
    }
   ],
   "source": [
    "print(dados)"
   ]
  },
  {
   "cell_type": "code",
   "execution_count": 18,
   "metadata": {
    "id": "HAatGsFVHipt"
   },
   "outputs": [],
   "source": [
    "dados_numericos = {\n",
    "    1: 'número um',\n",
    "    2: 'número dois',\n",
    "    3: 'número três'\n",
    "}"
   ]
  },
  {
   "cell_type": "code",
   "execution_count": 19,
   "metadata": {
    "colab": {
     "base_uri": "https://localhost:8080/"
    },
    "id": "MYQKolvmHyd7",
    "outputId": "b34f2732-bda4-4a5c-a8ff-361153e06d70"
   },
   "outputs": [
    {
     "name": "stdout",
     "output_type": "stream",
     "text": [
      "{1: 'número um', 2: 'número dois', 3: 'número três'}\n"
     ]
    }
   ],
   "source": [
    "print(dados_numericos)"
   ]
  },
  {
   "cell_type": "code",
   "execution_count": 20,
   "metadata": {
    "colab": {
     "base_uri": "https://localhost:8080/"
    },
    "id": "hdEJ2engH1Ei",
    "outputId": "a86c72d9-7f71-465d-e240-fcb71a85a0d4"
   },
   "outputs": [
    {
     "data": {
      "text/plain": [
       "dict"
      ]
     },
     "execution_count": 20,
     "metadata": {},
     "output_type": "execute_result"
    }
   ],
   "source": [
    "type(dados)"
   ]
  },
  {
   "cell_type": "code",
   "execution_count": 21,
   "metadata": {
    "colab": {
     "base_uri": "https://localhost:8080/"
    },
    "id": "2w785enUH4mO",
    "outputId": "b909c81f-d8e1-4e97-ac88-9de755c191c1"
   },
   "outputs": [
    {
     "data": {
      "text/plain": [
       "dict"
      ]
     },
     "execution_count": 21,
     "metadata": {},
     "output_type": "execute_result"
    }
   ],
   "source": [
    "type(dados_numericos)"
   ]
  },
  {
   "cell_type": "markdown",
   "metadata": {
    "id": "E7AKub3iDrWw"
   },
   "source": [
    "# Listando chaves, valores e elementos"
   ]
  },
  {
   "cell_type": "markdown",
   "metadata": {
    "id": "cExb7nw5FEiU"
   },
   "source": [
    "## Método `keys()`"
   ]
  },
  {
   "cell_type": "code",
   "execution_count": 22,
   "metadata": {
    "colab": {
     "base_uri": "https://localhost:8080/"
    },
    "id": "0blS9_YgIDff",
    "outputId": "b3c50919-aa22-43cf-cfd8-869b1f1b4f85"
   },
   "outputs": [
    {
     "data": {
      "text/plain": [
       "{'nome': 'Mariana',\n",
       " 'idade': 27,\n",
       " 'estado': 'Minas Gerais',\n",
       " 'cidade': 'Belo Horizonte'}"
      ]
     },
     "execution_count": 22,
     "metadata": {},
     "output_type": "execute_result"
    }
   ],
   "source": [
    "dados"
   ]
  },
  {
   "cell_type": "code",
   "execution_count": 24,
   "metadata": {
    "colab": {
     "base_uri": "https://localhost:8080/"
    },
    "id": "4EZgf_81D26E",
    "outputId": "fd4daa83-fb1d-4195-ad6b-8384a8738122"
   },
   "outputs": [
    {
     "data": {
      "text/plain": [
       "dict_keys(['nome', 'idade', 'estado', 'cidade'])"
      ]
     },
     "execution_count": 24,
     "metadata": {},
     "output_type": "execute_result"
    }
   ],
   "source": [
    "dados.keys()"
   ]
  },
  {
   "cell_type": "code",
   "execution_count": 25,
   "metadata": {
    "colab": {
     "base_uri": "https://localhost:8080/"
    },
    "id": "MA2A5zxQIK0Q",
    "outputId": "915a5afe-7193-4fd0-f077-883992e24ef0"
   },
   "outputs": [
    {
     "data": {
      "text/plain": [
       "dict_keys"
      ]
     },
     "execution_count": 25,
     "metadata": {},
     "output_type": "execute_result"
    }
   ],
   "source": [
    "type(dados.keys())"
   ]
  },
  {
   "cell_type": "markdown",
   "metadata": {
    "id": "wMLn1_XnFJoS"
   },
   "source": [
    "## Método `values()`"
   ]
  },
  {
   "cell_type": "code",
   "execution_count": 26,
   "metadata": {
    "colab": {
     "base_uri": "https://localhost:8080/"
    },
    "id": "JT9iR8RzFNPQ",
    "outputId": "c8771dc5-3e15-40a0-c171-5a7dfc4f0b1f"
   },
   "outputs": [
    {
     "data": {
      "text/plain": [
       "{'nome': 'Mariana',\n",
       " 'idade': 27,\n",
       " 'estado': 'Minas Gerais',\n",
       " 'cidade': 'Belo Horizonte'}"
      ]
     },
     "execution_count": 26,
     "metadata": {},
     "output_type": "execute_result"
    }
   ],
   "source": [
    "dados"
   ]
  },
  {
   "cell_type": "code",
   "execution_count": 29,
   "metadata": {
    "colab": {
     "base_uri": "https://localhost:8080/"
    },
    "id": "mBBMlF2OIRE_",
    "outputId": "1c49244e-a2ac-41da-f886-955ab7ac1cc6"
   },
   "outputs": [
    {
     "data": {
      "text/plain": [
       "dict_values(['Mariana', 27, 'Minas Gerais', 'Belo Horizonte'])"
      ]
     },
     "execution_count": 29,
     "metadata": {},
     "output_type": "execute_result"
    }
   ],
   "source": [
    "dados.values()"
   ]
  },
  {
   "cell_type": "markdown",
   "metadata": {
    "id": "1wkIluhXFNin"
   },
   "source": [
    "## Método `items()`"
   ]
  },
  {
   "cell_type": "code",
   "execution_count": 30,
   "metadata": {
    "colab": {
     "base_uri": "https://localhost:8080/"
    },
    "id": "n3g8b6S3IYjS",
    "outputId": "d05e7afb-4e72-48d5-8fd9-2d6ed7f555e0"
   },
   "outputs": [
    {
     "data": {
      "text/plain": [
       "dict_items([('nome', 'Mariana'), ('idade', 27), ('estado', 'Minas Gerais'), ('cidade', 'Belo Horizonte')])"
      ]
     },
     "execution_count": 30,
     "metadata": {},
     "output_type": "execute_result"
    }
   ],
   "source": [
    "dados.items()"
   ]
  },
  {
   "cell_type": "markdown",
   "metadata": {
    "id": "I7e9587TJDmq"
   },
   "source": [
    "# Acessando os elementos de um dicionário"
   ]
  },
  {
   "cell_type": "code",
   "execution_count": 31,
   "metadata": {
    "colab": {
     "base_uri": "https://localhost:8080/"
    },
    "id": "5Gvnf3wFJJot",
    "outputId": "744e81c8-4e81-4d61-e655-62a575c203d8"
   },
   "outputs": [
    {
     "name": "stdout",
     "output_type": "stream",
     "text": [
      "{'nome': 'Mariana', 'idade': 27, 'estado': 'Minas Gerais', 'cidade': 'Belo Horizonte'}\n"
     ]
    }
   ],
   "source": [
    "print(dados)"
   ]
  },
  {
   "cell_type": "code",
   "execution_count": 32,
   "metadata": {
    "colab": {
     "base_uri": "https://localhost:8080/",
     "height": 35
    },
    "id": "wmQ0SgG5JnzI",
    "outputId": "ad3c6810-a45e-4245-ce2d-4feb75a05ba2"
   },
   "outputs": [
    {
     "data": {
      "text/plain": [
       "'Mariana'"
      ]
     },
     "execution_count": 32,
     "metadata": {},
     "output_type": "execute_result"
    }
   ],
   "source": [
    "dados['nome']"
   ]
  },
  {
   "cell_type": "code",
   "execution_count": 33,
   "metadata": {
    "colab": {
     "base_uri": "https://localhost:8080/",
     "height": 35
    },
    "id": "Xp7L8QnrJ0dI",
    "outputId": "45e34a31-e926-4e7d-fc85-801b3aeabee2"
   },
   "outputs": [
    {
     "data": {
      "text/plain": [
       "'Minas Gerais'"
      ]
     },
     "execution_count": 33,
     "metadata": {},
     "output_type": "execute_result"
    }
   ],
   "source": [
    "dados['estado']"
   ]
  },
  {
   "cell_type": "code",
   "execution_count": 34,
   "metadata": {
    "colab": {
     "base_uri": "https://localhost:8080/"
    },
    "id": "eVFy5v6nJ4KC",
    "outputId": "60804467-d9c6-4213-c320-2124100446c2"
   },
   "outputs": [
    {
     "data": {
      "text/plain": [
       "27"
      ]
     },
     "execution_count": 34,
     "metadata": {},
     "output_type": "execute_result"
    }
   ],
   "source": [
    "dados['idade']"
   ]
  },
  {
   "cell_type": "markdown",
   "metadata": {
    "id": "S0J4snUzDFKk"
   },
   "source": [
    "# Manipulando elementos de um dicionário"
   ]
  },
  {
   "cell_type": "markdown",
   "metadata": {
    "id": "6PjH9s1TDTBz"
   },
   "source": [
    "## Inserindo elementos"
   ]
  },
  {
   "cell_type": "code",
   "execution_count": 35,
   "metadata": {
    "colab": {
     "base_uri": "https://localhost:8080/"
    },
    "id": "2u5Yz_DMD8PU",
    "outputId": "6bf60941-5d0c-48ce-ddfe-c9de304730f9"
   },
   "outputs": [
    {
     "data": {
      "text/plain": [
       "{'nome': 'Mariana',\n",
       " 'idade': 27,\n",
       " 'estado': 'Minas Gerais',\n",
       " 'cidade': 'Belo Horizonte'}"
      ]
     },
     "execution_count": 35,
     "metadata": {},
     "output_type": "execute_result"
    }
   ],
   "source": [
    "dados"
   ]
  },
  {
   "cell_type": "code",
   "execution_count": 36,
   "metadata": {
    "id": "gjCVN55EKAfn"
   },
   "outputs": [],
   "source": [
    "dados['nacionalidade'] = 'brasileira'"
   ]
  },
  {
   "cell_type": "code",
   "execution_count": 37,
   "metadata": {
    "colab": {
     "base_uri": "https://localhost:8080/"
    },
    "id": "bhrhHyHnKOVR",
    "outputId": "82197db4-3e54-403e-c5e6-2ca73780faae"
   },
   "outputs": [
    {
     "data": {
      "text/plain": [
       "{'nome': 'Mariana',\n",
       " 'idade': 27,\n",
       " 'estado': 'Minas Gerais',\n",
       " 'cidade': 'Belo Horizonte',\n",
       " 'nacionalidade': 'brasileira'}"
      ]
     },
     "execution_count": 37,
     "metadata": {},
     "output_type": "execute_result"
    }
   ],
   "source": [
    "dados"
   ]
  },
  {
   "cell_type": "code",
   "execution_count": 38,
   "metadata": {
    "colab": {
     "base_uri": "https://localhost:8080/"
    },
    "id": "_v1x3UkCKRSW",
    "outputId": "31ef8d81-876b-4475-c18d-0b449a258cbb"
   },
   "outputs": [
    {
     "data": {
      "text/plain": [
       "{1: 'número um', 2: 'número dois', 3: 'número três'}"
      ]
     },
     "execution_count": 38,
     "metadata": {},
     "output_type": "execute_result"
    }
   ],
   "source": [
    "dados_numericos"
   ]
  },
  {
   "cell_type": "code",
   "execution_count": 39,
   "metadata": {
    "id": "OcOwz6C4KTMy"
   },
   "outputs": [],
   "source": [
    "dados_numericos[4] = 'número 4'"
   ]
  },
  {
   "cell_type": "code",
   "execution_count": 40,
   "metadata": {
    "colab": {
     "base_uri": "https://localhost:8080/"
    },
    "id": "uq_mcUaTKeu-",
    "outputId": "b1ae52f1-9c78-4113-bfc2-ee27627a396a"
   },
   "outputs": [
    {
     "data": {
      "text/plain": [
       "{1: 'número um', 2: 'número dois', 3: 'número três', 4: 'número 4'}"
      ]
     },
     "execution_count": 40,
     "metadata": {},
     "output_type": "execute_result"
    }
   ],
   "source": [
    "dados_numericos"
   ]
  },
  {
   "cell_type": "markdown",
   "metadata": {
    "id": "OMkBh_UVD8sY"
   },
   "source": [
    "## Atualizando elementos"
   ]
  },
  {
   "cell_type": "code",
   "execution_count": 41,
   "metadata": {
    "colab": {
     "base_uri": "https://localhost:8080/"
    },
    "id": "A579gdL2D-mZ",
    "outputId": "6ba1cefc-8fd2-4ebd-eb77-ae5e0be7bd0f"
   },
   "outputs": [
    {
     "data": {
      "text/plain": [
       "{'nome': 'Mariana',\n",
       " 'idade': 27,\n",
       " 'estado': 'Minas Gerais',\n",
       " 'cidade': 'Belo Horizonte',\n",
       " 'nacionalidade': 'brasileira'}"
      ]
     },
     "execution_count": 41,
     "metadata": {},
     "output_type": "execute_result"
    }
   ],
   "source": [
    "dados"
   ]
  },
  {
   "cell_type": "code",
   "execution_count": 42,
   "metadata": {
    "id": "kcivwaw4KtA-"
   },
   "outputs": [],
   "source": [
    "dados['idade'] = 33"
   ]
  },
  {
   "cell_type": "code",
   "execution_count": 43,
   "metadata": {
    "colab": {
     "base_uri": "https://localhost:8080/"
    },
    "id": "Q3pEQ4yJK2F_",
    "outputId": "62bdb710-1048-45c0-8d6f-b9fd62393d28"
   },
   "outputs": [
    {
     "data": {
      "text/plain": [
       "{'nome': 'Mariana',\n",
       " 'idade': 33,\n",
       " 'estado': 'Minas Gerais',\n",
       " 'cidade': 'Belo Horizonte',\n",
       " 'nacionalidade': 'brasileira'}"
      ]
     },
     "execution_count": 43,
     "metadata": {},
     "output_type": "execute_result"
    }
   ],
   "source": [
    "dados"
   ]
  },
  {
   "cell_type": "code",
   "execution_count": 44,
   "metadata": {
    "id": "hg8KyWlTK7hE"
   },
   "outputs": [],
   "source": [
    "dados['cidade'] = 'Juiz de Fora'"
   ]
  },
  {
   "cell_type": "code",
   "execution_count": 45,
   "metadata": {
    "colab": {
     "base_uri": "https://localhost:8080/"
    },
    "id": "JTxGM6BEK__p",
    "outputId": "c9981ac7-b6c1-46c1-c0b6-2a6bd6e28301"
   },
   "outputs": [
    {
     "data": {
      "text/plain": [
       "{'nome': 'Mariana',\n",
       " 'idade': 33,\n",
       " 'estado': 'Minas Gerais',\n",
       " 'cidade': 'Juiz de Fora',\n",
       " 'nacionalidade': 'brasileira'}"
      ]
     },
     "execution_count": 45,
     "metadata": {},
     "output_type": "execute_result"
    }
   ],
   "source": [
    "dados"
   ]
  },
  {
   "cell_type": "markdown",
   "metadata": {
    "id": "19u7hPNhD-0E"
   },
   "source": [
    "## Deletando elementos"
   ]
  },
  {
   "cell_type": "markdown",
   "metadata": {
    "id": "4Fu1H2-8ECDI"
   },
   "source": [
    "### Método `pop()`"
   ]
  },
  {
   "cell_type": "code",
   "execution_count": 46,
   "metadata": {
    "colab": {
     "base_uri": "https://localhost:8080/"
    },
    "id": "TTqDiUj-EFtj",
    "outputId": "8124a024-e637-466a-d9fc-08ef38fa63c5"
   },
   "outputs": [
    {
     "data": {
      "text/plain": [
       "{'nome': 'Mariana',\n",
       " 'idade': 33,\n",
       " 'estado': 'Minas Gerais',\n",
       " 'cidade': 'Juiz de Fora',\n",
       " 'nacionalidade': 'brasileira'}"
      ]
     },
     "execution_count": 46,
     "metadata": {},
     "output_type": "execute_result"
    }
   ],
   "source": [
    "dados"
   ]
  },
  {
   "cell_type": "code",
   "execution_count": 47,
   "metadata": {
    "colab": {
     "base_uri": "https://localhost:8080/",
     "height": 35
    },
    "id": "5NTJHtiaLF4Q",
    "outputId": "e3e2e649-bd83-4ba5-b1f4-2f4fd2690cc3"
   },
   "outputs": [
    {
     "data": {
      "text/plain": [
       "'brasileira'"
      ]
     },
     "execution_count": 47,
     "metadata": {},
     "output_type": "execute_result"
    }
   ],
   "source": [
    "dados.pop('nacionalidade')"
   ]
  },
  {
   "cell_type": "code",
   "execution_count": 48,
   "metadata": {
    "colab": {
     "base_uri": "https://localhost:8080/"
    },
    "id": "leRWKG-ALSN7",
    "outputId": "bdc3180b-f957-463e-deaf-eb93af2f81fa"
   },
   "outputs": [
    {
     "data": {
      "text/plain": [
       "{'nome': 'Mariana',\n",
       " 'idade': 33,\n",
       " 'estado': 'Minas Gerais',\n",
       " 'cidade': 'Juiz de Fora'}"
      ]
     },
     "execution_count": 48,
     "metadata": {},
     "output_type": "execute_result"
    }
   ],
   "source": [
    "dados"
   ]
  },
  {
   "cell_type": "markdown",
   "metadata": {
    "id": "dfhZ7lz7EF9j"
   },
   "source": [
    "### Método `popitem()`"
   ]
  },
  {
   "cell_type": "code",
   "execution_count": 49,
   "metadata": {
    "colab": {
     "base_uri": "https://localhost:8080/"
    },
    "id": "nwFbc5fjEKR5",
    "outputId": "2dab5855-c470-42a1-bc42-87b7fd798402"
   },
   "outputs": [
    {
     "name": "stdout",
     "output_type": "stream",
     "text": [
      "{'nome': 'Mariana', 'idade': 33, 'estado': 'Minas Gerais', 'cidade': 'Juiz de Fora'}\n"
     ]
    }
   ],
   "source": [
    "print(dados)"
   ]
  },
  {
   "cell_type": "code",
   "execution_count": 50,
   "metadata": {
    "colab": {
     "base_uri": "https://localhost:8080/"
    },
    "id": "Lx6jyV9bNL75",
    "outputId": "aa75b6d4-46ce-4c5b-9793-98b7d9e0804f"
   },
   "outputs": [
    {
     "data": {
      "text/plain": [
       "('cidade', 'Juiz de Fora')"
      ]
     },
     "execution_count": 50,
     "metadata": {},
     "output_type": "execute_result"
    }
   ],
   "source": [
    "dados.popitem()"
   ]
  },
  {
   "cell_type": "code",
   "execution_count": 51,
   "metadata": {
    "colab": {
     "base_uri": "https://localhost:8080/"
    },
    "id": "EDH8qVdVNRQO",
    "outputId": "43952b60-d909-40b8-b834-7756959ba949"
   },
   "outputs": [
    {
     "name": "stdout",
     "output_type": "stream",
     "text": [
      "{'nome': 'Mariana', 'idade': 33, 'estado': 'Minas Gerais'}\n"
     ]
    }
   ],
   "source": [
    "print(dados)"
   ]
  },
  {
   "cell_type": "markdown",
   "metadata": {
    "id": "_yp9Doe1EKkf"
   },
   "source": [
    "### Comando `del`"
   ]
  },
  {
   "cell_type": "code",
   "execution_count": 52,
   "metadata": {
    "colab": {
     "base_uri": "https://localhost:8080/"
    },
    "id": "cikmcy_cEPgK",
    "outputId": "62bb133f-40dc-4485-9aab-709340755a9f"
   },
   "outputs": [
    {
     "data": {
      "text/plain": [
       "{'nome': 'Mariana', 'idade': 33, 'estado': 'Minas Gerais'}"
      ]
     },
     "execution_count": 52,
     "metadata": {},
     "output_type": "execute_result"
    }
   ],
   "source": [
    "dados"
   ]
  },
  {
   "cell_type": "code",
   "execution_count": 53,
   "metadata": {
    "id": "5DxogFLJNXTa"
   },
   "outputs": [],
   "source": [
    "del dados['idade']"
   ]
  },
  {
   "cell_type": "code",
   "execution_count": 54,
   "metadata": {
    "colab": {
     "base_uri": "https://localhost:8080/"
    },
    "id": "JYtvW1nbNa0B",
    "outputId": "18281005-e95b-48dd-d305-cc30d7fef304"
   },
   "outputs": [
    {
     "data": {
      "text/plain": [
       "{'nome': 'Mariana', 'estado': 'Minas Gerais'}"
      ]
     },
     "execution_count": 54,
     "metadata": {},
     "output_type": "execute_result"
    }
   ],
   "source": [
    "dados"
   ]
  },
  {
   "cell_type": "markdown",
   "metadata": {
    "id": "hoUFyc39EP6f"
   },
   "source": [
    "### Método `clear()`"
   ]
  },
  {
   "cell_type": "code",
   "execution_count": 55,
   "metadata": {
    "id": "wPHAoXjLIxAj"
   },
   "outputs": [],
   "source": [
    "dados.clear()"
   ]
  },
  {
   "cell_type": "code",
   "execution_count": 56,
   "metadata": {
    "colab": {
     "base_uri": "https://localhost:8080/"
    },
    "id": "99C5KCwHNglT",
    "outputId": "00eea842-abfa-4b62-f939-57e7537cd3e1"
   },
   "outputs": [
    {
     "data": {
      "text/plain": [
       "{}"
      ]
     },
     "execution_count": 56,
     "metadata": {},
     "output_type": "execute_result"
    }
   ],
   "source": [
    "dados"
   ]
  },
  {
   "cell_type": "markdown",
   "metadata": {
    "id": "1beFgJ5LNhTL"
   },
   "source": [
    "# Dicionários podem ser heterogêneos"
   ]
  },
  {
   "cell_type": "code",
   "execution_count": 59,
   "metadata": {
    "id": "rune2Z-6THJb"
   },
   "outputs": [],
   "source": [
    "dados = {\n",
    "    'nome' : 'João',\n",
    "    'status': True,\n",
    "    'notas': [10, 9.8, 7.7, 4.9]\n",
    "}"
   ]
  },
  {
   "cell_type": "code",
   "execution_count": 60,
   "metadata": {
    "colab": {
     "base_uri": "https://localhost:8080/"
    },
    "id": "Aw6Lo0D-VQ9V",
    "outputId": "6b0a4e9a-7dc5-4749-aee0-a86c7f395b6a"
   },
   "outputs": [
    {
     "name": "stdout",
     "output_type": "stream",
     "text": [
      "{'nome': 'João', 'status': True, 'notas': [10, 9.8, 7.7, 4.9]}\n"
     ]
    }
   ],
   "source": [
    "print(dados)"
   ]
  },
  {
   "cell_type": "code",
   "execution_count": 61,
   "metadata": {
    "colab": {
     "base_uri": "https://localhost:8080/",
     "height": 35
    },
    "id": "G0dR68xCVZUh",
    "outputId": "9274b3f5-49ee-4a58-8d18-635ed34aac37"
   },
   "outputs": [
    {
     "data": {
      "text/plain": [
       "'João'"
      ]
     },
     "execution_count": 61,
     "metadata": {},
     "output_type": "execute_result"
    }
   ],
   "source": [
    "dados['nome']"
   ]
  },
  {
   "cell_type": "code",
   "execution_count": 62,
   "metadata": {
    "colab": {
     "base_uri": "https://localhost:8080/"
    },
    "id": "-n0I2ChvVcFX",
    "outputId": "04e31e4e-df7e-4aeb-e221-c2573105807b"
   },
   "outputs": [
    {
     "data": {
      "text/plain": [
       "True"
      ]
     },
     "execution_count": 62,
     "metadata": {},
     "output_type": "execute_result"
    }
   ],
   "source": [
    "dados['status']"
   ]
  },
  {
   "cell_type": "code",
   "execution_count": 63,
   "metadata": {
    "colab": {
     "base_uri": "https://localhost:8080/"
    },
    "id": "0SYDE92SVdw8",
    "outputId": "bb0ee37f-e72d-4f31-ffe8-a4760ee42c0f"
   },
   "outputs": [
    {
     "data": {
      "text/plain": [
       "[10, 9.8, 7.7, 4.9]"
      ]
     },
     "execution_count": 63,
     "metadata": {},
     "output_type": "execute_result"
    }
   ],
   "source": [
    "dados['notas']"
   ]
  },
  {
   "cell_type": "code",
   "execution_count": 64,
   "metadata": {
    "colab": {
     "base_uri": "https://localhost:8080/"
    },
    "id": "TZK0AhsSVgqh",
    "outputId": "8d9ce460-4d97-4339-8513-2e5fae078255"
   },
   "outputs": [
    {
     "data": {
      "text/plain": [
       "4.9"
      ]
     },
     "execution_count": 64,
     "metadata": {},
     "output_type": "execute_result"
    }
   ],
   "source": [
    "dados['notas'][-1]"
   ]
  },
  {
   "cell_type": "code",
   "execution_count": 65,
   "metadata": {
    "colab": {
     "base_uri": "https://localhost:8080/"
    },
    "id": "LhKjcZjXVmvI",
    "outputId": "d55551b9-12c9-402d-b2c2-203b095237d0"
   },
   "outputs": [
    {
     "data": {
      "text/plain": [
       "10"
      ]
     },
     "execution_count": 65,
     "metadata": {},
     "output_type": "execute_result"
    }
   ],
   "source": [
    "dados['notas'][0]"
   ]
  },
  {
   "cell_type": "code",
   "execution_count": 66,
   "metadata": {
    "colab": {
     "base_uri": "https://localhost:8080/"
    },
    "id": "K1uOCSa6VxVw",
    "outputId": "697aaf8a-8440-422d-9e83-a70f1b53e754"
   },
   "outputs": [
    {
     "data": {
      "text/plain": [
       "9.8"
      ]
     },
     "execution_count": 66,
     "metadata": {},
     "output_type": "execute_result"
    }
   ],
   "source": [
    "dados['notas'][1]"
   ]
  }
 ],
 "metadata": {
  "colab": {
   "name": "Dicionários.ipynb",
   "provenance": []
  },
  "kernelspec": {
   "display_name": "Python 3 (ipykernel)",
   "language": "python",
   "name": "python3"
  },
  "language_info": {
   "codemirror_mode": {
    "name": "ipython",
    "version": 3
   },
   "file_extension": ".py",
   "mimetype": "text/x-python",
   "name": "python",
   "nbconvert_exporter": "python",
   "pygments_lexer": "ipython3",
   "version": "3.11.7"
  }
 },
 "nbformat": 4,
 "nbformat_minor": 4
}
