{
 "cells": [
  {
   "cell_type": "markdown",
   "metadata": {
    "id": "9a3bNSYVd5xY"
   },
   "source": [
    "# Sets (conjuntos)\n",
    "\n",
    "São estruturas de dados destinadas a armazenar um conjunto de dados distintos. Suas principais características são:\n",
    "\n",
    "- set = {elemento1, elemento2, elemento3....}\n",
    "- são mutáveis\n",
    "- elementos são desordenados\n",
    "- elementos não possuem índices\n",
    "- não podem conter elementos repetidos\n",
    "- permitem operações de conjuntos"
   ]
  },
  {
   "cell_type": "markdown",
   "metadata": {
    "id": "zd5h2KOfd8qh"
   },
   "source": [
    "# Criando um conjunto"
   ]
  },
  {
   "cell_type": "code",
   "execution_count": 1,
   "metadata": {
    "id": "KZr41oLzey-e"
   },
   "outputs": [],
   "source": [
    "conjunto1 = {1, 2, 3, 4, 5}"
   ]
  },
  {
   "cell_type": "code",
   "execution_count": 2,
   "metadata": {
    "colab": {
     "base_uri": "https://localhost:8080/"
    },
    "id": "RAWAykWdiNpT",
    "outputId": "f99d2ae3-ceaf-446b-eb14-0b662ef730ad"
   },
   "outputs": [
    {
     "name": "stdout",
     "output_type": "stream",
     "text": [
      "{1, 2, 3, 4, 5}\n"
     ]
    }
   ],
   "source": [
    "print(conjunto1)"
   ]
  },
  {
   "cell_type": "code",
   "execution_count": 3,
   "metadata": {
    "colab": {
     "base_uri": "https://localhost:8080/"
    },
    "id": "LBwzdp6IiPsK",
    "outputId": "61c79316-6fc1-4f1c-f5d9-3b9c74822ada"
   },
   "outputs": [
    {
     "data": {
      "text/plain": [
       "set"
      ]
     },
     "execution_count": 3,
     "metadata": {},
     "output_type": "execute_result"
    }
   ],
   "source": [
    "type(conjunto1)"
   ]
  },
  {
   "cell_type": "code",
   "execution_count": 4,
   "metadata": {
    "id": "strfeqpQiTBm"
   },
   "outputs": [],
   "source": [
    "conjunto2 = {1, 2, 2, 2, 3, 4, 5, 6}"
   ]
  },
  {
   "cell_type": "code",
   "execution_count": 5,
   "metadata": {
    "colab": {
     "base_uri": "https://localhost:8080/"
    },
    "id": "M4hGbd0wiZb0",
    "outputId": "d525678e-51e7-41ce-bb1b-942ef4be6c2b"
   },
   "outputs": [
    {
     "name": "stdout",
     "output_type": "stream",
     "text": [
      "{1, 2, 3, 4, 5, 6}\n"
     ]
    }
   ],
   "source": [
    "print(conjunto2)"
   ]
  },
  {
   "cell_type": "markdown",
   "metadata": {
    "id": "MN63Xis0fXSZ"
   },
   "source": [
    "# Manipulando elementos de um conjunto"
   ]
  },
  {
   "cell_type": "markdown",
   "metadata": {
    "id": "3RAEAkddfh17"
   },
   "source": [
    "## Método `add()`\n",
    "\n",
    "Adiciona um elemento ao conjunto."
   ]
  },
  {
   "cell_type": "code",
   "execution_count": 6,
   "metadata": {
    "colab": {
     "base_uri": "https://localhost:8080/"
    },
    "id": "bLlafjcPfpJE",
    "outputId": "2077af7a-1cd1-42c9-b51e-830fa9c61ebe"
   },
   "outputs": [
    {
     "data": {
      "text/plain": [
       "{1, 2, 3, 4, 5}"
      ]
     },
     "execution_count": 6,
     "metadata": {},
     "output_type": "execute_result"
    }
   ],
   "source": [
    "conjunto1"
   ]
  },
  {
   "cell_type": "code",
   "execution_count": 7,
   "metadata": {
    "id": "W1IFQxHGiwPp"
   },
   "outputs": [],
   "source": [
    "conjunto1.add(10)"
   ]
  },
  {
   "cell_type": "code",
   "execution_count": 8,
   "metadata": {
    "colab": {
     "base_uri": "https://localhost:8080/"
    },
    "id": "KTdQgy5Qi0jy",
    "outputId": "8d520d2e-f882-4c55-f89f-5092e0d099d3"
   },
   "outputs": [
    {
     "data": {
      "text/plain": [
       "{1, 2, 3, 4, 5, 10}"
      ]
     },
     "execution_count": 8,
     "metadata": {},
     "output_type": "execute_result"
    }
   ],
   "source": [
    "conjunto1"
   ]
  },
  {
   "cell_type": "markdown",
   "metadata": {
    "id": "ZFwxqs_EfpdM"
   },
   "source": [
    "## Método `remove()`\n",
    "\n",
    "Remove um elemento de um conjunto."
   ]
  },
  {
   "cell_type": "code",
   "execution_count": 9,
   "metadata": {
    "colab": {
     "base_uri": "https://localhost:8080/"
    },
    "id": "MH5DUoiEfvZ8",
    "outputId": "dcd1b91e-1f97-45fd-e0d7-4adf35084884"
   },
   "outputs": [
    {
     "data": {
      "text/plain": [
       "{1, 2, 3, 4, 5, 6}"
      ]
     },
     "execution_count": 9,
     "metadata": {},
     "output_type": "execute_result"
    }
   ],
   "source": [
    "conjunto2"
   ]
  },
  {
   "cell_type": "code",
   "execution_count": 10,
   "metadata": {
    "id": "wRqLq5qRi5RT"
   },
   "outputs": [],
   "source": [
    "conjunto2.remove(5)"
   ]
  },
  {
   "cell_type": "code",
   "execution_count": 11,
   "metadata": {
    "colab": {
     "base_uri": "https://localhost:8080/"
    },
    "id": "gYtpLLxti9DI",
    "outputId": "8874dfff-abff-4211-e01a-bbf37ad17e72"
   },
   "outputs": [
    {
     "data": {
      "text/plain": [
       "{1, 2, 3, 4, 6}"
      ]
     },
     "execution_count": 11,
     "metadata": {},
     "output_type": "execute_result"
    }
   ],
   "source": [
    "conjunto2"
   ]
  },
  {
   "cell_type": "markdown",
   "metadata": {
    "id": "oLEjjrxIjAHQ"
   },
   "source": [
    "# Conjuntos não possuem índices"
   ]
  },
  {
   "cell_type": "code",
   "execution_count": 12,
   "metadata": {
    "colab": {
     "base_uri": "https://localhost:8080/"
    },
    "id": "HsKb4R_bjDPW",
    "outputId": "0a758d83-6e61-49ff-ae3e-6ae076113d79"
   },
   "outputs": [
    {
     "data": {
      "text/plain": [
       "{1, 2, 3, 4, 5, 10}"
      ]
     },
     "execution_count": 12,
     "metadata": {},
     "output_type": "execute_result"
    }
   ],
   "source": [
    "conjunto1"
   ]
  },
  {
   "cell_type": "code",
   "execution_count": 13,
   "metadata": {
    "colab": {
     "base_uri": "https://localhost:8080/",
     "height": 170
    },
    "id": "MLtHe75djEtE",
    "outputId": "153141a1-dddd-43a4-850f-04436aff35e4"
   },
   "outputs": [
    {
     "ename": "TypeError",
     "evalue": "'set' object is not subscriptable",
     "output_type": "error",
     "traceback": [
      "\u001b[1;31m---------------------------------------------------------------------------\u001b[0m",
      "\u001b[1;31mTypeError\u001b[0m                                 Traceback (most recent call last)",
      "Cell \u001b[1;32mIn[13], line 1\u001b[0m\n\u001b[1;32m----> 1\u001b[0m conjunto1[\u001b[38;5;241m0\u001b[39m]\n",
      "\u001b[1;31mTypeError\u001b[0m: 'set' object is not subscriptable"
     ]
    }
   ],
   "source": [
    "conjunto1[0]"
   ]
  },
  {
   "cell_type": "markdown",
   "metadata": {
    "id": "TITj0Dt7fwrK"
   },
   "source": [
    "# Algumas operações de conjunto"
   ]
  },
  {
   "cell_type": "markdown",
   "metadata": {
    "id": "Ob-e0THYfzh-"
   },
   "source": [
    "## União"
   ]
  },
  {
   "cell_type": "code",
   "execution_count": 14,
   "metadata": {
    "id": "rPLKFqX8gNvz"
   },
   "outputs": [],
   "source": [
    "conjunto1 = {1, 2, 3}\n",
    "conjunto2 = {4, 2, 5}"
   ]
  },
  {
   "cell_type": "code",
   "execution_count": 15,
   "metadata": {
    "colab": {
     "base_uri": "https://localhost:8080/"
    },
    "id": "DMOPO4xUjTey",
    "outputId": "2fdaa2df-916f-4a6d-d880-69ae9949f11c"
   },
   "outputs": [
    {
     "data": {
      "text/plain": [
       "{1, 2, 3, 4, 5}"
      ]
     },
     "execution_count": 15,
     "metadata": {},
     "output_type": "execute_result"
    }
   ],
   "source": [
    "conjunto1.union(conjunto2)"
   ]
  },
  {
   "cell_type": "markdown",
   "metadata": {
    "id": "XghOXXpSgJeJ"
   },
   "source": [
    "## Interseção"
   ]
  },
  {
   "cell_type": "code",
   "execution_count": 16,
   "metadata": {
    "colab": {
     "base_uri": "https://localhost:8080/"
    },
    "id": "-EDvCTHTjipz",
    "outputId": "b32c9613-5add-4e46-cca1-008fd823654c"
   },
   "outputs": [
    {
     "data": {
      "text/plain": [
       "{2}"
      ]
     },
     "execution_count": 16,
     "metadata": {},
     "output_type": "execute_result"
    }
   ],
   "source": [
    "conjunto1.intersection(conjunto2)"
   ]
  },
  {
   "cell_type": "code",
   "execution_count": null,
   "metadata": {
    "id": "vVvHxAXYjpMw"
   },
   "outputs": [],
   "source": []
  }
 ],
 "metadata": {
  "colab": {
   "name": "Sets (conjuntos).ipynb",
   "provenance": []
  },
  "kernelspec": {
   "display_name": "Python 3 (ipykernel)",
   "language": "python",
   "name": "python3"
  },
  "language_info": {
   "codemirror_mode": {
    "name": "ipython",
    "version": 3
   },
   "file_extension": ".py",
   "mimetype": "text/x-python",
   "name": "python",
   "nbconvert_exporter": "python",
   "pygments_lexer": "ipython3",
   "version": "3.11.7"
  }
 },
 "nbformat": 4,
 "nbformat_minor": 4
}
