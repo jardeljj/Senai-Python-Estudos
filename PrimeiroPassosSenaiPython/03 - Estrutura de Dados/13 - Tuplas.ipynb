{
 "cells": [
  {
   "cell_type": "markdown",
   "metadata": {
    "id": "Df_ZTfaXXJ7U"
   },
   "source": [
    "# Tuplas\n",
    "\n",
    "Tuplas são uma estrutura de dados do Python, cujo objetivo (assim como as listas) é armazenar diversos dados. Algumas características das tuplas são:\n",
    "\n",
    "- tupla = (elemento1, elemento2, elemento3....)\n",
    "- é uma sequência ordenada de elementos\n",
    "- seus elementos possuem índice\n",
    "- podem ser heterogêneas (possuirem tipos diferentes de dados)\n",
    "- é **imutável**\n",
    "\n"
   ]
  },
  {
   "cell_type": "markdown",
   "metadata": {
    "id": "WZ4MDePwXLyi"
   },
   "source": [
    "# Criando uma tupla"
   ]
  },
  {
   "cell_type": "code",
   "execution_count": 1,
   "metadata": {
    "id": "6lquFMYJX_n7"
   },
   "outputs": [],
   "source": [
    "numeros = (1, 2, 3, 4, 5, 6, 7, 8, 9)"
   ]
  },
  {
   "cell_type": "code",
   "execution_count": 2,
   "metadata": {
    "colab": {
     "base_uri": "https://localhost:8080/"
    },
    "id": "omw2jmuHZ6rX",
    "outputId": "99de732e-1ace-4a03-a35a-ac2198fcb084"
   },
   "outputs": [
    {
     "name": "stdout",
     "output_type": "stream",
     "text": [
      "(1, 2, 3, 4, 5, 6, 7, 8, 9)\n"
     ]
    }
   ],
   "source": [
    "print(numeros)"
   ]
  },
  {
   "cell_type": "code",
   "execution_count": 3,
   "metadata": {
    "colab": {
     "base_uri": "https://localhost:8080/"
    },
    "id": "l7cPDOENZ_QP",
    "outputId": "bab63093-d759-4d86-86aa-ebb1e861555e"
   },
   "outputs": [
    {
     "data": {
      "text/plain": [
       "tuple"
      ]
     },
     "execution_count": 3,
     "metadata": {},
     "output_type": "execute_result"
    }
   ],
   "source": [
    "type(numeros)"
   ]
  },
  {
   "cell_type": "code",
   "execution_count": 4,
   "metadata": {
    "id": "uFvBp_LMaB70"
   },
   "outputs": [],
   "source": [
    "pessoas = ('Maria', 34, 'João', 27, 'Gabriel', 14, 'Mariana', 41)"
   ]
  },
  {
   "cell_type": "code",
   "execution_count": 5,
   "metadata": {
    "colab": {
     "base_uri": "https://localhost:8080/"
    },
    "id": "ODW1zHg4aLMk",
    "outputId": "114bf659-8a0a-45d7-939e-c1e9fa02e3a1"
   },
   "outputs": [
    {
     "name": "stdout",
     "output_type": "stream",
     "text": [
      "('Maria', 34, 'João', 27, 'Gabriel', 14, 'Mariana', 41)\n"
     ]
    }
   ],
   "source": [
    "print(pessoas)"
   ]
  },
  {
   "cell_type": "code",
   "execution_count": 6,
   "metadata": {
    "colab": {
     "base_uri": "https://localhost:8080/"
    },
    "id": "kgH-_NBhaPoa",
    "outputId": "1a99ef76-1bd0-4d32-9276-5536604e2b06"
   },
   "outputs": [
    {
     "data": {
      "text/plain": [
       "tuple"
      ]
     },
     "execution_count": 6,
     "metadata": {},
     "output_type": "execute_result"
    }
   ],
   "source": [
    "type(pessoas)"
   ]
  },
  {
   "cell_type": "markdown",
   "metadata": {
    "id": "jJcl_YIyYIpa"
   },
   "source": [
    "# Acessando os elementos de uma tupla"
   ]
  },
  {
   "cell_type": "code",
   "execution_count": 2,
   "metadata": {
    "colab": {
     "base_uri": "https://localhost:8080/"
    },
    "id": "D9hDRg-GYOl7",
    "outputId": "11f91686-2564-443d-ea36-88596aacb3e6"
   },
   "outputs": [],
   "source": [
    "pessoas = ('Maria', 34, 'João', 27, 'Gabriel', 14, 'Mariana', 41)"
   ]
  },
  {
   "cell_type": "code",
   "execution_count": 3,
   "metadata": {
    "colab": {
     "base_uri": "https://localhost:8080/",
     "height": 35
    },
    "id": "Y4Res3eGaVOr",
    "outputId": "a5fef27f-d799-4389-c148-fb336af5bc24"
   },
   "outputs": [
    {
     "data": {
      "text/plain": [
       "'Maria'"
      ]
     },
     "execution_count": 3,
     "metadata": {},
     "output_type": "execute_result"
    }
   ],
   "source": [
    "pessoas[0]"
   ]
  },
  {
   "cell_type": "code",
   "execution_count": 9,
   "metadata": {
    "colab": {
     "base_uri": "https://localhost:8080/"
    },
    "id": "GMjIVUXIabVK",
    "outputId": "90ae654f-0e9f-46de-b1a9-063bbc2562c9"
   },
   "outputs": [
    {
     "data": {
      "text/plain": [
       "14"
      ]
     },
     "execution_count": 9,
     "metadata": {},
     "output_type": "execute_result"
    }
   ],
   "source": [
    "pessoas[5]"
   ]
  },
  {
   "cell_type": "code",
   "execution_count": 10,
   "metadata": {
    "colab": {
     "base_uri": "https://localhost:8080/"
    },
    "id": "vPPlWgPraiJQ",
    "outputId": "2a6a6070-e792-4a43-dec7-9946cdc15261"
   },
   "outputs": [
    {
     "data": {
      "text/plain": [
       "14"
      ]
     },
     "execution_count": 10,
     "metadata": {},
     "output_type": "execute_result"
    }
   ],
   "source": [
    "pessoas[-3]"
   ]
  },
  {
   "cell_type": "markdown",
   "metadata": {
    "id": "OVy19cPfYUi0"
   },
   "source": [
    "# Tuplas são imutáveis!\n",
    "\n",
    "Logo, não conseguimos manipular os elementos de uma tupla!"
   ]
  },
  {
   "cell_type": "code",
   "execution_count": 4,
   "metadata": {
    "colab": {
     "base_uri": "https://localhost:8080/"
    },
    "id": "YSH2J2ItYcVD",
    "outputId": "4152650f-40fd-47f6-d8e3-0d18f03c1c5a"
   },
   "outputs": [],
   "source": [
    "pessoas = ('Maria', 34, 'João', 27, 'Gabriel', 14, 'Mariana', 41)"
   ]
  },
  {
   "cell_type": "code",
   "execution_count": 5,
   "metadata": {
    "colab": {
     "base_uri": "https://localhost:8080/",
     "height": 170
    },
    "id": "ziMmRmv9at78",
    "outputId": "7e9dd4ee-a149-45b5-d9d2-f26d4eaeb78b"
   },
   "outputs": [
    {
     "ename": "TypeError",
     "evalue": "'tuple' object does not support item assignment",
     "output_type": "error",
     "traceback": [
      "\u001b[1;31m---------------------------------------------------------------------------\u001b[0m",
      "\u001b[1;31mTypeError\u001b[0m                                 Traceback (most recent call last)",
      "Cell \u001b[1;32mIn[5], line 1\u001b[0m\n\u001b[1;32m----> 1\u001b[0m pessoas[\u001b[38;5;241m0\u001b[39m] \u001b[38;5;241m=\u001b[39m \u001b[38;5;124m'\u001b[39m\u001b[38;5;124mJoana\u001b[39m\u001b[38;5;124m'\u001b[39m\n",
      "\u001b[1;31mTypeError\u001b[0m: 'tuple' object does not support item assignment"
     ]
    }
   ],
   "source": [
    "pessoas[0] = 'Joana'"
   ]
  },
  {
   "cell_type": "code",
   "execution_count": 6,
   "metadata": {
    "colab": {
     "base_uri": "https://localhost:8080/",
     "height": 170
    },
    "id": "jSsBaI8wawIN",
    "outputId": "e8ba230f-1040-4291-bea2-76cae7001cff"
   },
   "outputs": [
    {
     "ename": "TypeError",
     "evalue": "'tuple' object doesn't support item deletion",
     "output_type": "error",
     "traceback": [
      "\u001b[1;31m---------------------------------------------------------------------------\u001b[0m",
      "\u001b[1;31mTypeError\u001b[0m                                 Traceback (most recent call last)",
      "Cell \u001b[1;32mIn[6], line 1\u001b[0m\n\u001b[1;32m----> 1\u001b[0m \u001b[38;5;28;01mdel\u001b[39;00m pessoas[\u001b[38;5;241m1\u001b[39m]\n",
      "\u001b[1;31mTypeError\u001b[0m: 'tuple' object doesn't support item deletion"
     ]
    }
   ],
   "source": [
    "del pessoas[1]"
   ]
  },
  {
   "cell_type": "code",
   "execution_count": 14,
   "metadata": {
    "colab": {
     "base_uri": "https://localhost:8080/",
     "height": 170
    },
    "id": "5IWX7bWta3o_",
    "outputId": "34e608dd-82e5-42f6-c9cc-e8d52249bc16"
   },
   "outputs": [
    {
     "ename": "TypeError",
     "evalue": "'tuple' object does not support item assignment",
     "output_type": "error",
     "traceback": [
      "\u001b[1;31m---------------------------------------------------------------------------\u001b[0m",
      "\u001b[1;31mTypeError\u001b[0m                                 Traceback (most recent call last)",
      "Cell \u001b[1;32mIn[14], line 1\u001b[0m\n\u001b[1;32m----> 1\u001b[0m pessoas[\u001b[38;5;241m8\u001b[39m] \u001b[38;5;241m=\u001b[39m \u001b[38;5;124m'\u001b[39m\u001b[38;5;124mteste\u001b[39m\u001b[38;5;124m'\u001b[39m\n",
      "\u001b[1;31mTypeError\u001b[0m: 'tuple' object does not support item assignment"
     ]
    }
   ],
   "source": [
    "pessoas[8] = 'teste'"
   ]
  },
  {
   "cell_type": "code",
   "execution_count": null,
   "metadata": {
    "id": "52VHEmwNa-nA"
   },
   "outputs": [],
   "source": []
  }
 ],
 "metadata": {
  "colab": {
   "name": "Tuplas.ipynb",
   "provenance": []
  },
  "kernelspec": {
   "display_name": "Python 3 (ipykernel)",
   "language": "python",
   "name": "python3"
  },
  "language_info": {
   "codemirror_mode": {
    "name": "ipython",
    "version": 3
   },
   "file_extension": ".py",
   "mimetype": "text/x-python",
   "name": "python",
   "nbconvert_exporter": "python",
   "pygments_lexer": "ipython3",
   "version": "3.11.7"
  }
 },
 "nbformat": 4,
 "nbformat_minor": 4
}
