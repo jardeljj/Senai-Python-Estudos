{
 "cells": [
  {
   "cell_type": "markdown",
   "metadata": {
    "id": "FpV46eakQH7o"
   },
   "source": [
    "# Entrada de dados com a função input()\n",
    "\n",
    "É muito comum em programação precisarmos que o usuário passe para o programa algum tipo de dado.\n",
    "\n",
    "Na linguagem Python, podemos receber dados do usuário através da função `input`.\n",
    "\n",
    "Essa função recebe como parâmetro uma string, que será mostrada ao usuário, geralmente orientando sobre o tipo de dado que o programa espera receber."
   ]
  },
  {
   "cell_type": "code",
   "execution_count": 1,
   "metadata": {
    "colab": {
     "base_uri": "https://localhost:8080/",
     "height": 54
    },
    "id": "y4WbPpkiQMyR",
    "outputId": "593a6736-3b73-485a-e617-654aedd320ad"
   },
   "outputs": [
    {
     "name": "stdout",
     "output_type": "stream",
     "text": [
      "alguma coisa\n"
     ]
    },
    {
     "data": {
      "text/plain": [
       "'alguma coisa'"
      ]
     },
     "execution_count": 1,
     "metadata": {},
     "output_type": "execute_result"
    }
   ],
   "source": [
    "input()"
   ]
  },
  {
   "cell_type": "code",
   "execution_count": 2,
   "metadata": {
    "colab": {
     "base_uri": "https://localhost:8080/",
     "height": 54
    },
    "id": "FGH2yUyPY3Yz",
    "outputId": "737854d6-a94c-4819-baf5-bac1f4377327"
   },
   "outputs": [
    {
     "name": "stdout",
     "output_type": "stream",
     "text": [
      "Digite o seu nome: João Gonçalves\n"
     ]
    },
    {
     "data": {
      "text/plain": [
       "'João Gonçalves'"
      ]
     },
     "execution_count": 2,
     "metadata": {},
     "output_type": "execute_result"
    }
   ],
   "source": [
    "input('Digite o seu nome: ')"
   ]
  },
  {
   "cell_type": "code",
   "execution_count": 3,
   "metadata": {
    "colab": {
     "base_uri": "https://localhost:8080/"
    },
    "id": "xFlrJ4iNZHMk",
    "outputId": "eeffc398-4f84-4405-e36a-5ff2c76b712e"
   },
   "outputs": [
    {
     "name": "stdout",
     "output_type": "stream",
     "text": [
      "Digite o seu nome: João Gonçalves\n",
      "João Gonçalves\n"
     ]
    }
   ],
   "source": [
    "print(  input('Digite o seu nome: ')   )"
   ]
  },
  {
   "cell_type": "code",
   "execution_count": 4,
   "metadata": {
    "colab": {
     "base_uri": "https://localhost:8080/"
    },
    "id": "SK2TFc0eZRBY",
    "outputId": "c84a0509-2520-4c5b-e501-fabfb081b9ba"
   },
   "outputs": [
    {
     "name": "stdout",
     "output_type": "stream",
     "text": [
      "João Gonçalves\n"
     ]
    }
   ],
   "source": [
    "print('João Gonçalves')"
   ]
  },
  {
   "cell_type": "code",
   "execution_count": 5,
   "metadata": {
    "colab": {
     "base_uri": "https://localhost:8080/"
    },
    "id": "2r1-Cv6zZbKJ",
    "outputId": "0d8dea29-c02e-4cc3-bf1c-804d5b654192"
   },
   "outputs": [
    {
     "name": "stdout",
     "output_type": "stream",
     "text": [
      "Digite o seu nome: João Gonçalves\n"
     ]
    }
   ],
   "source": [
    "nome = input('Digite o seu nome: ')"
   ]
  },
  {
   "cell_type": "code",
   "execution_count": 6,
   "metadata": {
    "colab": {
     "base_uri": "https://localhost:8080/"
    },
    "id": "U13ZRXHTZh1K",
    "outputId": "74e10c5b-bcb7-4c72-a464-823386551193"
   },
   "outputs": [
    {
     "name": "stdout",
     "output_type": "stream",
     "text": [
      "João Gonçalves\n"
     ]
    }
   ],
   "source": [
    "print(nome)"
   ]
  },
  {
   "cell_type": "code",
   "execution_count": 7,
   "metadata": {
    "colab": {
     "base_uri": "https://localhost:8080/"
    },
    "id": "R3tpm0R4Zos9",
    "outputId": "141b95d4-ddb5-42d0-895d-746c5f519c2b"
   },
   "outputs": [
    {
     "name": "stdout",
     "output_type": "stream",
     "text": [
      "Digite o primeiro número: 10\n"
     ]
    }
   ],
   "source": [
    "numero1 = input('Digite o primeiro número: ')"
   ]
  },
  {
   "cell_type": "code",
   "execution_count": 8,
   "metadata": {
    "colab": {
     "base_uri": "https://localhost:8080/"
    },
    "id": "Zny0PmwBZvFh",
    "outputId": "3d76d78c-5108-40b0-c774-dcb8f5488cae"
   },
   "outputs": [
    {
     "name": "stdout",
     "output_type": "stream",
     "text": [
      "Digite o segundo número: 20\n"
     ]
    }
   ],
   "source": [
    "numero2 = input('Digite o segundo número: ')"
   ]
  },
  {
   "cell_type": "code",
   "execution_count": 9,
   "metadata": {
    "colab": {
     "base_uri": "https://localhost:8080/"
    },
    "id": "ePZylWaUZ32q",
    "outputId": "14f7bc68-4c46-4b95-dd92-f55fb8c71d0c"
   },
   "outputs": [
    {
     "name": "stdout",
     "output_type": "stream",
     "text": [
      "10\n",
      "20\n"
     ]
    }
   ],
   "source": [
    "print(numero1)\n",
    "print(numero2)"
   ]
  },
  {
   "cell_type": "code",
   "execution_count": 10,
   "metadata": {
    "colab": {
     "base_uri": "https://localhost:8080/"
    },
    "id": "kbKUYXZGZ8H-",
    "outputId": "e7034769-c9da-48fc-c148-791297d84c54"
   },
   "outputs": [
    {
     "name": "stdout",
     "output_type": "stream",
     "text": [
      "30\n"
     ]
    }
   ],
   "source": [
    "print( int(numero1) + int(numero2) )"
   ]
  },
  {
   "cell_type": "code",
   "execution_count": null,
   "metadata": {
    "id": "nAn44dkEaEZO"
   },
   "outputs": [],
   "source": []
  }
 ],
 "metadata": {
  "colab": {
   "provenance": []
  },
  "kernelspec": {
   "display_name": "Python 3 (ipykernel)",
   "language": "python",
   "name": "python3"
  },
  "language_info": {
   "codemirror_mode": {
    "name": "ipython",
    "version": 3
   },
   "file_extension": ".py",
   "mimetype": "text/x-python",
   "name": "python",
   "nbconvert_exporter": "python",
   "pygments_lexer": "ipython3",
   "version": "3.11.5"
  }
 },
 "nbformat": 4,
 "nbformat_minor": 1
}
