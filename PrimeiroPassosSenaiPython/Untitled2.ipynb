{
 "cells": [
  {
   "cell_type": "code",
   "execution_count": 1,
   "id": "080e9ecc-6789-4030-993a-22b47f172afa",
   "metadata": {},
   "outputs": [],
   "source": [
    "import pandas as pd"
   ]
  },
  {
   "cell_type": "code",
   "execution_count": 2,
   "id": "d58a5f1c-adbb-4668-a48d-b47db11f3f32",
   "metadata": {},
   "outputs": [],
   "source": [
    "df = pd.read_csv('./02 - Biblioteca Pandas/08 - Pandas - Carregando Dados/datasets/base_vendas.csv')"
   ]
  },
  {
   "cell_type": "code",
   "execution_count": 6,
   "id": "b3368ffa-1f9c-4efc-8e53-120e3c207aac",
   "metadata": {},
   "outputs": [
    {
     "data": {
      "text/html": [
       "<div>\n",
       "<style scoped>\n",
       "    .dataframe tbody tr th:only-of-type {\n",
       "        vertical-align: middle;\n",
       "    }\n",
       "\n",
       "    .dataframe tbody tr th {\n",
       "        vertical-align: top;\n",
       "    }\n",
       "\n",
       "    .dataframe thead th {\n",
       "        text-align: right;\n",
       "    }\n",
       "</style>\n",
       "<table border=\"1\" class=\"dataframe\">\n",
       "  <thead>\n",
       "    <tr style=\"text-align: right;\">\n",
       "      <th></th>\n",
       "      <th>matricula_funcionario</th>\n",
       "      <th>Nome Funcionario</th>\n",
       "      <th>Cargo</th>\n",
       "      <th>codigo_loja</th>\n",
       "      <th>nome_loja</th>\n",
       "      <th>codigo_produto</th>\n",
       "      <th>descricao_produto</th>\n",
       "      <th>Categoria</th>\n",
       "      <th>preco_custo</th>\n",
       "      <th>valor_unitario</th>\n",
       "      <th>quantidade</th>\n",
       "      <th>comissao</th>\n",
       "      <th>dt_venda</th>\n",
       "      <th>dt_entrega</th>\n",
       "    </tr>\n",
       "  </thead>\n",
       "  <tbody>\n",
       "    <tr>\n",
       "      <th>0</th>\n",
       "      <td>123456111</td>\n",
       "      <td>José Maria</td>\n",
       "      <td>Vendedor</td>\n",
       "      <td>CL001</td>\n",
       "      <td>Loja Matriz</td>\n",
       "      <td>10013</td>\n",
       "      <td>Fogão</td>\n",
       "      <td>Eletrodomésticos</td>\n",
       "      <td>210,9</td>\n",
       "      <td>404,1</td>\n",
       "      <td>1</td>\n",
       "      <td>NaN</td>\n",
       "      <td>28/09/2020 16:19</td>\n",
       "      <td>05/10/2020 16:31</td>\n",
       "    </tr>\n",
       "    <tr>\n",
       "      <th>1</th>\n",
       "      <td>123456111</td>\n",
       "      <td>José Maria</td>\n",
       "      <td>Vendedor</td>\n",
       "      <td>CL001</td>\n",
       "      <td>Loja Matriz</td>\n",
       "      <td>10018</td>\n",
       "      <td>Colchão</td>\n",
       "      <td>Casa</td>\n",
       "      <td>109,9</td>\n",
       "      <td>249,9</td>\n",
       "      <td>1</td>\n",
       "      <td>NaN</td>\n",
       "      <td>07/03/2020 12:47</td>\n",
       "      <td>08/03/2020 12:47</td>\n",
       "    </tr>\n",
       "    <tr>\n",
       "      <th>2</th>\n",
       "      <td>123456111</td>\n",
       "      <td>José Maria</td>\n",
       "      <td>Vendedor</td>\n",
       "      <td>CL001</td>\n",
       "      <td>Loja Matriz</td>\n",
       "      <td>10014</td>\n",
       "      <td>Geladeira</td>\n",
       "      <td>Eletrodomésticos</td>\n",
       "      <td>699,9</td>\n",
       "      <td>1346,9</td>\n",
       "      <td>1</td>\n",
       "      <td>NaN</td>\n",
       "      <td>21/04/2019 10:48</td>\n",
       "      <td>23/04/2019 15:55</td>\n",
       "    </tr>\n",
       "  </tbody>\n",
       "</table>\n",
       "</div>"
      ],
      "text/plain": [
       "   matricula_funcionario Nome Funcionario     Cargo codigo_loja    nome_loja  \\\n",
       "0              123456111       José Maria  Vendedor       CL001  Loja Matriz   \n",
       "1              123456111       José Maria  Vendedor       CL001  Loja Matriz   \n",
       "2              123456111       José Maria  Vendedor       CL001  Loja Matriz   \n",
       "\n",
       "   codigo_produto descricao_produto         Categoria preco_custo  \\\n",
       "0           10013             Fogão  Eletrodomésticos       210,9   \n",
       "1           10018           Colchão              Casa       109,9   \n",
       "2           10014         Geladeira  Eletrodomésticos       699,9   \n",
       "\n",
       "  valor_unitario  quantidade comissao          dt_venda        dt_entrega  \n",
       "0          404,1           1      NaN  28/09/2020 16:19  05/10/2020 16:31  \n",
       "1          249,9           1      NaN  07/03/2020 12:47  08/03/2020 12:47  \n",
       "2         1346,9           1      NaN  21/04/2019 10:48  23/04/2019 15:55  "
      ]
     },
     "execution_count": 6,
     "metadata": {},
     "output_type": "execute_result"
    }
   ],
   "source": [
    "df.head(3)"
   ]
  },
  {
   "cell_type": "code",
   "execution_count": 7,
   "id": "bb652b51-8ee2-4187-ae15-ad03999f41c8",
   "metadata": {},
   "outputs": [
    {
     "data": {
      "text/html": [
       "<div>\n",
       "<style scoped>\n",
       "    .dataframe tbody tr th:only-of-type {\n",
       "        vertical-align: middle;\n",
       "    }\n",
       "\n",
       "    .dataframe tbody tr th {\n",
       "        vertical-align: top;\n",
       "    }\n",
       "\n",
       "    .dataframe thead th {\n",
       "        text-align: right;\n",
       "    }\n",
       "</style>\n",
       "<table border=\"1\" class=\"dataframe\">\n",
       "  <thead>\n",
       "    <tr style=\"text-align: right;\">\n",
       "      <th></th>\n",
       "      <th>matricula_funcionario</th>\n",
       "      <th>Nome Funcionario</th>\n",
       "      <th>Cargo</th>\n",
       "      <th>codigo_loja</th>\n",
       "      <th>nome_loja</th>\n",
       "      <th>codigo_produto</th>\n",
       "      <th>descricao_produto</th>\n",
       "      <th>Categoria</th>\n",
       "      <th>preco_custo</th>\n",
       "      <th>valor_unitario</th>\n",
       "      <th>quantidade</th>\n",
       "      <th>comissao</th>\n",
       "      <th>dt_venda</th>\n",
       "      <th>dt_entrega</th>\n",
       "    </tr>\n",
       "  </thead>\n",
       "  <tbody>\n",
       "    <tr>\n",
       "      <th>2997</th>\n",
       "      <td>123457113</td>\n",
       "      <td>Victor Hugo</td>\n",
       "      <td>Vendedor</td>\n",
       "      <td>CL004</td>\n",
       "      <td>Filial ES</td>\n",
       "      <td>10007</td>\n",
       "      <td>Batedeira</td>\n",
       "      <td>Cozinha</td>\n",
       "      <td>49,9</td>\n",
       "      <td>95,9</td>\n",
       "      <td>3</td>\n",
       "      <td>NaN</td>\n",
       "      <td>08/08/2020 14:46</td>\n",
       "      <td>09/08/2020 14:07</td>\n",
       "    </tr>\n",
       "    <tr>\n",
       "      <th>2998</th>\n",
       "      <td>123457113</td>\n",
       "      <td>Victor Hugo</td>\n",
       "      <td>Vendedor</td>\n",
       "      <td>CL004</td>\n",
       "      <td>Filial ES</td>\n",
       "      <td>10010</td>\n",
       "      <td>Fritadeira elétrica</td>\n",
       "      <td>Cozinha</td>\n",
       "      <td>187,9</td>\n",
       "      <td>340</td>\n",
       "      <td>3</td>\n",
       "      <td>NaN</td>\n",
       "      <td>19/12/2019 09:21</td>\n",
       "      <td>19/12/2019 10:51</td>\n",
       "    </tr>\n",
       "    <tr>\n",
       "      <th>2999</th>\n",
       "      <td>123457113</td>\n",
       "      <td>Victor Hugo</td>\n",
       "      <td>Vendedor</td>\n",
       "      <td>CL004</td>\n",
       "      <td>Filial ES</td>\n",
       "      <td>10004</td>\n",
       "      <td>Máquina Lavar Roupa</td>\n",
       "      <td>Eletrodomésticos</td>\n",
       "      <td>1099</td>\n",
       "      <td>1709,1</td>\n",
       "      <td>3</td>\n",
       "      <td>0,09</td>\n",
       "      <td>18/03/2019 15:40</td>\n",
       "      <td>23/03/2019 17:52</td>\n",
       "    </tr>\n",
       "  </tbody>\n",
       "</table>\n",
       "</div>"
      ],
      "text/plain": [
       "      matricula_funcionario Nome Funcionario     Cargo codigo_loja  nome_loja  \\\n",
       "2997              123457113      Victor Hugo  Vendedor       CL004  Filial ES   \n",
       "2998              123457113      Victor Hugo  Vendedor       CL004  Filial ES   \n",
       "2999              123457113      Victor Hugo  Vendedor       CL004  Filial ES   \n",
       "\n",
       "      codigo_produto    descricao_produto         Categoria preco_custo  \\\n",
       "2997           10007            Batedeira           Cozinha        49,9   \n",
       "2998           10010  Fritadeira elétrica           Cozinha       187,9   \n",
       "2999           10004  Máquina Lavar Roupa  Eletrodomésticos        1099   \n",
       "\n",
       "     valor_unitario  quantidade comissao          dt_venda        dt_entrega  \n",
       "2997           95,9           3      NaN  08/08/2020 14:46  09/08/2020 14:07  \n",
       "2998            340           3      NaN  19/12/2019 09:21  19/12/2019 10:51  \n",
       "2999         1709,1           3     0,09  18/03/2019 15:40  23/03/2019 17:52  "
      ]
     },
     "execution_count": 7,
     "metadata": {},
     "output_type": "execute_result"
    }
   ],
   "source": [
    "df.tail(3)"
   ]
  },
  {
   "cell_type": "code",
   "execution_count": 9,
   "id": "618993c2-918b-4b0f-887e-be118933c724",
   "metadata": {},
   "outputs": [
    {
     "data": {
      "text/html": [
       "<div>\n",
       "<style scoped>\n",
       "    .dataframe tbody tr th:only-of-type {\n",
       "        vertical-align: middle;\n",
       "    }\n",
       "\n",
       "    .dataframe tbody tr th {\n",
       "        vertical-align: top;\n",
       "    }\n",
       "\n",
       "    .dataframe thead th {\n",
       "        text-align: right;\n",
       "    }\n",
       "</style>\n",
       "<table border=\"1\" class=\"dataframe\">\n",
       "  <thead>\n",
       "    <tr style=\"text-align: right;\">\n",
       "      <th></th>\n",
       "      <th>count</th>\n",
       "      <th>mean</th>\n",
       "      <th>std</th>\n",
       "      <th>min</th>\n",
       "      <th>25%</th>\n",
       "      <th>50%</th>\n",
       "      <th>75%</th>\n",
       "      <th>max</th>\n",
       "    </tr>\n",
       "  </thead>\n",
       "  <tbody>\n",
       "    <tr>\n",
       "      <th>matricula_funcionario</th>\n",
       "      <td>3000.0</td>\n",
       "      <td>123456680.8</td>\n",
       "      <td>349.0</td>\n",
       "      <td>123456111.0</td>\n",
       "      <td>123456333.0</td>\n",
       "      <td>123456666.0</td>\n",
       "      <td>123456999.0</td>\n",
       "      <td>123457113.0</td>\n",
       "    </tr>\n",
       "    <tr>\n",
       "      <th>codigo_produto</th>\n",
       "      <td>3000.0</td>\n",
       "      <td>10010.5</td>\n",
       "      <td>5.8</td>\n",
       "      <td>10001.0</td>\n",
       "      <td>10006.0</td>\n",
       "      <td>10011.0</td>\n",
       "      <td>10015.0</td>\n",
       "      <td>10020.0</td>\n",
       "    </tr>\n",
       "    <tr>\n",
       "      <th>quantidade</th>\n",
       "      <td>3000.0</td>\n",
       "      <td>2.5</td>\n",
       "      <td>1.1</td>\n",
       "      <td>1.0</td>\n",
       "      <td>1.0</td>\n",
       "      <td>2.0</td>\n",
       "      <td>3.0</td>\n",
       "      <td>4.0</td>\n",
       "    </tr>\n",
       "  </tbody>\n",
       "</table>\n",
       "</div>"
      ],
      "text/plain": [
       "                        count         mean    std          min          25%  \\\n",
       "matricula_funcionario  3000.0  123456680.8  349.0  123456111.0  123456333.0   \n",
       "codigo_produto         3000.0      10010.5    5.8      10001.0      10006.0   \n",
       "quantidade             3000.0          2.5    1.1          1.0          1.0   \n",
       "\n",
       "                               50%          75%          max  \n",
       "matricula_funcionario  123456666.0  123456999.0  123457113.0  \n",
       "codigo_produto             10011.0      10015.0      10020.0  \n",
       "quantidade                     2.0          3.0          4.0  "
      ]
     },
     "execution_count": 9,
     "metadata": {},
     "output_type": "execute_result"
    }
   ],
   "source": [
    "df.describe().T.round(1)"
   ]
  },
  {
   "cell_type": "code",
   "execution_count": 10,
   "id": "c0c8e3f1-2a9a-405b-8c25-ab2f2eebb1e9",
   "metadata": {},
   "outputs": [
    {
     "data": {
      "text/plain": [
       "RangeIndex(start=0, stop=3000, step=1)"
      ]
     },
     "execution_count": 10,
     "metadata": {},
     "output_type": "execute_result"
    }
   ],
   "source": [
    "df.index"
   ]
  },
  {
   "cell_type": "code",
   "execution_count": 11,
   "id": "c5c5c5c4-2dd6-48ae-b48d-5176c1686ad5",
   "metadata": {},
   "outputs": [
    {
     "data": {
      "text/plain": [
       "Index(['matricula_funcionario', 'Nome Funcionario', 'Cargo', 'codigo_loja',\n",
       "       'nome_loja', 'codigo_produto', 'descricao_produto', 'Categoria',\n",
       "       'preco_custo', 'valor_unitario', 'quantidade', 'comissao', 'dt_venda',\n",
       "       'dt_entrega'],\n",
       "      dtype='object')"
      ]
     },
     "execution_count": 11,
     "metadata": {},
     "output_type": "execute_result"
    }
   ],
   "source": [
    "df.columns"
   ]
  },
  {
   "cell_type": "code",
   "execution_count": 12,
   "id": "ee4839c7-ff8e-4ca3-8602-cce048458a02",
   "metadata": {},
   "outputs": [
    {
     "data": {
      "text/plain": [
       "0       Loja Matriz\n",
       "1       Loja Matriz\n",
       "2       Loja Matriz\n",
       "3       Loja Matriz\n",
       "4       Loja Matriz\n",
       "           ...     \n",
       "2995      Filial ES\n",
       "2996      Filial ES\n",
       "2997      Filial ES\n",
       "2998      Filial ES\n",
       "2999      Filial ES\n",
       "Name: nome_loja, Length: 3000, dtype: object"
      ]
     },
     "execution_count": 12,
     "metadata": {},
     "output_type": "execute_result"
    }
   ],
   "source": [
    "df.nome_loja\n"
   ]
  },
  {
   "cell_type": "code",
   "execution_count": 21,
   "id": "5c3b412a-b40c-44da-b80b-ce44508517a1",
   "metadata": {},
   "outputs": [
    {
     "data": {
      "text/plain": [
       "<bound method Series.unique of 0        José Maria\n",
       "1        José Maria\n",
       "2        José Maria\n",
       "3        José Maria\n",
       "4        José Maria\n",
       "           ...     \n",
       "2995    Victor Hugo\n",
       "2996    Victor Hugo\n",
       "2997    Victor Hugo\n",
       "2998    Victor Hugo\n",
       "2999    Victor Hugo\n",
       "Name: Nome Funcionario, Length: 3000, dtype: object>"
      ]
     },
     "execution_count": 21,
     "metadata": {},
     "output_type": "execute_result"
    }
   ],
   "source": [
    "df['Nome Funcionario'].unique"
   ]
  },
  {
   "cell_type": "code",
   "execution_count": 22,
   "id": "66d6fcc2-a661-47f1-bc23-3fb640eda682",
   "metadata": {},
   "outputs": [],
   "source": [
    "colunas = ['matricula_funcionario', 'nome_funcionario', 'cargo', 'codigo_loja',\n",
    "       'nome_loja', 'codigo_produto', 'descricao_produto', 'categoria',\n",
    "       'preco_custo', 'valor_unitario', 'quantidade', 'comissao', 'dt_venda',\n",
    "       'dt_entrega']\n",
    "\n",
    "df.columns = colunas "
   ]
  },
  {
   "cell_type": "code",
   "execution_count": 23,
   "id": "f83bdba7-6179-4672-97ef-1b7b161ce751",
   "metadata": {},
   "outputs": [
    {
     "data": {
      "text/plain": [
       "Index(['matricula_funcionario', 'nome_funcionario', 'cargo', 'codigo_loja',\n",
       "       'nome_loja', 'codigo_produto', 'descricao_produto', 'categoria',\n",
       "       'preco_custo', 'valor_unitario', 'quantidade', 'comissao', 'dt_venda',\n",
       "       'dt_entrega'],\n",
       "      dtype='object')"
      ]
     },
     "execution_count": 23,
     "metadata": {},
     "output_type": "execute_result"
    }
   ],
   "source": [
    "df.columns"
   ]
  },
  {
   "cell_type": "code",
   "execution_count": 26,
   "id": "d572baec-5f5b-4293-b3aa-37694138b08f",
   "metadata": {},
   "outputs": [
    {
     "data": {
      "text/plain": [
       "array(['José Maria', 'Maria das Graças', 'Jorge Mateus', 'Marta Cury',\n",
       "       'Ricardo Lemos', 'Reginaldo Sodré', 'Felipe Marinho',\n",
       "       'Marcos Coelho', 'Rita Sampaio', 'Mário Henrique', 'Pamela Lima',\n",
       "       'Victor Hugo'], dtype=object)"
      ]
     },
     "execution_count": 26,
     "metadata": {},
     "output_type": "execute_result"
    }
   ],
   "source": [
    "df.nome_funcionario.unique()"
   ]
  },
  {
   "cell_type": "code",
   "execution_count": 27,
   "id": "64520c36-233f-4620-84d5-028972a49a8a",
   "metadata": {},
   "outputs": [
    {
     "data": {
      "text/plain": [
       "array([[123456111, 'José Maria', 'Vendedor', ..., nan,\n",
       "        '28/09/2020 16:19', '05/10/2020 16:31'],\n",
       "       [123456111, 'José Maria', 'Vendedor', ..., nan,\n",
       "        '07/03/2020 12:47', '08/03/2020 12:47'],\n",
       "       [123456111, 'José Maria', 'Vendedor', ..., nan,\n",
       "        '21/04/2019 10:48', '23/04/2019 15:55'],\n",
       "       ...,\n",
       "       [123457113, 'Victor Hugo', 'Vendedor', ..., nan,\n",
       "        '08/08/2020 14:46', '09/08/2020 14:07'],\n",
       "       [123457113, 'Victor Hugo', 'Vendedor', ..., nan,\n",
       "        '19/12/2019 09:21', '19/12/2019 10:51'],\n",
       "       [123457113, 'Victor Hugo', 'Vendedor', ..., '0,09',\n",
       "        '18/03/2019 15:40', '23/03/2019 17:52']], dtype=object)"
      ]
     },
     "execution_count": 27,
     "metadata": {},
     "output_type": "execute_result"
    }
   ],
   "source": [
    "df.values"
   ]
  },
  {
   "cell_type": "code",
   "execution_count": 28,
   "id": "187ed394-e8b7-405a-85f1-ca84a2815498",
   "metadata": {},
   "outputs": [
    {
     "data": {
      "text/plain": [
       "array([[123456111, 'José Maria', 'Vendedor', ..., nan,\n",
       "        '28/09/2020 16:19', '05/10/2020 16:31'],\n",
       "       [123456111, 'José Maria', 'Vendedor', ..., nan,\n",
       "        '07/03/2020 12:47', '08/03/2020 12:47'],\n",
       "       [123456111, 'José Maria', 'Vendedor', ..., nan,\n",
       "        '21/04/2019 10:48', '23/04/2019 15:55'],\n",
       "       ...,\n",
       "       [123457113, 'Victor Hugo', 'Vendedor', ..., nan,\n",
       "        '08/08/2020 14:46', '09/08/2020 14:07'],\n",
       "       [123457113, 'Victor Hugo', 'Vendedor', ..., nan,\n",
       "        '19/12/2019 09:21', '19/12/2019 10:51'],\n",
       "       [123457113, 'Victor Hugo', 'Vendedor', ..., '0,09',\n",
       "        '18/03/2019 15:40', '23/03/2019 17:52']], dtype=object)"
      ]
     },
     "execution_count": 28,
     "metadata": {},
     "output_type": "execute_result"
    }
   ],
   "source": [
    "df.to_numpy()"
   ]
  },
  {
   "cell_type": "code",
   "execution_count": 29,
   "id": "b7b971eb-e0a6-43c7-acf6-579b198c5ce1",
   "metadata": {},
   "outputs": [
    {
     "data": {
      "text/plain": [
       "(3000, 14)"
      ]
     },
     "execution_count": 29,
     "metadata": {},
     "output_type": "execute_result"
    }
   ],
   "source": [
    "df.shape"
   ]
  },
  {
   "cell_type": "code",
   "execution_count": null,
   "id": "ce1b17f8-df5e-4e76-a384-3c4359182308",
   "metadata": {},
   "outputs": [],
   "source": []
  },
  {
   "cell_type": "code",
   "execution_count": null,
   "id": "a2da0252-0f71-47c3-bcd7-a5bc2fd6901c",
   "metadata": {},
   "outputs": [],
   "source": []
  },
  {
   "cell_type": "code",
   "execution_count": null,
   "id": "ff064a0c-b959-4c5d-819b-ab15036d0d87",
   "metadata": {},
   "outputs": [],
   "source": []
  },
  {
   "cell_type": "code",
   "execution_count": 35,
   "id": "9078d17e-eceb-45c5-aee1-057125b87c8e",
   "metadata": {},
   "outputs": [
    {
     "data": {
      "text/plain": [
       "matricula_funcionario     0.0\n",
       "nome_funcionario          0.0\n",
       "cargo                     0.0\n",
       "codigo_loja               0.0\n",
       "nome_loja                 0.0\n",
       "codigo_produto            0.0\n",
       "descricao_produto         0.0\n",
       "categoria                 0.0\n",
       "preco_custo               0.0\n",
       "valor_unitario            0.0\n",
       "quantidade                0.0\n",
       "comissao                 94.7\n",
       "dt_venda                  0.0\n",
       "dt_entrega                0.0\n",
       "dtype: float64"
      ]
     },
     "execution_count": 35,
     "metadata": {},
     "output_type": "execute_result"
    }
   ],
   "source": [
    "df.isnull().sum() / df.shape[0] *100"
   ]
  },
  {
   "cell_type": "code",
   "execution_count": 36,
   "id": "9fecc574-ff7b-4324-9dd5-0e3dc4c8983f",
   "metadata": {},
   "outputs": [
    {
     "data": {
      "text/plain": [
       "array([nan, '0,05', '0,09', '0,07', '0,1'], dtype=object)"
      ]
     },
     "execution_count": 36,
     "metadata": {},
     "output_type": "execute_result"
    }
   ],
   "source": [
    "df.comissao.unique()"
   ]
  },
  {
   "cell_type": "code",
   "execution_count": 37,
   "id": "f68a2c95-007a-49ff-a44e-c206591c7cd3",
   "metadata": {},
   "outputs": [
    {
     "data": {
      "text/plain": [
       "matricula_funcionario      12\n",
       "nome_funcionario           12\n",
       "cargo                       1\n",
       "codigo_loja                 4\n",
       "nome_loja                   4\n",
       "codigo_produto             20\n",
       "descricao_produto          20\n",
       "categoria                   4\n",
       "preco_custo                20\n",
       "valor_unitario             19\n",
       "quantidade                  4\n",
       "comissao                    4\n",
       "dt_venda                 2994\n",
       "dt_entrega               2989\n",
       "dtype: int64"
      ]
     },
     "execution_count": 37,
     "metadata": {},
     "output_type": "execute_result"
    }
   ],
   "source": [
    "df.nunique()"
   ]
  },
  {
   "cell_type": "code",
   "execution_count": 39,
   "id": "5799b619-6813-44cc-a6dc-60867c7dbf7f",
   "metadata": {},
   "outputs": [
    {
     "data": {
      "text/html": [
       "<div>\n",
       "<style scoped>\n",
       "    .dataframe tbody tr th:only-of-type {\n",
       "        vertical-align: middle;\n",
       "    }\n",
       "\n",
       "    .dataframe tbody tr th {\n",
       "        vertical-align: top;\n",
       "    }\n",
       "\n",
       "    .dataframe thead th {\n",
       "        text-align: right;\n",
       "    }\n",
       "</style>\n",
       "<table border=\"1\" class=\"dataframe\">\n",
       "  <thead>\n",
       "    <tr style=\"text-align: right;\">\n",
       "      <th></th>\n",
       "      <th>nome_funcionario</th>\n",
       "      <th>descricao_produto</th>\n",
       "      <th>categoria</th>\n",
       "      <th>valor_unitario</th>\n",
       "    </tr>\n",
       "  </thead>\n",
       "  <tbody>\n",
       "    <tr>\n",
       "      <th>0</th>\n",
       "      <td>José Maria</td>\n",
       "      <td>Fogão</td>\n",
       "      <td>Eletrodomésticos</td>\n",
       "      <td>404,1</td>\n",
       "    </tr>\n",
       "    <tr>\n",
       "      <th>1</th>\n",
       "      <td>José Maria</td>\n",
       "      <td>Colchão</td>\n",
       "      <td>Casa</td>\n",
       "      <td>249,9</td>\n",
       "    </tr>\n",
       "    <tr>\n",
       "      <th>2</th>\n",
       "      <td>José Maria</td>\n",
       "      <td>Geladeira</td>\n",
       "      <td>Eletrodomésticos</td>\n",
       "      <td>1346,9</td>\n",
       "    </tr>\n",
       "    <tr>\n",
       "      <th>3</th>\n",
       "      <td>José Maria</td>\n",
       "      <td>Smartphone</td>\n",
       "      <td>Eletrônicos</td>\n",
       "      <td>1676,9</td>\n",
       "    </tr>\n",
       "    <tr>\n",
       "      <th>4</th>\n",
       "      <td>José Maria</td>\n",
       "      <td>Máquina Lavar Roupa</td>\n",
       "      <td>Eletrodomésticos</td>\n",
       "      <td>1709,1</td>\n",
       "    </tr>\n",
       "    <tr>\n",
       "      <th>...</th>\n",
       "      <td>...</td>\n",
       "      <td>...</td>\n",
       "      <td>...</td>\n",
       "      <td>...</td>\n",
       "    </tr>\n",
       "    <tr>\n",
       "      <th>2995</th>\n",
       "      <td>Victor Hugo</td>\n",
       "      <td>Aspirador de pó</td>\n",
       "      <td>Casa</td>\n",
       "      <td>189,9</td>\n",
       "    </tr>\n",
       "    <tr>\n",
       "      <th>2996</th>\n",
       "      <td>Victor Hugo</td>\n",
       "      <td>Liquidificador</td>\n",
       "      <td>Cozinha</td>\n",
       "      <td>142,4</td>\n",
       "    </tr>\n",
       "    <tr>\n",
       "      <th>2997</th>\n",
       "      <td>Victor Hugo</td>\n",
       "      <td>Batedeira</td>\n",
       "      <td>Cozinha</td>\n",
       "      <td>95,9</td>\n",
       "    </tr>\n",
       "    <tr>\n",
       "      <th>2998</th>\n",
       "      <td>Victor Hugo</td>\n",
       "      <td>Fritadeira elétrica</td>\n",
       "      <td>Cozinha</td>\n",
       "      <td>340</td>\n",
       "    </tr>\n",
       "    <tr>\n",
       "      <th>2999</th>\n",
       "      <td>Victor Hugo</td>\n",
       "      <td>Máquina Lavar Roupa</td>\n",
       "      <td>Eletrodomésticos</td>\n",
       "      <td>1709,1</td>\n",
       "    </tr>\n",
       "  </tbody>\n",
       "</table>\n",
       "<p>3000 rows × 4 columns</p>\n",
       "</div>"
      ],
      "text/plain": [
       "     nome_funcionario    descricao_produto         categoria valor_unitario\n",
       "0          José Maria                Fogão  Eletrodomésticos          404,1\n",
       "1          José Maria              Colchão              Casa          249,9\n",
       "2          José Maria            Geladeira  Eletrodomésticos         1346,9\n",
       "3          José Maria           Smartphone       Eletrônicos         1676,9\n",
       "4          José Maria  Máquina Lavar Roupa  Eletrodomésticos         1709,1\n",
       "...               ...                  ...               ...            ...\n",
       "2995      Victor Hugo      Aspirador de pó              Casa          189,9\n",
       "2996      Victor Hugo       Liquidificador           Cozinha          142,4\n",
       "2997      Victor Hugo            Batedeira           Cozinha           95,9\n",
       "2998      Victor Hugo  Fritadeira elétrica           Cozinha            340\n",
       "2999      Victor Hugo  Máquina Lavar Roupa  Eletrodomésticos         1709,1\n",
       "\n",
       "[3000 rows x 4 columns]"
      ]
     },
     "execution_count": 39,
     "metadata": {},
     "output_type": "execute_result"
    }
   ],
   "source": [
    "colunas = ['nome_funcionario', 'descricao_produto', 'categoria', 'valor_unitario']\n",
    "df[colunas]"
   ]
  },
  {
   "cell_type": "code",
   "execution_count": 40,
   "id": "faff94df-8e26-4ce5-a060-676bc2bc48e5",
   "metadata": {},
   "outputs": [
    {
     "data": {
      "text/html": [
       "<div>\n",
       "<style scoped>\n",
       "    .dataframe tbody tr th:only-of-type {\n",
       "        vertical-align: middle;\n",
       "    }\n",
       "\n",
       "    .dataframe tbody tr th {\n",
       "        vertical-align: top;\n",
       "    }\n",
       "\n",
       "    .dataframe thead th {\n",
       "        text-align: right;\n",
       "    }\n",
       "</style>\n",
       "<table border=\"1\" class=\"dataframe\">\n",
       "  <thead>\n",
       "    <tr style=\"text-align: right;\">\n",
       "      <th></th>\n",
       "      <th>nome_funcionario</th>\n",
       "      <th>cargo</th>\n",
       "      <th>codigo_loja</th>\n",
       "      <th>nome_loja</th>\n",
       "      <th>codigo_produto</th>\n",
       "      <th>descricao_produto</th>\n",
       "      <th>categoria</th>\n",
       "      <th>preco_custo</th>\n",
       "      <th>valor_unitario</th>\n",
       "      <th>quantidade</th>\n",
       "      <th>comissao</th>\n",
       "      <th>dt_venda</th>\n",
       "      <th>dt_entrega</th>\n",
       "    </tr>\n",
       "    <tr>\n",
       "      <th>matricula_funcionario</th>\n",
       "      <th></th>\n",
       "      <th></th>\n",
       "      <th></th>\n",
       "      <th></th>\n",
       "      <th></th>\n",
       "      <th></th>\n",
       "      <th></th>\n",
       "      <th></th>\n",
       "      <th></th>\n",
       "      <th></th>\n",
       "      <th></th>\n",
       "      <th></th>\n",
       "      <th></th>\n",
       "    </tr>\n",
       "  </thead>\n",
       "  <tbody>\n",
       "    <tr>\n",
       "      <th>123456111</th>\n",
       "      <td>José Maria</td>\n",
       "      <td>Vendedor</td>\n",
       "      <td>CL001</td>\n",
       "      <td>Loja Matriz</td>\n",
       "      <td>10013</td>\n",
       "      <td>Fogão</td>\n",
       "      <td>Eletrodomésticos</td>\n",
       "      <td>210,9</td>\n",
       "      <td>404,1</td>\n",
       "      <td>1</td>\n",
       "      <td>NaN</td>\n",
       "      <td>28/09/2020 16:19</td>\n",
       "      <td>05/10/2020 16:31</td>\n",
       "    </tr>\n",
       "    <tr>\n",
       "      <th>123456111</th>\n",
       "      <td>José Maria</td>\n",
       "      <td>Vendedor</td>\n",
       "      <td>CL001</td>\n",
       "      <td>Loja Matriz</td>\n",
       "      <td>10018</td>\n",
       "      <td>Colchão</td>\n",
       "      <td>Casa</td>\n",
       "      <td>109,9</td>\n",
       "      <td>249,9</td>\n",
       "      <td>1</td>\n",
       "      <td>NaN</td>\n",
       "      <td>07/03/2020 12:47</td>\n",
       "      <td>08/03/2020 12:47</td>\n",
       "    </tr>\n",
       "    <tr>\n",
       "      <th>123456111</th>\n",
       "      <td>José Maria</td>\n",
       "      <td>Vendedor</td>\n",
       "      <td>CL001</td>\n",
       "      <td>Loja Matriz</td>\n",
       "      <td>10014</td>\n",
       "      <td>Geladeira</td>\n",
       "      <td>Eletrodomésticos</td>\n",
       "      <td>699,9</td>\n",
       "      <td>1346,9</td>\n",
       "      <td>1</td>\n",
       "      <td>NaN</td>\n",
       "      <td>21/04/2019 10:48</td>\n",
       "      <td>23/04/2019 15:55</td>\n",
       "    </tr>\n",
       "    <tr>\n",
       "      <th>123456111</th>\n",
       "      <td>José Maria</td>\n",
       "      <td>Vendedor</td>\n",
       "      <td>CL001</td>\n",
       "      <td>Loja Matriz</td>\n",
       "      <td>10001</td>\n",
       "      <td>Smartphone</td>\n",
       "      <td>Eletrônicos</td>\n",
       "      <td>899,9</td>\n",
       "      <td>1676,9</td>\n",
       "      <td>1</td>\n",
       "      <td>NaN</td>\n",
       "      <td>07/05/2020 17:59</td>\n",
       "      <td>08/05/2020 14:31</td>\n",
       "    </tr>\n",
       "    <tr>\n",
       "      <th>123456111</th>\n",
       "      <td>José Maria</td>\n",
       "      <td>Vendedor</td>\n",
       "      <td>CL001</td>\n",
       "      <td>Loja Matriz</td>\n",
       "      <td>10004</td>\n",
       "      <td>Máquina Lavar Roupa</td>\n",
       "      <td>Eletrodomésticos</td>\n",
       "      <td>1099</td>\n",
       "      <td>1709,1</td>\n",
       "      <td>1</td>\n",
       "      <td>0,05</td>\n",
       "      <td>14/08/2019 16:56</td>\n",
       "      <td>19/08/2019 15:52</td>\n",
       "    </tr>\n",
       "    <tr>\n",
       "      <th>...</th>\n",
       "      <td>...</td>\n",
       "      <td>...</td>\n",
       "      <td>...</td>\n",
       "      <td>...</td>\n",
       "      <td>...</td>\n",
       "      <td>...</td>\n",
       "      <td>...</td>\n",
       "      <td>...</td>\n",
       "      <td>...</td>\n",
       "      <td>...</td>\n",
       "      <td>...</td>\n",
       "      <td>...</td>\n",
       "      <td>...</td>\n",
       "    </tr>\n",
       "    <tr>\n",
       "      <th>123457113</th>\n",
       "      <td>Victor Hugo</td>\n",
       "      <td>Vendedor</td>\n",
       "      <td>CL004</td>\n",
       "      <td>Filial ES</td>\n",
       "      <td>10006</td>\n",
       "      <td>Aspirador de pó</td>\n",
       "      <td>Casa</td>\n",
       "      <td>88,9</td>\n",
       "      <td>189,9</td>\n",
       "      <td>3</td>\n",
       "      <td>NaN</td>\n",
       "      <td>04/11/2019 15:40</td>\n",
       "      <td>05/11/2019 10:40</td>\n",
       "    </tr>\n",
       "    <tr>\n",
       "      <th>123457113</th>\n",
       "      <td>Victor Hugo</td>\n",
       "      <td>Vendedor</td>\n",
       "      <td>CL004</td>\n",
       "      <td>Filial ES</td>\n",
       "      <td>10011</td>\n",
       "      <td>Liquidificador</td>\n",
       "      <td>Cozinha</td>\n",
       "      <td>59,9</td>\n",
       "      <td>142,4</td>\n",
       "      <td>3</td>\n",
       "      <td>NaN</td>\n",
       "      <td>24/06/2019 09:04</td>\n",
       "      <td>24/06/2019 10:50</td>\n",
       "    </tr>\n",
       "    <tr>\n",
       "      <th>123457113</th>\n",
       "      <td>Victor Hugo</td>\n",
       "      <td>Vendedor</td>\n",
       "      <td>CL004</td>\n",
       "      <td>Filial ES</td>\n",
       "      <td>10007</td>\n",
       "      <td>Batedeira</td>\n",
       "      <td>Cozinha</td>\n",
       "      <td>49,9</td>\n",
       "      <td>95,9</td>\n",
       "      <td>3</td>\n",
       "      <td>NaN</td>\n",
       "      <td>08/08/2020 14:46</td>\n",
       "      <td>09/08/2020 14:07</td>\n",
       "    </tr>\n",
       "    <tr>\n",
       "      <th>123457113</th>\n",
       "      <td>Victor Hugo</td>\n",
       "      <td>Vendedor</td>\n",
       "      <td>CL004</td>\n",
       "      <td>Filial ES</td>\n",
       "      <td>10010</td>\n",
       "      <td>Fritadeira elétrica</td>\n",
       "      <td>Cozinha</td>\n",
       "      <td>187,9</td>\n",
       "      <td>340</td>\n",
       "      <td>3</td>\n",
       "      <td>NaN</td>\n",
       "      <td>19/12/2019 09:21</td>\n",
       "      <td>19/12/2019 10:51</td>\n",
       "    </tr>\n",
       "    <tr>\n",
       "      <th>123457113</th>\n",
       "      <td>Victor Hugo</td>\n",
       "      <td>Vendedor</td>\n",
       "      <td>CL004</td>\n",
       "      <td>Filial ES</td>\n",
       "      <td>10004</td>\n",
       "      <td>Máquina Lavar Roupa</td>\n",
       "      <td>Eletrodomésticos</td>\n",
       "      <td>1099</td>\n",
       "      <td>1709,1</td>\n",
       "      <td>3</td>\n",
       "      <td>0,09</td>\n",
       "      <td>18/03/2019 15:40</td>\n",
       "      <td>23/03/2019 17:52</td>\n",
       "    </tr>\n",
       "  </tbody>\n",
       "</table>\n",
       "<p>3000 rows × 13 columns</p>\n",
       "</div>"
      ],
      "text/plain": [
       "                      nome_funcionario     cargo codigo_loja    nome_loja  \\\n",
       "matricula_funcionario                                                       \n",
       "123456111                   José Maria  Vendedor       CL001  Loja Matriz   \n",
       "123456111                   José Maria  Vendedor       CL001  Loja Matriz   \n",
       "123456111                   José Maria  Vendedor       CL001  Loja Matriz   \n",
       "123456111                   José Maria  Vendedor       CL001  Loja Matriz   \n",
       "123456111                   José Maria  Vendedor       CL001  Loja Matriz   \n",
       "...                                ...       ...         ...          ...   \n",
       "123457113                  Victor Hugo  Vendedor       CL004    Filial ES   \n",
       "123457113                  Victor Hugo  Vendedor       CL004    Filial ES   \n",
       "123457113                  Victor Hugo  Vendedor       CL004    Filial ES   \n",
       "123457113                  Victor Hugo  Vendedor       CL004    Filial ES   \n",
       "123457113                  Victor Hugo  Vendedor       CL004    Filial ES   \n",
       "\n",
       "                       codigo_produto    descricao_produto         categoria  \\\n",
       "matricula_funcionario                                                          \n",
       "123456111                       10013                Fogão  Eletrodomésticos   \n",
       "123456111                       10018              Colchão              Casa   \n",
       "123456111                       10014            Geladeira  Eletrodomésticos   \n",
       "123456111                       10001           Smartphone       Eletrônicos   \n",
       "123456111                       10004  Máquina Lavar Roupa  Eletrodomésticos   \n",
       "...                               ...                  ...               ...   \n",
       "123457113                       10006      Aspirador de pó              Casa   \n",
       "123457113                       10011       Liquidificador           Cozinha   \n",
       "123457113                       10007            Batedeira           Cozinha   \n",
       "123457113                       10010  Fritadeira elétrica           Cozinha   \n",
       "123457113                       10004  Máquina Lavar Roupa  Eletrodomésticos   \n",
       "\n",
       "                      preco_custo valor_unitario  quantidade comissao  \\\n",
       "matricula_funcionario                                                   \n",
       "123456111                   210,9          404,1           1      NaN   \n",
       "123456111                   109,9          249,9           1      NaN   \n",
       "123456111                   699,9         1346,9           1      NaN   \n",
       "123456111                   899,9         1676,9           1      NaN   \n",
       "123456111                    1099         1709,1           1     0,05   \n",
       "...                           ...            ...         ...      ...   \n",
       "123457113                    88,9          189,9           3      NaN   \n",
       "123457113                    59,9          142,4           3      NaN   \n",
       "123457113                    49,9           95,9           3      NaN   \n",
       "123457113                   187,9            340           3      NaN   \n",
       "123457113                    1099         1709,1           3     0,09   \n",
       "\n",
       "                               dt_venda        dt_entrega  \n",
       "matricula_funcionario                                      \n",
       "123456111              28/09/2020 16:19  05/10/2020 16:31  \n",
       "123456111              07/03/2020 12:47  08/03/2020 12:47  \n",
       "123456111              21/04/2019 10:48  23/04/2019 15:55  \n",
       "123456111              07/05/2020 17:59  08/05/2020 14:31  \n",
       "123456111              14/08/2019 16:56  19/08/2019 15:52  \n",
       "...                                 ...               ...  \n",
       "123457113              04/11/2019 15:40  05/11/2019 10:40  \n",
       "123457113              24/06/2019 09:04  24/06/2019 10:50  \n",
       "123457113              08/08/2020 14:46  09/08/2020 14:07  \n",
       "123457113              19/12/2019 09:21  19/12/2019 10:51  \n",
       "123457113              18/03/2019 15:40  23/03/2019 17:52  \n",
       "\n",
       "[3000 rows x 13 columns]"
      ]
     },
     "execution_count": 40,
     "metadata": {},
     "output_type": "execute_result"
    }
   ],
   "source": [
    "df.set_index('matricula_funcionario')"
   ]
  },
  {
   "cell_type": "code",
   "execution_count": 42,
   "id": "11366716-564e-4f66-a963-80411c286fd1",
   "metadata": {},
   "outputs": [
    {
     "data": {
      "text/html": [
       "<div>\n",
       "<style scoped>\n",
       "    .dataframe tbody tr th:only-of-type {\n",
       "        vertical-align: middle;\n",
       "    }\n",
       "\n",
       "    .dataframe tbody tr th {\n",
       "        vertical-align: top;\n",
       "    }\n",
       "\n",
       "    .dataframe thead th {\n",
       "        text-align: right;\n",
       "    }\n",
       "</style>\n",
       "<table border=\"1\" class=\"dataframe\">\n",
       "  <thead>\n",
       "    <tr style=\"text-align: right;\">\n",
       "      <th></th>\n",
       "      <th>matricula_funcionario</th>\n",
       "      <th>codigo_produto</th>\n",
       "      <th>quantidade</th>\n",
       "    </tr>\n",
       "  </thead>\n",
       "  <tbody>\n",
       "    <tr>\n",
       "      <th>count</th>\n",
       "      <td>3.000000e+03</td>\n",
       "      <td>3000.000000</td>\n",
       "      <td>3000.000000</td>\n",
       "    </tr>\n",
       "    <tr>\n",
       "      <th>mean</th>\n",
       "      <td>1.234567e+08</td>\n",
       "      <td>10010.468667</td>\n",
       "      <td>2.453333</td>\n",
       "    </tr>\n",
       "    <tr>\n",
       "      <th>std</th>\n",
       "      <td>3.489977e+02</td>\n",
       "      <td>5.772590</td>\n",
       "      <td>1.107955</td>\n",
       "    </tr>\n",
       "    <tr>\n",
       "      <th>min</th>\n",
       "      <td>1.234561e+08</td>\n",
       "      <td>10001.000000</td>\n",
       "      <td>1.000000</td>\n",
       "    </tr>\n",
       "    <tr>\n",
       "      <th>25%</th>\n",
       "      <td>1.234563e+08</td>\n",
       "      <td>10006.000000</td>\n",
       "      <td>1.000000</td>\n",
       "    </tr>\n",
       "    <tr>\n",
       "      <th>50%</th>\n",
       "      <td>1.234567e+08</td>\n",
       "      <td>10011.000000</td>\n",
       "      <td>2.000000</td>\n",
       "    </tr>\n",
       "    <tr>\n",
       "      <th>75%</th>\n",
       "      <td>1.234570e+08</td>\n",
       "      <td>10015.000000</td>\n",
       "      <td>3.000000</td>\n",
       "    </tr>\n",
       "    <tr>\n",
       "      <th>max</th>\n",
       "      <td>1.234571e+08</td>\n",
       "      <td>10020.000000</td>\n",
       "      <td>4.000000</td>\n",
       "    </tr>\n",
       "  </tbody>\n",
       "</table>\n",
       "</div>"
      ],
      "text/plain": [
       "       matricula_funcionario  codigo_produto   quantidade\n",
       "count           3.000000e+03     3000.000000  3000.000000\n",
       "mean            1.234567e+08    10010.468667     2.453333\n",
       "std             3.489977e+02        5.772590     1.107955\n",
       "min             1.234561e+08    10001.000000     1.000000\n",
       "25%             1.234563e+08    10006.000000     1.000000\n",
       "50%             1.234567e+08    10011.000000     2.000000\n",
       "75%             1.234570e+08    10015.000000     3.000000\n",
       "max             1.234571e+08    10020.000000     4.000000"
      ]
     },
     "execution_count": 42,
     "metadata": {},
     "output_type": "execute_result"
    }
   ],
   "source": [
    "df.describe()\n"
   ]
  },
  {
   "cell_type": "code",
   "execution_count": 44,
   "id": "d0bc0250-c318-4c0a-8629-9c36674dd1f0",
   "metadata": {},
   "outputs": [
    {
     "data": {
      "text/plain": [
       "matricula_funcionario  nome_funcionario  cargo     codigo_loja  nome_loja    codigo_produto  descricao_produto    categoria         preco_custo  valor_unitario  quantidade  comissao  dt_venda          dt_entrega      \n",
       "123456111              José Maria        Vendedor  CL001        Loja Matriz  10004           Máquina Lavar Roupa  Eletrodomésticos  1099         1709,1          1           0,05      05/09/2019 10:36  10/09/2019 12:46    1\n",
       "123456888              Rita Sampaio      Vendedor  CL003        Filial SP    10004           Máquina Lavar Roupa  Eletrodomésticos  1099         1709,1          3           0,09      26/09/2019 10:40  30/09/2019 11:26    1\n",
       "                                                                                                                                                                 2           0,07      12/01/2020 12:31  15/01/2020 11:36    1\n",
       "                                                                                                                                                                                       29/08/2020 16:57  31/08/2020 11:48    1\n",
       "                                                                                                                                                                 3           0,09      09/06/2020 14:14  14/06/2020 09:33    1\n",
       "                                                                                                                                                                                                                            ..\n",
       "123456555              Marta Cury        Vendedor  CL002        Filial MG    10004           Máquina Lavar Roupa  Eletrodomésticos  1099         1709,1          1           0,05      11/06/2020 10:35  18/06/2020 15:16    1\n",
       "                                                                                                                                                                                       12/09/2019 12:15  19/09/2019 16:49    1\n",
       "                                                                                                                                                                                       23/09/2020 15:42  26/09/2020 10:13    1\n",
       "                                                                                                                                                                                       25/06/2020 12:00  30/06/2020 16:56    1\n",
       "123457113              Victor Hugo       Vendedor  CL004        Filial ES    10004           Máquina Lavar Roupa  Eletrodomésticos  1099         1709,1          4           0,1       16/05/2020 13:18  23/05/2020 10:59    1\n",
       "Name: count, Length: 159, dtype: int64"
      ]
     },
     "execution_count": 44,
     "metadata": {},
     "output_type": "execute_result"
    }
   ],
   "source": [
    "df.value_counts()"
   ]
  },
  {
   "cell_type": "code",
   "execution_count": 45,
   "id": "b947cf4d-32f3-4ebd-895f-2824f949e16f",
   "metadata": {},
   "outputs": [
    {
     "data": {
      "text/plain": [
       "matricula_funcionario      12\n",
       "nome_funcionario           12\n",
       "cargo                       1\n",
       "codigo_loja                 4\n",
       "nome_loja                   4\n",
       "codigo_produto             20\n",
       "descricao_produto          20\n",
       "categoria                   4\n",
       "preco_custo                20\n",
       "valor_unitario             19\n",
       "quantidade                  4\n",
       "comissao                    4\n",
       "dt_venda                 2994\n",
       "dt_entrega               2989\n",
       "dtype: int64"
      ]
     },
     "execution_count": 45,
     "metadata": {},
     "output_type": "execute_result"
    }
   ],
   "source": [
    "df.nunique()"
   ]
  },
  {
   "cell_type": "code",
   "execution_count": 46,
   "id": "e6bb99d6-9c3f-4cc9-b84e-80f858323b21",
   "metadata": {},
   "outputs": [
    {
     "name": "stdout",
     "output_type": "stream",
     "text": [
      "<class 'pandas.core.frame.DataFrame'>\n",
      "RangeIndex: 3000 entries, 0 to 2999\n",
      "Data columns (total 14 columns):\n",
      " #   Column                 Non-Null Count  Dtype \n",
      "---  ------                 --------------  ----- \n",
      " 0   matricula_funcionario  3000 non-null   int64 \n",
      " 1   nome_funcionario       3000 non-null   object\n",
      " 2   cargo                  3000 non-null   object\n",
      " 3   codigo_loja            3000 non-null   object\n",
      " 4   nome_loja              3000 non-null   object\n",
      " 5   codigo_produto         3000 non-null   int64 \n",
      " 6   descricao_produto      3000 non-null   object\n",
      " 7   categoria              3000 non-null   object\n",
      " 8   preco_custo            3000 non-null   object\n",
      " 9   valor_unitario         3000 non-null   object\n",
      " 10  quantidade             3000 non-null   int64 \n",
      " 11  comissao               159 non-null    object\n",
      " 12  dt_venda               3000 non-null   object\n",
      " 13  dt_entrega             3000 non-null   object\n",
      "dtypes: int64(3), object(11)\n",
      "memory usage: 328.3+ KB\n"
     ]
    }
   ],
   "source": [
    "df.info()"
   ]
  },
  {
   "cell_type": "code",
   "execution_count": null,
   "id": "213e3461-6664-48bb-b0cf-63c5e0a40c30",
   "metadata": {},
   "outputs": [],
   "source": []
  }
 ],
 "metadata": {
  "kernelspec": {
   "display_name": "Python 3 (ipykernel)",
   "language": "python",
   "name": "python3"
  },
  "language_info": {
   "codemirror_mode": {
    "name": "ipython",
    "version": 3
   },
   "file_extension": ".py",
   "mimetype": "text/x-python",
   "name": "python",
   "nbconvert_exporter": "python",
   "pygments_lexer": "ipython3",
   "version": "3.11.7"
  }
 },
 "nbformat": 4,
 "nbformat_minor": 5
}
