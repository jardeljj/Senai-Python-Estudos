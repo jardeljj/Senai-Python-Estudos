{
 "cells": [
  {
   "cell_type": "markdown",
   "metadata": {},
   "source": [
    "### Dúvidas:\n",
    "\n",
    "- Total de colunas: 11\n",
    "    - só muda se houver a solicitação de inclusão de mais campos\n",
    "\n",
    "- Nome da aba é sempre \"dados\"?\n",
    "    - Sim!\n",
    "\n",
    "- Qual é a origem dos relatórios?\n",
    "    - Resp: eles são extraídos do sistema de venda.\n",
    "\n",
    "- Data é a data de realização da venda?\n",
    "    - Sim!\n",
    "    \n",
    "- Quem são os compradores?\n",
    "    - O nome do arquivo tem algo a ver com isso?\n",
    "        - Nome do arquivo é configurado da seguinte forma:\n",
    "\n",
    "        `nome do segmento - país onde foi realizada a venda`\n",
    "\n",
    "\n",
    "\n",
    "Passo a passo:\n",
    "\n",
    "- Criar uma planilha em branco\n",
    "- Replicar as colunas que existem nos relatórios (11 colunas)\n",
    "- Inserir duas colunas novas: Segmento e País\n",
    "- Percorrer todos os arquivos, copiar os dados, colar na planilha consolidado e preencher\n",
    "as informações de segmento e país\n",
    "\n",
    "\n"
   ]
  },
  {
   "cell_type": "code",
   "execution_count": 1,
   "metadata": {},
   "outputs": [],
   "source": [
    "import pandas as pd\n",
    "import os\n",
    "import datetime"
   ]
  },
  {
   "cell_type": "code",
   "execution_count": 2,
   "metadata": {},
   "outputs": [],
   "source": [
    "data = datetime.datetime.now()"
   ]
  },
  {
   "cell_type": "code",
   "execution_count": 4,
   "metadata": {},
   "outputs": [],
   "source": [
    "colunas = [\n",
    "    'Segmento',\n",
    "    'País',\n",
    "    'Produto',\n",
    "    'Qtde de Unidades Vendidas',\n",
    "    'Preço Unitário',\n",
    "    'Valor Total',\n",
    "    'Desconto',\n",
    "    'Valor Total c/ Desconto',\n",
    "    'Custo Total',\n",
    "    'Lucro',\n",
    "    'Data',\n",
    "    'Mês',\n",
    "    'Ano'\n",
    "]\n",
    "consolidado = pd.DataFrame(columns=colunas)\n"
   ]
  },
  {
   "cell_type": "code",
   "execution_count": 5,
   "metadata": {},
   "outputs": [
    {
     "data": {
      "text/plain": [
       "pandas.core.frame.DataFrame"
      ]
     },
     "execution_count": 5,
     "metadata": {},
     "output_type": "execute_result"
    }
   ],
   "source": [
    "type(consolidado)"
   ]
  },
  {
   "cell_type": "code",
   "execution_count": 6,
   "metadata": {},
   "outputs": [
    {
     "data": {
      "text/html": [
       "<div>\n",
       "<style scoped>\n",
       "    .dataframe tbody tr th:only-of-type {\n",
       "        vertical-align: middle;\n",
       "    }\n",
       "\n",
       "    .dataframe tbody tr th {\n",
       "        vertical-align: top;\n",
       "    }\n",
       "\n",
       "    .dataframe thead th {\n",
       "        text-align: right;\n",
       "    }\n",
       "</style>\n",
       "<table border=\"1\" class=\"dataframe\">\n",
       "  <thead>\n",
       "    <tr style=\"text-align: right;\">\n",
       "      <th></th>\n",
       "      <th>Segmento</th>\n",
       "      <th>País</th>\n",
       "      <th>Produto</th>\n",
       "      <th>Qtde de Unidades Vendidas</th>\n",
       "      <th>Preço Unitário</th>\n",
       "      <th>Valor Total</th>\n",
       "      <th>Desconto</th>\n",
       "      <th>Valor Total c/ Desconto</th>\n",
       "      <th>Custo Total</th>\n",
       "      <th>Lucro</th>\n",
       "      <th>Data</th>\n",
       "      <th>Mês</th>\n",
       "      <th>Ano</th>\n",
       "    </tr>\n",
       "  </thead>\n",
       "  <tbody>\n",
       "  </tbody>\n",
       "</table>\n",
       "</div>"
      ],
      "text/plain": [
       "Empty DataFrame\n",
       "Columns: [Segmento, País, Produto, Qtde de Unidades Vendidas, Preço Unitário, Valor Total, Desconto, Valor Total c/ Desconto, Custo Total, Lucro, Data, Mês, Ano]\n",
       "Index: []"
      ]
     },
     "execution_count": 6,
     "metadata": {},
     "output_type": "execute_result"
    }
   ],
   "source": [
    "consolidado"
   ]
  },
  {
   "cell_type": "code",
   "execution_count": 7,
   "metadata": {},
   "outputs": [],
   "source": [
    "arquivos = os.listdir(\"planilhas\")"
   ]
  },
  {
   "cell_type": "code",
   "execution_count": 8,
   "metadata": {},
   "outputs": [],
   "source": [
    "for excel in arquivos:\n",
    "\n",
    "    if excel.endswith('.xlsx'):\n",
    "        dados_arquivo = excel.split('-')\n",
    "        segmento = dados_arquivo[0]\n",
    "        pais = dados_arquivo[1].replace('.xlsx', '')\n",
    "        \n",
    "        try:\n",
    "            df = pd.read_excel(f'planilhas\\\\{excel}')\n",
    "            df.insert(0, 'Segmento', segmento)\n",
    "            df.insert(1, 'País', pais)        \n",
    "            consolidado = pd.concat([consolidado, df])\n",
    "        except:\n",
    "            with open('log_erros.txt', 'w') as arquivo:\n",
    "                arquivo.write(f'Erro ao tentar consolidar o arquivo {excel}.')\n",
    "    else:\n",
    "        with open('log_erros.txt', 'w') as arquivo:\n",
    "            arquivo.write(f'O arquivo {excel} não é um arquivo Excel válido!')"
   ]
  },
  {
   "cell_type": "code",
   "execution_count": 9,
   "metadata": {},
   "outputs": [
    {
     "data": {
      "text/plain": [
       "pandas.core.frame.DataFrame"
      ]
     },
     "execution_count": 9,
     "metadata": {},
     "output_type": "execute_result"
    }
   ],
   "source": [
    "type(consolidado)"
   ]
  },
  {
   "cell_type": "code",
   "execution_count": 10,
   "metadata": {},
   "outputs": [
    {
     "data": {
      "text/plain": [
       "(700, 13)"
      ]
     },
     "execution_count": 10,
     "metadata": {},
     "output_type": "execute_result"
    }
   ],
   "source": [
    "consolidado.shape\n"
   ]
  },
  {
   "cell_type": "code",
   "execution_count": 11,
   "metadata": {},
   "outputs": [
    {
     "data": {
      "text/plain": [
       "0     2019-01-01 00:00:00\n",
       "1     2019-12-01 00:00:00\n",
       "2     2019-09-01 00:00:00\n",
       "3     2019-06-01 00:00:00\n",
       "4     2019-12-01 00:00:00\n",
       "             ...         \n",
       "15    2019-07-01 00:00:00\n",
       "16    2019-01-01 00:00:00\n",
       "17    2019-10-01 00:00:00\n",
       "18    2019-10-01 00:00:00\n",
       "19    2019-08-01 00:00:00\n",
       "Name: Data, Length: 700, dtype: object"
      ]
     },
     "execution_count": 11,
     "metadata": {},
     "output_type": "execute_result"
    }
   ],
   "source": [
    "consolidado['Data']"
   ]
  },
  {
   "cell_type": "code",
   "execution_count": 12,
   "metadata": {},
   "outputs": [],
   "source": [
    "consolidado.to_excel(f\"Report-consolidado-{data.strftime('%d-%m-%Y')}.xlsx\", \n",
    "                     index=False,\n",
    "                     sheet_name='Report consolidado')"
   ]
  }
 ],
 "metadata": {
  "interpreter": {
   "hash": "6467cde764c137f84d8db938254cde60243c46e0fe8734c86fbe71b9c1c73122"
  },
  "kernelspec": {
   "display_name": "Python 3 (ipykernel)",
   "language": "python",
   "name": "python3"
  },
  "language_info": {
   "codemirror_mode": {
    "name": "ipython",
    "version": 3
   },
   "file_extension": ".py",
   "mimetype": "text/x-python",
   "name": "python",
   "nbconvert_exporter": "python",
   "pygments_lexer": "ipython3",
   "version": "3.11.5"
  }
 },
 "nbformat": 4,
 "nbformat_minor": 2
}
