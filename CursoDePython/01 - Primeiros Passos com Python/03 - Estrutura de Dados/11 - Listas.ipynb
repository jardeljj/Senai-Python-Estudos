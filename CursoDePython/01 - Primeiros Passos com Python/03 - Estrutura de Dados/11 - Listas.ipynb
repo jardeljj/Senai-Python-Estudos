{
 "cells": [
  {
   "cell_type": "markdown",
   "metadata": {
    "id": "q3rDrCegh2qW"
   },
   "source": [
    "# Listas\n",
    "\n",
    "Uma lista é uma estrutura de dados composta por itens organizados de forma linear, na qual cada um pode ser acessado a partir de um índice, que representa sua posição na coleção (iniciando em zero).\n",
    "\n",
    "- são mutáveis\n",
    "- podem conter tipos diferentes de objetos\n"
   ]
  },
  {
   "cell_type": "markdown",
   "metadata": {
    "id": "LPT6FdX7iW4g"
   },
   "source": [
    "## Criando uma lista"
   ]
  },
  {
   "cell_type": "code",
   "execution_count": 1,
   "metadata": {
    "id": "K3sbBXK0iZgC"
   },
   "outputs": [],
   "source": [
    "lista = [ 'João', 'Gabriel', 'Lucas' ]"
   ]
  },
  {
   "cell_type": "code",
   "execution_count": 2,
   "metadata": {
    "colab": {
     "base_uri": "https://localhost:8080/"
    },
    "id": "zPKnIscXmQjt",
    "outputId": "f7edf49d-b553-4f04-95c8-30760590f332"
   },
   "outputs": [
    {
     "data": {
      "text/plain": [
       "list"
      ]
     },
     "execution_count": 2,
     "metadata": {},
     "output_type": "execute_result"
    }
   ],
   "source": [
    "type(lista)"
   ]
  },
  {
   "cell_type": "code",
   "execution_count": 3,
   "metadata": {
    "colab": {
     "base_uri": "https://localhost:8080/"
    },
    "id": "G5pOt3TjmWFj",
    "outputId": "22084959-f0e8-455c-9f11-6737c74cfe78"
   },
   "outputs": [
    {
     "name": "stdout",
     "output_type": "stream",
     "text": [
      "['João', 'Gabriel', 'Lucas']\n"
     ]
    }
   ],
   "source": [
    "print(lista)"
   ]
  },
  {
   "cell_type": "markdown",
   "metadata": {
    "id": "mIvi5teJief7"
   },
   "source": [
    "## Lista com tipos de objetos diferentes"
   ]
  },
  {
   "cell_type": "code",
   "execution_count": 4,
   "metadata": {
    "id": "j02AxIiKihw4"
   },
   "outputs": [],
   "source": [
    "lista = [10, True, 'João', 123.45, 'Python']"
   ]
  },
  {
   "cell_type": "code",
   "execution_count": 7,
   "metadata": {
    "colab": {
     "base_uri": "https://localhost:8080/"
    },
    "id": "9Nk83Eixmjo6",
    "outputId": "e173c047-06cb-42b7-962a-2d45a8ce46ae"
   },
   "outputs": [
    {
     "name": "stdout",
     "output_type": "stream",
     "text": [
      "[10, True, 'João', 123.45, 'Python']\n"
     ]
    }
   ],
   "source": [
    "print(lista)"
   ]
  },
  {
   "cell_type": "code",
   "execution_count": 8,
   "metadata": {
    "colab": {
     "base_uri": "https://localhost:8080/"
    },
    "id": "02iKYIa4mn97",
    "outputId": "d451d7fd-acd5-4bde-bff4-2c5576a9879b"
   },
   "outputs": [
    {
     "data": {
      "text/plain": [
       "list"
      ]
     },
     "execution_count": 8,
     "metadata": {},
     "output_type": "execute_result"
    }
   ],
   "source": [
    "type(lista)"
   ]
  },
  {
   "cell_type": "code",
   "execution_count": 9,
   "metadata": {
    "id": "PnC_iGPWmqlu"
   },
   "outputs": [],
   "source": [
    "lista2 = [ 10, 'João', [1, 2, 3]   ]"
   ]
  },
  {
   "cell_type": "code",
   "execution_count": 10,
   "metadata": {
    "colab": {
     "base_uri": "https://localhost:8080/"
    },
    "id": "mdQlOOoumxwK",
    "outputId": "4750aaa4-417e-4e14-cc6e-e85c655a9ca8"
   },
   "outputs": [
    {
     "data": {
      "text/plain": [
       "list"
      ]
     },
     "execution_count": 10,
     "metadata": {},
     "output_type": "execute_result"
    }
   ],
   "source": [
    "type(lista2)"
   ]
  },
  {
   "cell_type": "markdown",
   "metadata": {
    "id": "q3tcnctKijT5"
   },
   "source": [
    "## Acessando elementos de uma lista pelo índice"
   ]
  },
  {
   "cell_type": "code",
   "execution_count": 13,
   "metadata": {
    "colab": {
     "base_uri": "https://localhost:8080/"
    },
    "id": "KI2ggl5Tip96",
    "outputId": "2dc53d23-ee0d-4bdb-8847-3c47d6203dd0"
   },
   "outputs": [
    {
     "name": "stdout",
     "output_type": "stream",
     "text": [
      "[10, True, 'João', 123.45, 'Python']\n"
     ]
    }
   ],
   "source": [
    "print(lista)"
   ]
  },
  {
   "cell_type": "code",
   "execution_count": 14,
   "metadata": {
    "colab": {
     "base_uri": "https://localhost:8080/"
    },
    "id": "tyN5Qs0am-nA",
    "outputId": "d1f0906a-7bc5-47c2-8ba6-54cc81157e7b"
   },
   "outputs": [
    {
     "data": {
      "text/plain": [
       "10"
      ]
     },
     "execution_count": 14,
     "metadata": {},
     "output_type": "execute_result"
    }
   ],
   "source": [
    "lista[0]"
   ]
  },
  {
   "cell_type": "code",
   "execution_count": 15,
   "metadata": {
    "colab": {
     "base_uri": "https://localhost:8080/",
     "height": 35
    },
    "id": "ItM7PwzxnKFe",
    "outputId": "b822acb0-9b61-4613-989e-d858a101e49c"
   },
   "outputs": [
    {
     "data": {
      "text/plain": [
       "'João'"
      ]
     },
     "execution_count": 15,
     "metadata": {},
     "output_type": "execute_result"
    }
   ],
   "source": [
    "lista[2]"
   ]
  },
  {
   "cell_type": "code",
   "execution_count": 16,
   "metadata": {
    "colab": {
     "base_uri": "https://localhost:8080/",
     "height": 35
    },
    "id": "gRhaatpMnOM3",
    "outputId": "58ab76c9-cb4b-41ef-e780-2c5633b9a7e9"
   },
   "outputs": [
    {
     "data": {
      "text/plain": [
       "'Python'"
      ]
     },
     "execution_count": 16,
     "metadata": {},
     "output_type": "execute_result"
    }
   ],
   "source": [
    "lista[4]"
   ]
  },
  {
   "cell_type": "code",
   "execution_count": 17,
   "metadata": {
    "colab": {
     "base_uri": "https://localhost:8080/",
     "height": 35
    },
    "id": "6aFiQYJonRCu",
    "outputId": "5c9ef55f-7e60-4f4a-d464-8c8fc02d83b3"
   },
   "outputs": [
    {
     "data": {
      "text/plain": [
       "'Python'"
      ]
     },
     "execution_count": 17,
     "metadata": {},
     "output_type": "execute_result"
    }
   ],
   "source": [
    "lista[-1]"
   ]
  },
  {
   "cell_type": "code",
   "execution_count": 18,
   "metadata": {
    "colab": {
     "base_uri": "https://localhost:8080/"
    },
    "id": "VLRyv64znULs",
    "outputId": "fc99be73-5e05-46da-e4ac-55c9d158d504"
   },
   "outputs": [
    {
     "data": {
      "text/plain": [
       "123.45"
      ]
     },
     "execution_count": 18,
     "metadata": {},
     "output_type": "execute_result"
    }
   ],
   "source": [
    "lista[-2]"
   ]
  },
  {
   "cell_type": "markdown",
   "metadata": {
    "id": "o5kQUcrInVys"
   },
   "source": [
    "### Acessando uma lista dentro de outra lista"
   ]
  },
  {
   "cell_type": "code",
   "execution_count": 19,
   "metadata": {
    "colab": {
     "base_uri": "https://localhost:8080/"
    },
    "id": "f44DZCQ9nb1V",
    "outputId": "e8a6d2e6-277e-4af7-9417-c95480451a7e"
   },
   "outputs": [
    {
     "data": {
      "text/plain": [
       "[10, 'João', [1, 2, 3]]"
      ]
     },
     "execution_count": 19,
     "metadata": {},
     "output_type": "execute_result"
    }
   ],
   "source": [
    "lista2"
   ]
  },
  {
   "cell_type": "code",
   "execution_count": 20,
   "metadata": {
    "colab": {
     "base_uri": "https://localhost:8080/"
    },
    "id": "YkIiSu_WneCN",
    "outputId": "c1a6a40e-4938-4ad4-dd68-1fdcba0650e1"
   },
   "outputs": [
    {
     "data": {
      "text/plain": [
       "2"
      ]
     },
     "execution_count": 20,
     "metadata": {},
     "output_type": "execute_result"
    }
   ],
   "source": [
    "lista2[2][1]"
   ]
  },
  {
   "cell_type": "code",
   "execution_count": 21,
   "metadata": {
    "colab": {
     "base_uri": "https://localhost:8080/"
    },
    "id": "TX0534OioOeJ",
    "outputId": "fd62e51a-8c85-4930-9672-ae6a0056c0d9"
   },
   "outputs": [
    {
     "data": {
      "text/plain": [
       "3"
      ]
     },
     "execution_count": 21,
     "metadata": {},
     "output_type": "execute_result"
    }
   ],
   "source": [
    "lista2[2][2]"
   ]
  },
  {
   "cell_type": "markdown",
   "metadata": {
    "id": "hsq-IMpAirVQ"
   },
   "source": [
    "## Utilizando slicing (fatiamento) em uma lista"
   ]
  },
  {
   "cell_type": "code",
   "execution_count": 22,
   "metadata": {
    "colab": {
     "base_uri": "https://localhost:8080/"
    },
    "id": "YaCn-dI-iwlb",
    "outputId": "320e55dc-c1ed-4bcb-a441-f78a5a67093e"
   },
   "outputs": [
    {
     "data": {
      "text/plain": [
       "[10, True, 'João', 123.45, 'Python']"
      ]
     },
     "execution_count": 22,
     "metadata": {},
     "output_type": "execute_result"
    }
   ],
   "source": [
    "lista"
   ]
  },
  {
   "cell_type": "code",
   "execution_count": 23,
   "metadata": {
    "colab": {
     "base_uri": "https://localhost:8080/"
    },
    "id": "yQLqwpXzoclG",
    "outputId": "4f1f1ac5-01c1-4a81-a585-c8c5bb144c30"
   },
   "outputs": [
    {
     "data": {
      "text/plain": [
       "[10, True]"
      ]
     },
     "execution_count": 23,
     "metadata": {},
     "output_type": "execute_result"
    }
   ],
   "source": [
    "lista[0:2]"
   ]
  },
  {
   "cell_type": "code",
   "execution_count": 24,
   "metadata": {
    "colab": {
     "base_uri": "https://localhost:8080/"
    },
    "id": "xU2riChbom6_",
    "outputId": "fc2ae995-e415-4ea0-e478-a07f9448bd96"
   },
   "outputs": [
    {
     "data": {
      "text/plain": [
       "[10, True, 'João']"
      ]
     },
     "execution_count": 24,
     "metadata": {},
     "output_type": "execute_result"
    }
   ],
   "source": [
    "lista[0:3]"
   ]
  },
  {
   "cell_type": "code",
   "execution_count": 26,
   "metadata": {
    "colab": {
     "base_uri": "https://localhost:8080/"
    },
    "id": "B3h6UR35ot1L",
    "outputId": "381b1cfe-7383-46a7-9ff9-28350c474bb4"
   },
   "outputs": [
    {
     "data": {
      "text/plain": [
       "[10, True, 'João', 123.45, 'Python']"
      ]
     },
     "execution_count": 26,
     "metadata": {},
     "output_type": "execute_result"
    }
   ],
   "source": [
    "lista[:]"
   ]
  },
  {
   "cell_type": "markdown",
   "metadata": {
    "id": "I9vzTF9Wiy9W"
   },
   "source": [
    "## Operadores `in` e `not in`"
   ]
  },
  {
   "cell_type": "code",
   "execution_count": 27,
   "metadata": {
    "colab": {
     "base_uri": "https://localhost:8080/"
    },
    "id": "NUqdYBNli4Un",
    "outputId": "fe79e090-51f8-43dd-8055-f57b9addf76f"
   },
   "outputs": [
    {
     "data": {
      "text/plain": [
       "[10, True, 'João', 123.45, 'Python']"
      ]
     },
     "execution_count": 27,
     "metadata": {},
     "output_type": "execute_result"
    }
   ],
   "source": [
    "lista"
   ]
  },
  {
   "cell_type": "code",
   "execution_count": 28,
   "metadata": {
    "colab": {
     "base_uri": "https://localhost:8080/"
    },
    "id": "yFRu2ZlSo7Me",
    "outputId": "2e4a3c20-8c4e-42e3-8234-c6733bdfd95b"
   },
   "outputs": [
    {
     "data": {
      "text/plain": [
       "True"
      ]
     },
     "execution_count": 28,
     "metadata": {},
     "output_type": "execute_result"
    }
   ],
   "source": [
    "10 in lista"
   ]
  },
  {
   "cell_type": "code",
   "execution_count": 29,
   "metadata": {
    "colab": {
     "base_uri": "https://localhost:8080/"
    },
    "id": "eKnsWc3GpCc7",
    "outputId": "b8cfcea3-d497-4662-8e07-421f1debe8e9"
   },
   "outputs": [
    {
     "data": {
      "text/plain": [
       "False"
      ]
     },
     "execution_count": 29,
     "metadata": {},
     "output_type": "execute_result"
    }
   ],
   "source": [
    "20 in lista"
   ]
  },
  {
   "cell_type": "code",
   "execution_count": 32,
   "metadata": {
    "colab": {
     "base_uri": "https://localhost:8080/"
    },
    "id": "_KaGUpvmpFKo",
    "outputId": "aab51318-30f5-42df-caf8-4a6a05467ecc"
   },
   "outputs": [
    {
     "data": {
      "text/plain": [
       "False"
      ]
     },
     "execution_count": 32,
     "metadata": {},
     "output_type": "execute_result"
    }
   ],
   "source": [
    "'João' not in lista"
   ]
  },
  {
   "cell_type": "code",
   "execution_count": null,
   "metadata": {
    "id": "La-AhfzUpI2z"
   },
   "outputs": [],
   "source": []
  },
  {
   "cell_type": "markdown",
   "metadata": {
    "id": "yCaXpf2ii6a3"
   },
   "source": [
    "## Manipulando elementos de uma lista"
   ]
  },
  {
   "cell_type": "markdown",
   "metadata": {
    "id": "UcEDCq-wi9eI"
   },
   "source": [
    "### Adicionando elementos"
   ]
  },
  {
   "cell_type": "markdown",
   "metadata": {
    "id": "a9HpTzrSjKrc"
   },
   "source": [
    "#### Método `append()`\n",
    "\n",
    "O método `append()` insere um elemento sempre no final da lista."
   ]
  },
  {
   "cell_type": "code",
   "execution_count": 62,
   "metadata": {
    "colab": {
     "base_uri": "https://localhost:8080/"
    },
    "id": "3Vj2_D2IjN0B",
    "outputId": "76107d28-4105-446b-ab76-8af1dfe58aad"
   },
   "outputs": [
    {
     "data": {
      "text/plain": [
       "['Computador', 'João', 'Pandas']"
      ]
     },
     "execution_count": 62,
     "metadata": {},
     "output_type": "execute_result"
    }
   ],
   "source": [
    "lista"
   ]
  },
  {
   "cell_type": "code",
   "execution_count": 64,
   "metadata": {
    "id": "_IQ60lk3pQhx"
   },
   "outputs": [],
   "source": [
    "lista.append('Python p/ Data Science')"
   ]
  },
  {
   "cell_type": "code",
   "execution_count": 65,
   "metadata": {
    "colab": {
     "base_uri": "https://localhost:8080/"
    },
    "id": "lMNH8hlppeGg",
    "outputId": "ab8ea484-02e1-4344-dd8b-4554f7c93833"
   },
   "outputs": [
    {
     "data": {
      "text/plain": [
       "['Computador', 'João', 'Pandas', 'Python p/ Data Science']"
      ]
     },
     "execution_count": 65,
     "metadata": {},
     "output_type": "execute_result"
    }
   ],
   "source": [
    "lista"
   ]
  },
  {
   "cell_type": "markdown",
   "metadata": {
    "id": "JcJsUPAfjZQo"
   },
   "source": [
    "#### Método `insert()`\n",
    "\n",
    "O método `insert()`recebe dois argumentos: o índice onde vamos inserir o elemento e o valor do elemento."
   ]
  },
  {
   "cell_type": "code",
   "execution_count": 41,
   "metadata": {
    "id": "rOPkA5IQjSHz"
   },
   "outputs": [],
   "source": [
    "lista.insert(1, 'maça')"
   ]
  },
  {
   "cell_type": "code",
   "execution_count": 43,
   "metadata": {
    "colab": {
     "base_uri": "https://localhost:8080/"
    },
    "id": "DTRA6ksgpy43",
    "outputId": "1d6c449f-2e2b-41aa-a6f5-9e62770a598b"
   },
   "outputs": [
    {
     "data": {
      "text/plain": [
       "[10,\n",
       " 'maça',\n",
       " True,\n",
       " 'João',\n",
       " 123.45,\n",
       " 'Python',\n",
       " 'Formação Expert Python',\n",
       " 'Python p/ Data Science']"
      ]
     },
     "execution_count": 43,
     "metadata": {},
     "output_type": "execute_result"
    }
   ],
   "source": [
    "lista"
   ]
  },
  {
   "cell_type": "markdown",
   "metadata": {
    "id": "xacIhSOHkAbW"
   },
   "source": [
    "### Excluindo elementos"
   ]
  },
  {
   "cell_type": "markdown",
   "metadata": {
    "id": "Gl3psNU5kDsr"
   },
   "source": [
    "#### Método `pop()`\n",
    "\n",
    "O método `pop()` exclui o último elemento de uma lista.\n",
    "\n"
   ]
  },
  {
   "cell_type": "code",
   "execution_count": 46,
   "metadata": {
    "colab": {
     "base_uri": "https://localhost:8080/"
    },
    "id": "zwgvYgPlkHfU",
    "outputId": "3aa25705-8508-45c4-d2c7-0168793fe4b3"
   },
   "outputs": [
    {
     "data": {
      "text/plain": [
       "[10, 'maça', True, 'João', 123.45, 'Python', 'Formação Expert Python']"
      ]
     },
     "execution_count": 46,
     "metadata": {},
     "output_type": "execute_result"
    }
   ],
   "source": [
    "lista"
   ]
  },
  {
   "cell_type": "code",
   "execution_count": 47,
   "metadata": {
    "colab": {
     "base_uri": "https://localhost:8080/",
     "height": 35
    },
    "id": "iXHSPSoHp-0E",
    "outputId": "9c29271d-ad70-4358-a253-d8a6d5878f55"
   },
   "outputs": [
    {
     "data": {
      "text/plain": [
       "'Formação Expert Python'"
      ]
     },
     "execution_count": 47,
     "metadata": {},
     "output_type": "execute_result"
    }
   ],
   "source": [
    "lista.pop()"
   ]
  },
  {
   "cell_type": "code",
   "execution_count": 48,
   "metadata": {
    "colab": {
     "base_uri": "https://localhost:8080/"
    },
    "id": "GfzTN1_9qGdh",
    "outputId": "3e69c899-92be-4b47-a848-fae1e5b2e8d6"
   },
   "outputs": [
    {
     "data": {
      "text/plain": [
       "[10, 'maça', True, 'João', 123.45, 'Python']"
      ]
     },
     "execution_count": 48,
     "metadata": {},
     "output_type": "execute_result"
    }
   ],
   "source": [
    "lista"
   ]
  },
  {
   "cell_type": "markdown",
   "metadata": {
    "id": "LrIiOOr4kN3x"
   },
   "source": [
    "#### Método `remove()`\n",
    "\n",
    "O método `remove()` permite especificar qual elemento deverá ser removido."
   ]
  },
  {
   "cell_type": "code",
   "execution_count": 49,
   "metadata": {
    "colab": {
     "base_uri": "https://localhost:8080/"
    },
    "id": "oeZeDWgWrEdw",
    "outputId": "48f9cb37-c832-46f5-b4ac-d976ce67ed2a"
   },
   "outputs": [
    {
     "data": {
      "text/plain": [
       "[10, 'maça', True, 'João', 123.45, 'Python']"
      ]
     },
     "execution_count": 49,
     "metadata": {},
     "output_type": "execute_result"
    }
   ],
   "source": [
    "lista"
   ]
  },
  {
   "cell_type": "code",
   "execution_count": 50,
   "metadata": {
    "id": "p6u6nxcYsNRT"
   },
   "outputs": [],
   "source": [
    "lista.remove(True)"
   ]
  },
  {
   "cell_type": "code",
   "execution_count": 51,
   "metadata": {
    "colab": {
     "base_uri": "https://localhost:8080/"
    },
    "id": "9HLbZVidsSsk",
    "outputId": "3dc8d5e0-d9ad-4dda-99d1-3b2e0c5dbedb"
   },
   "outputs": [
    {
     "data": {
      "text/plain": [
       "[10, 'maça', 'João', 123.45, 'Python']"
      ]
     },
     "execution_count": 51,
     "metadata": {},
     "output_type": "execute_result"
    }
   ],
   "source": [
    "lista"
   ]
  },
  {
   "cell_type": "code",
   "execution_count": 52,
   "metadata": {
    "id": "IEnGMcnFsT8Z"
   },
   "outputs": [],
   "source": [
    "lista.remove('maça')"
   ]
  },
  {
   "cell_type": "code",
   "execution_count": 53,
   "metadata": {
    "colab": {
     "base_uri": "https://localhost:8080/"
    },
    "id": "YucR8Po9sX-6",
    "outputId": "fce85c42-6060-4907-eb03-453e248aecef"
   },
   "outputs": [
    {
     "data": {
      "text/plain": [
       "[10, 'João', 123.45, 'Python']"
      ]
     },
     "execution_count": 53,
     "metadata": {},
     "output_type": "execute_result"
    }
   ],
   "source": [
    "lista"
   ]
  },
  {
   "cell_type": "markdown",
   "metadata": {
    "id": "B1cqbNaOkxA3"
   },
   "source": [
    "#### Comando `del`\n",
    "\n",
    "Podemos excluir um elemento de uma lista utilizando o comando `del` seguido do nome da lista e o índice do elemento que deverá ser excluído."
   ]
  },
  {
   "cell_type": "code",
   "execution_count": 54,
   "metadata": {
    "colab": {
     "base_uri": "https://localhost:8080/"
    },
    "id": "LciAu9swsaNK",
    "outputId": "451f1029-22ea-4d6f-87cf-223f094036b6"
   },
   "outputs": [
    {
     "data": {
      "text/plain": [
       "[10, 'João', 123.45, 'Python']"
      ]
     },
     "execution_count": 54,
     "metadata": {},
     "output_type": "execute_result"
    }
   ],
   "source": [
    "lista"
   ]
  },
  {
   "cell_type": "code",
   "execution_count": 55,
   "metadata": {
    "id": "B_AgEm6Usdob"
   },
   "outputs": [],
   "source": [
    "del lista[2]"
   ]
  },
  {
   "cell_type": "code",
   "execution_count": 56,
   "metadata": {
    "colab": {
     "base_uri": "https://localhost:8080/"
    },
    "id": "WV7MMT96sk_A",
    "outputId": "23b45ddd-e7a5-469f-ef07-7b8ce9e1c827"
   },
   "outputs": [
    {
     "data": {
      "text/plain": [
       "[10, 'João', 'Python']"
      ]
     },
     "execution_count": 56,
     "metadata": {},
     "output_type": "execute_result"
    }
   ],
   "source": [
    "lista"
   ]
  },
  {
   "cell_type": "markdown",
   "metadata": {
    "id": "KEJQ8oXHlGwf"
   },
   "source": [
    "### Alterando elementos"
   ]
  },
  {
   "cell_type": "code",
   "execution_count": 57,
   "metadata": {
    "colab": {
     "base_uri": "https://localhost:8080/"
    },
    "id": "Fs-RwjdMlKFY",
    "outputId": "9ce2611c-e5c4-4d82-a93f-12e38f9bda5d"
   },
   "outputs": [
    {
     "data": {
      "text/plain": [
       "[10, 'João', 'Python']"
      ]
     },
     "execution_count": 57,
     "metadata": {},
     "output_type": "execute_result"
    }
   ],
   "source": [
    "lista"
   ]
  },
  {
   "cell_type": "code",
   "execution_count": 58,
   "metadata": {
    "id": "yAMUP3BwsqEX"
   },
   "outputs": [],
   "source": [
    "lista[0] = 'Computador'"
   ]
  },
  {
   "cell_type": "code",
   "execution_count": 59,
   "metadata": {
    "colab": {
     "base_uri": "https://localhost:8080/"
    },
    "id": "cESn8Vqesyns",
    "outputId": "3ccc34b4-9721-4508-9aa9-5736db83c895"
   },
   "outputs": [
    {
     "data": {
      "text/plain": [
       "['Computador', 'João', 'Python']"
      ]
     },
     "execution_count": 59,
     "metadata": {},
     "output_type": "execute_result"
    }
   ],
   "source": [
    "lista"
   ]
  },
  {
   "cell_type": "code",
   "execution_count": 60,
   "metadata": {
    "id": "wFa56c8KszMc"
   },
   "outputs": [],
   "source": [
    "lista[2] = 'Pandas'"
   ]
  },
  {
   "cell_type": "code",
   "execution_count": 61,
   "metadata": {
    "colab": {
     "base_uri": "https://localhost:8080/"
    },
    "id": "SZsbURtjs4x1",
    "outputId": "be72b26d-9044-4d1f-b38b-aed171d27e13"
   },
   "outputs": [
    {
     "data": {
      "text/plain": [
       "['Computador', 'João', 'Pandas']"
      ]
     },
     "execution_count": 61,
     "metadata": {},
     "output_type": "execute_result"
    }
   ],
   "source": [
    "lista"
   ]
  },
  {
   "cell_type": "code",
   "execution_count": null,
   "metadata": {},
   "outputs": [],
   "source": []
  }
 ],
 "metadata": {
  "colab": {
   "name": "Listas.ipynb",
   "provenance": []
  },
  "kernelspec": {
   "display_name": "Python 3 (ipykernel)",
   "language": "python",
   "name": "python3"
  },
  "language_info": {
   "codemirror_mode": {
    "name": "ipython",
    "version": 3
   },
   "file_extension": ".py",
   "mimetype": "text/x-python",
   "name": "python",
   "nbconvert_exporter": "python",
   "pygments_lexer": "ipython3",
   "version": "3.11.5"
  }
 },
 "nbformat": 4,
 "nbformat_minor": 1
}
