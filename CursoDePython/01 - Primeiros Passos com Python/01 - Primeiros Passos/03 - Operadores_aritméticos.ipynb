{
 "cells": [
  {
   "cell_type": "markdown",
   "metadata": {
    "id": "UpWaCgau_zOx"
   },
   "source": [
    "# Operadores aritméticos\n",
    "\n",
    "Todo mundo já usou operadores aritméticos na escola! Nos primeiros anos de estudo aprendemos a fazer continhas de soma, subtração, multiplicação e divisão.\n",
    "\n",
    "No Python também temos esses operadores e podemos realizar todos esses cálculos!\n",
    "\n"
   ]
  },
  {
   "cell_type": "markdown",
   "metadata": {
    "id": "H4XvbWmWAPyO"
   },
   "source": [
    "## Adição"
   ]
  },
  {
   "cell_type": "code",
   "execution_count": 2,
   "metadata": {
    "colab": {
     "base_uri": "https://localhost:8080/"
    },
    "id": "uahJqGHlBmQM",
    "outputId": "55d2c02c-d026-4138-f121-967bf6952ba7"
   },
   "outputs": [
    {
     "name": "stdout",
     "output_type": "stream",
     "text": [
      "30\n",
      "70\n",
      "11270\n"
     ]
    }
   ],
   "source": [
    "print(10 + 20)\n",
    "print(30 + 40)\n",
    "print(10 + 70 + 90 + 1100 + 10000)"
   ]
  },
  {
   "cell_type": "markdown",
   "metadata": {
    "id": "h9-uw2K9Bm2P"
   },
   "source": [
    "## Subtração"
   ]
  },
  {
   "cell_type": "code",
   "execution_count": 3,
   "metadata": {
    "colab": {
     "base_uri": "https://localhost:8080/"
    },
    "id": "_uSZTwN3BpvG",
    "outputId": "4b2fe3d3-8d39-4bcf-d4c2-d0fa9a4e4369"
   },
   "outputs": [
    {
     "name": "stdout",
     "output_type": "stream",
     "text": [
      "36\n",
      "-131\n",
      "-309\n"
     ]
    }
   ],
   "source": [
    "print(123 - 87)\n",
    "print(67 - 198)\n",
    "print(34 - 8 - 78 - 90 - 167)"
   ]
  },
  {
   "cell_type": "markdown",
   "metadata": {
    "id": "7ODm6K8bBqLH"
   },
   "source": [
    "## Multiplicação"
   ]
  },
  {
   "cell_type": "code",
   "execution_count": 4,
   "metadata": {
    "colab": {
     "base_uri": "https://localhost:8080/"
    },
    "id": "0-Jz2qn6Bv9z",
    "outputId": "f66a21c2-266b-4395-d55f-7d8c3145bef7"
   },
   "outputs": [
    {
     "name": "stdout",
     "output_type": "stream",
     "text": [
      "80\n"
     ]
    }
   ],
   "source": [
    "print( 10 * 8)"
   ]
  },
  {
   "cell_type": "code",
   "execution_count": 5,
   "metadata": {
    "colab": {
     "base_uri": "https://localhost:8080/"
    },
    "id": "GMFjCHZ4fZb9",
    "outputId": "bbda781b-4596-4e8c-84f3-7a6a2643cd00"
   },
   "outputs": [
    {
     "name": "stdout",
     "output_type": "stream",
     "text": [
      "180\n"
     ]
    }
   ],
   "source": [
    "print( 12 * 3 * 5)"
   ]
  },
  {
   "cell_type": "markdown",
   "metadata": {
    "id": "nsztzi3jBxyo"
   },
   "source": [
    "## Divisão"
   ]
  },
  {
   "cell_type": "code",
   "execution_count": 6,
   "metadata": {
    "colab": {
     "base_uri": "https://localhost:8080/"
    },
    "id": "11SKwABbB3B-",
    "outputId": "7462b490-d800-4e7a-8c3c-70b90ba5399b"
   },
   "outputs": [
    {
     "name": "stdout",
     "output_type": "stream",
     "text": [
      "10.0\n",
      "5.608695652173913\n"
     ]
    }
   ],
   "source": [
    "print( 100 / 10 )\n",
    "print( 129 / 23)"
   ]
  },
  {
   "cell_type": "markdown",
   "metadata": {
    "id": "W8jXxZ8YB3fO"
   },
   "source": [
    "### Divisão com resultado inteiro"
   ]
  },
  {
   "cell_type": "code",
   "execution_count": 10,
   "metadata": {
    "colab": {
     "base_uri": "https://localhost:8080/"
    },
    "id": "qW8adDzaB69g",
    "outputId": "12d43a7a-3648-4b23-bae6-e1626b15ce86"
   },
   "outputs": [
    {
     "name": "stdout",
     "output_type": "stream",
     "text": [
      "5\n"
     ]
    }
   ],
   "source": [
    "print( 129 // 23)"
   ]
  },
  {
   "cell_type": "code",
   "execution_count": 8,
   "metadata": {
    "colab": {
     "base_uri": "https://localhost:8080/"
    },
    "id": "0KAXt83WgNZU",
    "outputId": "aa4ec54f-96a2-459a-9c88-a5807c988574"
   },
   "outputs": [
    {
     "name": "stdout",
     "output_type": "stream",
     "text": [
      "23\n"
     ]
    }
   ],
   "source": [
    "print( 1345 // 57)"
   ]
  },
  {
   "cell_type": "markdown",
   "metadata": {
    "id": "GvS1TffWB7UG"
   },
   "source": [
    "### Módulo"
   ]
  },
  {
   "cell_type": "code",
   "execution_count": 13,
   "metadata": {
    "colab": {
     "base_uri": "https://localhost:8080/"
    },
    "id": "Z_rQvIQiB-FX",
    "outputId": "40c22be7-bfe0-49e9-d62b-b6a623a7d899"
   },
   "outputs": [
    {
     "name": "stdout",
     "output_type": "stream",
     "text": [
      "14\n"
     ]
    }
   ],
   "source": [
    "print(129 % 23)"
   ]
  },
  {
   "cell_type": "code",
   "execution_count": 14,
   "metadata": {
    "colab": {
     "base_uri": "https://localhost:8080/"
    },
    "id": "3TH9E2RZgoqe",
    "outputId": "a5367a77-7653-4e61-f493-ba7082ed568c"
   },
   "outputs": [
    {
     "name": "stdout",
     "output_type": "stream",
     "text": [
      "1\n"
     ]
    }
   ],
   "source": [
    "print( 10 % 3)"
   ]
  },
  {
   "cell_type": "markdown",
   "metadata": {
    "id": "JIwN3RALCAR3"
   },
   "source": [
    "## Exponenciação"
   ]
  },
  {
   "cell_type": "code",
   "execution_count": 15,
   "metadata": {
    "colab": {
     "base_uri": "https://localhost:8080/"
    },
    "id": "fuSKpk0NCDtR",
    "outputId": "d359a38a-cc1a-47c3-8e55-803f5e63c57a"
   },
   "outputs": [
    {
     "name": "stdout",
     "output_type": "stream",
     "text": [
      "100\n",
      "10000\n",
      "27\n"
     ]
    }
   ],
   "source": [
    "print( 10 ** 2)\n",
    "print( 10 ** 4)\n",
    "print( 3 ** 3)"
   ]
  },
  {
   "cell_type": "markdown",
   "metadata": {
    "id": "0KD_9sQ7CFdc"
   },
   "source": [
    "# Precedência\n",
    "\n",
    "\n",
    "\n",
    "1. Parênteses\n",
    "2. Expoentes\n",
    "3. Multiplicações e divisões (da esquerda para a direita)\n",
    "4. Somas e subtrações\n",
    "\n"
   ]
  },
  {
   "cell_type": "code",
   "execution_count": 16,
   "metadata": {
    "colab": {
     "base_uri": "https://localhost:8080/"
    },
    "id": "BXC2yGvYCI6f",
    "outputId": "d8d6c931-7b1e-46c5-aa09-670984776463"
   },
   "outputs": [
    {
     "data": {
      "text/plain": [
       "120"
      ]
     },
     "execution_count": 16,
     "metadata": {},
     "output_type": "execute_result"
    }
   ],
   "source": [
    "(10 + 2) * 10"
   ]
  },
  {
   "cell_type": "code",
   "execution_count": 18,
   "metadata": {
    "colab": {
     "base_uri": "https://localhost:8080/"
    },
    "id": "ks4RUhcUhdjc",
    "outputId": "a6d8f38d-22d8-40e0-caab-be088be40fe4"
   },
   "outputs": [
    {
     "name": "stdout",
     "output_type": "stream",
     "text": [
      "233.33333333333334\n"
     ]
    }
   ],
   "source": [
    "print(  (12 + 3 - 1) * 50 / 3  )"
   ]
  },
  {
   "cell_type": "code",
   "execution_count": null,
   "metadata": {
    "id": "G_GQmm_hiLbR"
   },
   "outputs": [],
   "source": []
  }
 ],
 "metadata": {
  "colab": {
   "name": "Operadores aritméticos.ipynb",
   "provenance": []
  },
  "kernelspec": {
   "display_name": "Python 3 (ipykernel)",
   "language": "python",
   "name": "python3"
  },
  "language_info": {
   "codemirror_mode": {
    "name": "ipython",
    "version": 3
   },
   "file_extension": ".py",
   "mimetype": "text/x-python",
   "name": "python",
   "nbconvert_exporter": "python",
   "pygments_lexer": "ipython3",
   "version": "3.11.5"
  }
 },
 "nbformat": 4,
 "nbformat_minor": 1
}
