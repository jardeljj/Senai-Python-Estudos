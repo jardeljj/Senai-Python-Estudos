{
 "cells": [
  {
   "cell_type": "markdown",
   "metadata": {
    "id": "aSUeTudrjcGe"
   },
   "source": [
    "# Strings\n",
    "\n",
    "O tipo String é usado principalmente para armazenar informações de texto, como o nome de uma pessoa, a marca de um carro ou um endereço. Nele temos uma sequência de caracteres que formam um texto. O Python permite formar strings com um par de aspas simples ou duplas."
   ]
  },
  {
   "cell_type": "markdown",
   "metadata": {
    "id": "341Bttv_jt_w"
   },
   "source": [
    "## String são case sensitive"
   ]
  },
  {
   "cell_type": "code",
   "execution_count": 1,
   "metadata": {
    "colab": {
     "base_uri": "https://localhost:8080/"
    },
    "id": "KUFocX4zkw13",
    "outputId": "b01a3b28-1f58-4a9d-890d-8808f835c2d1"
   },
   "outputs": [
    {
     "data": {
      "text/plain": [
       "False"
      ]
     },
     "execution_count": 1,
     "metadata": {},
     "output_type": "execute_result"
    }
   ],
   "source": [
    "'João' == 'joão'"
   ]
  },
  {
   "cell_type": "code",
   "execution_count": 2,
   "metadata": {
    "colab": {
     "base_uri": "https://localhost:8080/"
    },
    "id": "GlEwE6Gplgz7",
    "outputId": "7eb3c83b-3d5a-472b-cbc2-5fc72f76c4f4"
   },
   "outputs": [
    {
     "data": {
      "text/plain": [
       "False"
      ]
     },
     "execution_count": 2,
     "metadata": {},
     "output_type": "execute_result"
    }
   ],
   "source": [
    "'python' == 'pyThon'"
   ]
  },
  {
   "cell_type": "code",
   "execution_count": 3,
   "metadata": {
    "colab": {
     "base_uri": "https://localhost:8080/"
    },
    "id": "LXzEHwVGlmab",
    "outputId": "28085de5-4b4b-4b58-d6be-655e0e9e59b2"
   },
   "outputs": [
    {
     "data": {
      "text/plain": [
       "True"
      ]
     },
     "execution_count": 3,
     "metadata": {},
     "output_type": "execute_result"
    }
   ],
   "source": [
    "\"python\" == \"python\""
   ]
  },
  {
   "cell_type": "markdown",
   "metadata": {
    "id": "OV9A0rMQkxPd"
   },
   "source": [
    "## Podemos concatenar strings com o operador aritmético de adição"
   ]
  },
  {
   "cell_type": "code",
   "execution_count": 4,
   "metadata": {
    "id": "7Rn6bfktk8UL"
   },
   "outputs": [],
   "source": [
    "nome = 'João'\n",
    "sobrenome = 'Gonçalves'"
   ]
  },
  {
   "cell_type": "code",
   "execution_count": 5,
   "metadata": {
    "colab": {
     "base_uri": "https://localhost:8080/"
    },
    "id": "RjSFR3DUl0ji",
    "outputId": "83f2ed8a-db07-44e6-f60b-486fc17269e3"
   },
   "outputs": [
    {
     "name": "stdout",
     "output_type": "stream",
     "text": [
      "João Gonçalves\n"
     ]
    }
   ],
   "source": [
    "print(nome, sobrenome)"
   ]
  },
  {
   "cell_type": "code",
   "execution_count": 6,
   "metadata": {
    "colab": {
     "base_uri": "https://localhost:8080/"
    },
    "id": "3z8jYQjkl5nc",
    "outputId": "492ec705-3b28-4ded-f801-f9fd58bd4b53"
   },
   "outputs": [
    {
     "name": "stdout",
     "output_type": "stream",
     "text": [
      "JoãoGonçalves\n"
     ]
    }
   ],
   "source": [
    "print(nome + sobrenome)"
   ]
  },
  {
   "cell_type": "code",
   "execution_count": 7,
   "metadata": {
    "colab": {
     "base_uri": "https://localhost:8080/",
     "height": 35
    },
    "id": "050pOfZMmA3j",
    "outputId": "18dc155b-6e15-4f91-89d2-fee87af4f6d8"
   },
   "outputs": [
    {
     "data": {
      "text/plain": [
       "'abcd'"
      ]
     },
     "execution_count": 7,
     "metadata": {},
     "output_type": "execute_result"
    }
   ],
   "source": [
    "'a' + 'b' + 'c' + 'd'"
   ]
  },
  {
   "cell_type": "markdown",
   "metadata": {
    "id": "O1gkkdgqk8ta"
   },
   "source": [
    "## String são objetos iteráveis"
   ]
  },
  {
   "cell_type": "code",
   "execution_count": 8,
   "metadata": {
    "colab": {
     "base_uri": "https://localhost:8080/"
    },
    "id": "NQLtCwKDk_fh",
    "outputId": "6b328c2b-7f89-40bf-bafa-3d1681c3acc5"
   },
   "outputs": [
    {
     "name": "stdout",
     "output_type": "stream",
     "text": [
      "João\n"
     ]
    }
   ],
   "source": [
    "print(nome)"
   ]
  },
  {
   "cell_type": "code",
   "execution_count": 9,
   "metadata": {
    "colab": {
     "base_uri": "https://localhost:8080/",
     "height": 35
    },
    "id": "DYctIcAFmODJ",
    "outputId": "d3d14b8d-024a-42c2-8098-a1b9e43e7f88"
   },
   "outputs": [
    {
     "data": {
      "text/plain": [
       "'J'"
      ]
     },
     "execution_count": 9,
     "metadata": {},
     "output_type": "execute_result"
    }
   ],
   "source": [
    "nome[0]"
   ]
  },
  {
   "cell_type": "code",
   "execution_count": 12,
   "metadata": {
    "colab": {
     "base_uri": "https://localhost:8080/",
     "height": 35
    },
    "id": "rAtBj5oHmgjl",
    "outputId": "80455747-f914-4ceb-a0a4-f3c3ab744241"
   },
   "outputs": [
    {
     "data": {
      "text/plain": [
       "'o'"
      ]
     },
     "execution_count": 12,
     "metadata": {},
     "output_type": "execute_result"
    }
   ],
   "source": [
    "nome[1]"
   ]
  },
  {
   "cell_type": "code",
   "execution_count": 13,
   "metadata": {
    "colab": {
     "base_uri": "https://localhost:8080/",
     "height": 35
    },
    "id": "8Xuf4bO_mipl",
    "outputId": "83c26a5b-fdb8-4662-b4f1-f1835a9a45e7"
   },
   "outputs": [
    {
     "ename": "IndexError",
     "evalue": "string index out of range",
     "output_type": "error",
     "traceback": [
      "\u001b[1;31m---------------------------------------------------------------------------\u001b[0m",
      "\u001b[1;31mIndexError\u001b[0m                                Traceback (most recent call last)",
      "Cell \u001b[1;32mIn[13], line 1\u001b[0m\n\u001b[1;32m----> 1\u001b[0m nome[\u001b[38;5;241m4\u001b[39m]\n",
      "\u001b[1;31mIndexError\u001b[0m: string index out of range"
     ]
    }
   ],
   "source": [
    "nome[4]"
   ]
  },
  {
   "cell_type": "code",
   "execution_count": 14,
   "metadata": {
    "colab": {
     "base_uri": "https://localhost:8080/",
     "height": 35
    },
    "id": "uCCylc5QmlRh",
    "outputId": "eccab3c8-2b31-4722-9b7b-0a1dd8756862"
   },
   "outputs": [
    {
     "data": {
      "text/plain": [
       "'o'"
      ]
     },
     "execution_count": 14,
     "metadata": {},
     "output_type": "execute_result"
    }
   ],
   "source": [
    "nome[-1]"
   ]
  },
  {
   "cell_type": "code",
   "execution_count": 15,
   "metadata": {
    "colab": {
     "base_uri": "https://localhost:8080/",
     "height": 35
    },
    "id": "m93rteBTmqkY",
    "outputId": "f28cb7c7-e3d0-4fa7-c155-48f569cc9b18"
   },
   "outputs": [
    {
     "data": {
      "text/plain": [
       "'ã'"
      ]
     },
     "execution_count": 15,
     "metadata": {},
     "output_type": "execute_result"
    }
   ],
   "source": [
    "nome[-2]"
   ]
  },
  {
   "cell_type": "code",
   "execution_count": null,
   "metadata": {},
   "outputs": [],
   "source": []
  },
  {
   "cell_type": "code",
   "execution_count": null,
   "metadata": {},
   "outputs": [],
   "source": []
  },
  {
   "cell_type": "code",
   "execution_count": null,
   "metadata": {},
   "outputs": [],
   "source": []
  },
  {
   "cell_type": "code",
   "execution_count": null,
   "metadata": {},
   "outputs": [],
   "source": []
  },
  {
   "cell_type": "code",
   "execution_count": null,
   "metadata": {},
   "outputs": [],
   "source": []
  }
 ],
 "metadata": {
  "colab": {
   "name": "Strings.ipynb",
   "provenance": []
  },
  "kernelspec": {
   "display_name": "Python 3 (ipykernel)",
   "language": "python",
   "name": "python3"
  },
  "language_info": {
   "codemirror_mode": {
    "name": "ipython",
    "version": 3
   },
   "file_extension": ".py",
   "mimetype": "text/x-python",
   "name": "python",
   "nbconvert_exporter": "python",
   "pygments_lexer": "ipython3",
   "version": "3.11.5"
  }
 },
 "nbformat": 4,
 "nbformat_minor": 1
}
