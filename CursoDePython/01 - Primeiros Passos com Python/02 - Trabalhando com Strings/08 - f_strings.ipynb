{
 "cells": [
  {
   "cell_type": "markdown",
   "metadata": {
    "id": "HVdxVCxDq3Sd"
   },
   "source": [
    "# f-strings\n",
    "\n",
    "Também chamadas de **strings literais formatadas** *(formatted string literals)*, f-strings são strings com a letra f no início e chaves {} para realizar a interpolação de variáveis ou expressões."
   ]
  },
  {
   "cell_type": "code",
   "execution_count": 5,
   "metadata": {
    "id": "YJ6Wj0DCragk"
   },
   "outputs": [],
   "source": [
    "idade = 46"
   ]
  },
  {
   "cell_type": "code",
   "execution_count": 6,
   "metadata": {
    "colab": {
     "base_uri": "https://localhost:8080/"
    },
    "id": "5s3acSUirrBd",
    "outputId": "2972d117-ebf1-4545-e47e-cc5ec7b10122"
   },
   "outputs": [
    {
     "name": "stdout",
     "output_type": "stream",
     "text": [
      "46\n"
     ]
    }
   ],
   "source": [
    "print(idade)"
   ]
  },
  {
   "cell_type": "code",
   "execution_count": 7,
   "metadata": {
    "colab": {
     "base_uri": "https://localhost:8080/"
    },
    "id": "036s5LPorsKd",
    "outputId": "cc22211c-3f12-4fca-a3b8-d81f80840097"
   },
   "outputs": [
    {
     "name": "stdout",
     "output_type": "stream",
     "text": [
      "Meu nome é João e eu tenho 46 anos\n"
     ]
    }
   ],
   "source": [
    "print(f'Meu nome é João e eu tenho {idade} anos')"
   ]
  },
  {
   "cell_type": "code",
   "execution_count": 8,
   "metadata": {
    "id": "--uefl9Zry4H"
   },
   "outputs": [],
   "source": [
    "idade = 42"
   ]
  },
  {
   "cell_type": "code",
   "execution_count": 9,
   "metadata": {
    "colab": {
     "base_uri": "https://localhost:8080/"
    },
    "id": "HEVNrQjzsOg-",
    "outputId": "98958364-ba73-49e6-b221-89e5830b1adf"
   },
   "outputs": [
    {
     "name": "stdout",
     "output_type": "stream",
     "text": [
      "Meu nome é João e eu tenho 42 anos\n"
     ]
    }
   ],
   "source": [
    "print(f'Meu nome é João e eu tenho {idade} anos')"
   ]
  },
  {
   "cell_type": "code",
   "execution_count": 10,
   "metadata": {
    "colab": {
     "base_uri": "https://localhost:8080/"
    },
    "id": "8qMhtn6jsPQW",
    "outputId": "4416eb44-2f1a-41d5-c8c9-2c2e28a314db"
   },
   "outputs": [
    {
     "name": "stdout",
     "output_type": "stream",
     "text": [
      "Meu nome é João e eu tenho 46 anos\n"
     ]
    }
   ],
   "source": [
    "print(f'Meu nome é João e eu tenho {40 + 6} anos')"
   ]
  },
  {
   "cell_type": "code",
   "execution_count": 11,
   "metadata": {
    "id": "L6tBbk1AsYTN"
   },
   "outputs": [],
   "source": [
    "linguagem = 'Python'"
   ]
  },
  {
   "cell_type": "code",
   "execution_count": 12,
   "metadata": {
    "colab": {
     "base_uri": "https://localhost:8080/"
    },
    "id": "p1BSFGXJsc2_",
    "outputId": "9b660dc1-2ec5-4552-c275-bc0eb013b704"
   },
   "outputs": [
    {
     "name": "stdout",
     "output_type": "stream",
     "text": [
      "Eu estou aprendendo a programar em Python!\n"
     ]
    }
   ],
   "source": [
    "print(f'Eu estou aprendendo a programar em {linguagem}!')"
   ]
  },
  {
   "cell_type": "code",
   "execution_count": 13,
   "metadata": {
    "id": "fIjDiy7askLT"
   },
   "outputs": [],
   "source": [
    "linguagem = 'C#'"
   ]
  },
  {
   "cell_type": "code",
   "execution_count": 14,
   "metadata": {
    "colab": {
     "base_uri": "https://localhost:8080/"
    },
    "id": "XZPRbsS-stXd",
    "outputId": "10e1d2f5-0312-4ad6-ba01-f9e6f18ef925"
   },
   "outputs": [
    {
     "name": "stdout",
     "output_type": "stream",
     "text": [
      "Eu estou aprendendo a programar em C#!\n"
     ]
    }
   ],
   "source": [
    "print(f'Eu estou aprendendo a programar em {linguagem}!')"
   ]
  },
  {
   "cell_type": "code",
   "execution_count": null,
   "metadata": {
    "id": "ZQuu8roQsyK0"
   },
   "outputs": [],
   "source": []
  }
 ],
 "metadata": {
  "colab": {
   "name": "f-strings.ipynb",
   "provenance": []
  },
  "kernelspec": {
   "display_name": "Python 3 (ipykernel)",
   "language": "python",
   "name": "python3"
  },
  "language_info": {
   "codemirror_mode": {
    "name": "ipython",
    "version": 3
   },
   "file_extension": ".py",
   "mimetype": "text/x-python",
   "name": "python",
   "nbconvert_exporter": "python",
   "pygments_lexer": "ipython3",
   "version": "3.11.5"
  }
 },
 "nbformat": 4,
 "nbformat_minor": 1
}
