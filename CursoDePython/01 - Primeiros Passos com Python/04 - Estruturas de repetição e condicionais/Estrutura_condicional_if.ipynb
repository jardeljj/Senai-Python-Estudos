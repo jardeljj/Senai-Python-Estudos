{
 "cells": [
  {
   "cell_type": "markdown",
   "metadata": {
    "id": "S9ImDEJSuctO"
   },
   "source": [
    "# Estrutura condicional **if**\n",
    "\n",
    "Executa ou não um comando ou um bloco de comandos de acordo com o resultado de um teste condicional.\n",
    "\n",
    "- if significa \"se\"\n",
    "- testes lógicos podem utilizar os operadores lógicos (and, or e not)\n",
    "- estrutura condicional pode ser simples ou composta (else - \"senão\")\n",
    "\n"
   ]
  },
  {
   "cell_type": "code",
   "execution_count": null,
   "metadata": {
    "id": "qiWXyHI4vj-r"
   },
   "outputs": [],
   "source": [
    "idade = 20"
   ]
  },
  {
   "cell_type": "code",
   "execution_count": null,
   "metadata": {
    "id": "ntjjepIbwrcR"
   },
   "outputs": [],
   "source": [
    "if idade >= 18:\n",
    "  print('É maior de idade.')"
   ]
  },
  {
   "cell_type": "code",
   "execution_count": null,
   "metadata": {
    "colab": {
     "base_uri": "https://localhost:8080/"
    },
    "id": "YA1bifryw05H",
    "outputId": "f18a8226-e92d-4274-a0d7-300767d25353"
   },
   "outputs": [
    {
     "name": "stdout",
     "output_type": "stream",
     "text": [
      "É maior de idade.\n"
     ]
    }
   ],
   "source": [
    "if idade >= 18:\n",
    "  print('É maior de idade.')\n",
    "else:\n",
    "  print('Não é maior de idade.')"
   ]
  },
  {
   "cell_type": "code",
   "execution_count": 7,
   "metadata": {
    "id": "wXKnfvnMxWVQ"
   },
   "outputs": [],
   "source": [
    "idade = 12\n",
    "tem_carteira_motorista = True"
   ]
  },
  {
   "cell_type": "code",
   "execution_count": 8,
   "metadata": {
    "colab": {
     "base_uri": "https://localhost:8080/"
    },
    "id": "4jt-QrmVxqz7",
    "outputId": "8ded3849-370d-4434-b607-531f66cf66d2"
   },
   "outputs": [
    {
     "name": "stdout",
     "output_type": "stream",
     "text": [
      "adolescente\n"
     ]
    }
   ],
   "source": [
    "if idade >=18 and tem_carteira_motorista == True:\n",
    "  print('Pessoa pode dirigir!')\n",
    "elif idade >=11:\n",
    "    print('adolescente')\n",
    "else:\n",
    "  print('Pessoa não pode dirigir!')"
   ]
  },
  {
   "cell_type": "code",
   "execution_count": null,
   "metadata": {
    "colab": {
     "base_uri": "https://localhost:8080/"
    },
    "id": "Q4ux0vQAyRKi",
    "outputId": "3601ef84-aedd-44f9-e4b9-b0497ad0e715"
   },
   "outputs": [
    {
     "data": {
      "text/plain": [
       "False"
      ]
     },
     "execution_count": 23,
     "metadata": {},
     "output_type": "execute_result"
    }
   ],
   "source": [
    "False == True"
   ]
  },
  {
   "cell_type": "code",
   "execution_count": null,
   "metadata": {
    "id": "mqwDk-DI3kzM"
   },
   "outputs": [],
   "source": []
  }
 ],
 "metadata": {
  "colab": {
   "name": "Estrutura condicional - if.ipynb",
   "provenance": []
  },
  "kernelspec": {
   "display_name": "Python 3 (ipykernel)",
   "language": "python",
   "name": "python3"
  },
  "language_info": {
   "codemirror_mode": {
    "name": "ipython",
    "version": 3
   },
   "file_extension": ".py",
   "mimetype": "text/x-python",
   "name": "python",
   "nbconvert_exporter": "python",
   "pygments_lexer": "ipython3",
   "version": "3.11.7"
  }
 },
 "nbformat": 4,
 "nbformat_minor": 4
}
